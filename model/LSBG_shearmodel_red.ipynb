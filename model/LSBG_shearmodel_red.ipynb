{
 "cells": [
  {
   "cell_type": "markdown",
   "id": "ccc5566d",
   "metadata": {},
   "source": [
    "# Model for Red LSBG Tangential Shear Measurements "
   ]
  },
  {
   "cell_type": "markdown",
   "id": "7206352c",
   "metadata": {},
   "source": [
    "## Introduction"
   ]
  },
  {
   "cell_type": "markdown",
   "id": "0b1471f7",
   "metadata": {},
   "source": [
    "Low surface brightness galaxies (LSBGs) are diffuse galaxies with a surface brightness fainter than the ambient night sky. Due to their faintness, using traditional observational techniques proves challenging. Weak gravitational lensing probes both the baryonic and dark matter content of these galaxies.\n",
    "\n",
    "In this notebook, we build a model to to represent the red LSBG tangential shear measurements. We base the model around two NFW profiles. The first NFW profile characterizes the smaller-scale subhalo component of the tangential shear measurements. The second NFW profile represents the larger-scale (>14 arcmin) host halo component of the measurements. We utilize the [Planck15](https://arxiv.org/abs/1502.01589) cosmology for consistency with [Sifon et al. 2021](https://arxiv.org/pdf/1704.07847.pdf). We rely on [profiley](https://github.com/cristobal-sifon/profiley) to implement the NFW profiles. \n",
    "\n",
    "Note: The DES source file ('2pt_NG_final_2ptunblind_02_24_21_wnz_redmagic_covupdate.fits') is too large to upload into github and is available upon request"
   ]
  },
  {
   "cell_type": "markdown",
   "id": "a9cc9fd5",
   "metadata": {},
   "source": [
    "## Imports"
   ]
  },
  {
   "cell_type": "markdown",
   "id": "d0e9d9d2",
   "metadata": {},
   "source": [
    "* We use numpy for numerical calculation and analysis\n",
    "* We use matplotlib for plotting and visualization\n",
    "* We use twopoint to load in the source redshift distribution file\n",
    "* We use scipy for statistical analysis\n",
    "* We use profiley to generate the NFW profiles \n",
    "* We use astropy to set up the cosmology\n",
    "* We use colossus to set up the concentration for the NFW profiles"
   ]
  },
  {
   "cell_type": "code",
   "execution_count": 1,
   "id": "d9cf3268",
   "metadata": {},
   "outputs": [
    {
     "data": {
      "text/plain": [
       "<colossus.cosmology.cosmology.Cosmology at 0x7f8cf0e59ca0>"
      ]
     },
     "execution_count": 1,
     "metadata": {},
     "output_type": "execute_result"
    }
   ],
   "source": [
    "#Loading packages\n",
    "import numpy as np\n",
    "import matplotlib.pyplot as plt\n",
    "%matplotlib inline\n",
    "import twopoint\n",
    "from profiley.nfw import NFW\n",
    "import scipy.stats as stats\n",
    "from astropy.cosmology import Planck15\n",
    "import colossus\n",
    "from colossus.cosmology import cosmology\n",
    "from colossus.halo import concentration\n",
    "plt.rc('text', usetex=True)\n",
    "plt.rc('font', family='serif')\n",
    "from astropy import units as u\n",
    "cosmology.setCosmology('planck15')\n"
   ]
  },
  {
   "cell_type": "markdown",
   "id": "26075823",
   "metadata": {},
   "source": [
    "## Loading Data"
   ]
  },
  {
   "cell_type": "markdown",
   "id": "82d33a1c",
   "metadata": {},
   "source": [
    "We load in the red LSBG tangential shear measurements (calculated using [TreeCorr](https://rmjarvis.github.io/TreeCorr/_build/html/index.html)) found in the data file of this repository. Theta_red represents the angular scales of the measurements (in arcminutes), xi_red indicates the shear signal, error_red stands for the shape noise, cov_red is the jackknife covariance matrix, and err_jk_red represents the error derived from the jackknife covariance. We use a modified version of the clustering redshifts method to derive the redshift distribution, as described in the LSBG_redshiftdistribution.ipynb notebook. We load in the redshift distribution from the data file."
   ]
  },
  {
   "cell_type": "code",
   "execution_count": 2,
   "id": "91b58349",
   "metadata": {},
   "outputs": [],
   "source": [
    "#Loading measurements\n",
    "theta_red, xi_red, error_red, cross_term_red = np.loadtxt('../data/gt_LSBG_red', unpack=True)\n",
    "theta_red, xi_red, err_jk_red, cross_term_red = np.loadtxt('../data/gt_LSBG_jackknife_red', unpack=True)\n",
    "cov_red = np.loadtxt('../data/gt_jkcov_red')\n",
    "zldist_red = np.loadtxt('../data/zldist_red')\n",
    "zldist_red_cov = np.loadtxt('../data/zldist_red_cov')"
   ]
  },
  {
   "cell_type": "markdown",
   "id": "5aae0a30",
   "metadata": {},
   "source": [
    "We load in the source redshift distributions (T)."
   ]
  },
  {
   "cell_type": "code",
   "execution_count": 3,
   "id": "e4315360",
   "metadata": {},
   "outputs": [],
   "source": [
    "#Loading in the source redshift catalog\n",
    "T = twopoint.TwoPointFile.from_fits('../data/2pt_NG_final_2ptunblind_02_24_21_wnz_redmagic_covupdate.fits') "
   ]
  },
  {
   "cell_type": "markdown",
   "id": "30d9d1b1",
   "metadata": {},
   "source": [
    "## Function Definitions"
   ]
  },
  {
   "cell_type": "markdown",
   "id": "1b4c6a93",
   "metadata": {},
   "source": [
    "We define each of the functions used in this notebook, grouped here for ease of access. "
   ]
  },
  {
   "cell_type": "markdown",
   "id": "1bb946dd",
   "metadata": {},
   "source": [
    "We define two functions to calculate the $\\chi^2$ and $\\Delta \\chi^2$ to determine the quality of the fit between a model and a dataset or between two models, respectively. The $\\chi ^2$ function (chi2) extracts the difference between the tangential shear measurements and the model: $$ (\\gamma_{t_d} - \\gamma_{t_m}) \\times \\mathrm{C}^{-1} \\times (\\gamma _{t_d} - \\gamma_{t_m}). $$ $\\gamma_{t_d}$ represents the tangential shear measurements, $\\gamma_{t_m}$ indicates the model, and $\\mathrm{C}^{-1}$ stands for the inverse of the covariance matrix. $\\Delta \\chi^2$ characterizes the difference between two models: $$(\\gamma_{t_{m1}} - \\gamma_{t_{m2}}) \\times \\mathrm{C}^{-1} \\times (\\gamma_{t_{m1}} - \\gamma_{t_{m2}}). $$ The $\\chi^2$ statistic depends on the jackknife covariance, but the inverse of this matrix is biased and noisy. We correct for this bias by using the Hartlap-Kaufman factor ([Hartlap et al. 2007](https://arxiv.org/pdf/astro-ph/0608064.pdf)). The Hartlap-Kaufman factor scales the inverse of the covariance matrix by: $$f = (n-m-2)/(n-1),$$ with $n$ as the number of realizations (100, for our jackknife patches) and $m$ as the number of entries in the data vectors (22, for the number of angular bins). "
   ]
  },
  {
   "cell_type": "code",
   "execution_count": 4,
   "id": "06546cc8",
   "metadata": {},
   "outputs": [],
   "source": [
    "def hartlap(n=None, m=None):\n",
    "    \"\"\"\n",
    "    Calculates the hartlap factor\n",
    "    \n",
    "    n = number of realizations (in our case 100)\n",
    "    m = number of data entries (in our case 22)\n",
    "    \n",
    "    Returns: hartlap factor\n",
    "    \"\"\"\n",
    "    hartlap_factor = (n - m - 2)/ float(n-1)\n",
    "    return hartlap_factor"
   ]
  },
  {
   "cell_type": "code",
   "execution_count": 5,
   "id": "26760a35",
   "metadata": {},
   "outputs": [],
   "source": [
    "def chi2(cov=None, model=None, measurements=None, n=None, m=None):\n",
    "    \"\"\"\n",
    "    Calculates the chi^2, i.e. the quantifiable difference between a model and measurements\n",
    "    \n",
    "    cov = jackknife covariance matrix\n",
    "    model = chosen model\n",
    "    measurements = tangential shear measurements\n",
    "    n = number of realizations\n",
    "    m = number of data entries\n",
    "    \n",
    "    Returns: chi^2\n",
    "    \"\"\"\n",
    "    invcov = np.linalg.inv(cov)\n",
    "    chi2_bias = np.dot((measurements-model).T, np.dot(invcov, (measurements-model)))\n",
    "    hartlap_factor = hartlap(n=n, m=m)\n",
    "    chi2 = chi2_bias*hartlap_factor\n",
    "    return chi2\n"
   ]
  },
  {
   "cell_type": "code",
   "execution_count": 6,
   "id": "237f1501",
   "metadata": {},
   "outputs": [],
   "source": [
    "def deltachi2(cov=None, model_1=None, model_2=None, n=None, m=None):\n",
    "    \"\"\"\n",
    "    Calculates the delta chi^2, the quantifiable difference between two models\n",
    "    \n",
    "    cov = jackknife covariance matrix\n",
    "    model1 = first model\n",
    "    model2 = second model\n",
    "    n = number of realizations \n",
    "    m = number of data entries\n",
    "    \n",
    "    Returns: delta chi^2\n",
    "    \"\"\"\n",
    "    invcov = np.linalg.inv(cov)\n",
    "    INVCOV = np.matrix(invcov)\n",
    "    diff = np.matrix((model_1).T[0]-(model_2).T[0])\n",
    "    deltachi2_bias = diff*INVCOV*diff.T\n",
    "    hartlap_factor = hartlap(n=n, m=m)\n",
    "    deltachi2 = deltachi2_bias*hartlap_factor\n",
    "    \n",
    "    return deltachi2"
   ]
  },
  {
   "cell_type": "markdown",
   "id": "9d60157a",
   "metadata": {},
   "source": [
    "### Normal Distribution"
   ]
  },
  {
   "cell_type": "markdown",
   "id": "9adbca05",
   "metadata": {},
   "source": [
    "We define a function that builds a normal distribution. We primarily use this function to build the normalized radial offset distribution. The function creates a range of possible values derived from the chosen mean and width ($\\sigma_\\mathrm{off}$). The function builds a Gaussian distribution over this range (dist) and calculates a normalization factor (A_norm). To obtain the final normalized distribution, the distribution is divided by the normalization factor (dist_norm).\n"
   ]
  },
  {
   "cell_type": "code",
   "execution_count": 7,
   "id": "c7570d83",
   "metadata": {},
   "outputs": [],
   "source": [
    "def normalization(mean=None, sigma=None, size=None):\n",
    "    \"\"\"\n",
    "    Calculates the normalized distribution for the radial offset\n",
    "    \n",
    "    mean = mean of distribution \n",
    "    sigma = spread of distribution\n",
    "    size = size of distribution\n",
    "           \n",
    "    Returns: range of distribution (func_range), distribution, normalizing factor (A_norm), and normalized distribution (dist_norm)\n",
    "    \"\"\"\n",
    "    func_range = np.linspace(mean-2*sigma, mean + 2*sigma, size)  \n",
    "    dist = stats.norm.pdf(func_range, mean, sigma) \n",
    "    A_norm = np.trapz(dist) \n",
    "    dist_norm = dist/A_norm\n",
    "    return func_range, dist, A_norm, dist_norm"
   ]
  },
  {
   "cell_type": "markdown",
   "id": "52c84954",
   "metadata": {},
   "source": [
    "### Source Redshift Distribution "
   ]
  },
  {
   "cell_type": "markdown",
   "id": "72cc50fc",
   "metadata": {},
   "source": [
    "We define a function that weights the four source redshift bins by galaxy count and combines them into a single source redshift distribution. We sum the weighted source redshift bins over the predefined source redshift distribution range, and integrate over the combined distribution to find and divide by the normalization factor. In addition, we plot the four weighted source redshift bins and superimpose the combined source redshift distribution as a visualization exercise. We calculate the mean of the source redshift distribution."
   ]
  },
  {
   "cell_type": "code",
   "execution_count": 8,
   "id": "7fa84d9a",
   "metadata": {},
   "outputs": [],
   "source": [
    "def mean_source_redshift(nzs=None, zsbin=None, galcount=None):\n",
    "    \"\"\"\n",
    "    Builds and plots combined source redshift distribution, returns the mean of the distribution\n",
    "    \n",
    "    nzs = normalized redshift counts\n",
    "    zsbin = spread of redshift distribution\n",
    "    galcount = galaxy counts per bin\n",
    "    \n",
    "    Returns: mean of the total source redshift distribution\n",
    "    \"\"\"\n",
    "    nzs_galcount_total = np.sum(galcount)\n",
    "    bins_weighted = []\n",
    "    for i in range(4):\n",
    "        bin_weighted = (nzs[i]*galcount[i]/nzs_galcount_total)\n",
    "        bins_weighted.append(bin_weighted)\n",
    "    zsdist = np.sum(bins_weighted, axis=0) \n",
    "    A_zs= np.trapz(zsdist)\n",
    "    zsdist_norm = zsdist/A_zs\n",
    "    z_mean_s = np.average(zsbin, weights=zsdist_norm)\n",
    "    plt.figure(figsize=(6,4.5))\n",
    "    for i in range(4):\n",
    "        plt.plot(zsbin, bins_weighted[i], label='Source Bin '+str(i+1))\n",
    "    plt.plot(zsbin, zsdist_norm, color='black', label='Combined Source Bins') \n",
    "    plt.legend(frameon=False, fontsize=16)\n",
    "    plt.xlabel('$z$', fontsize=16)\n",
    "    plt.ylabel('$n(z)$', fontsize=16)\n",
    "    plt.title('Source Redshift Distribution', fontsize=16)\n",
    "    plt.xlim(0.0, 2.8)\n",
    "    plt.tick_params(labelsize=14)\n",
    "    plt.show()\n",
    "    return z_mean_s"
   ]
  },
  {
   "cell_type": "markdown",
   "id": "37888ad5",
   "metadata": {},
   "source": [
    "### NFW Profile "
   ]
  },
  {
   "cell_type": "markdown",
   "id": "f01b4434",
   "metadata": {},
   "source": [
    "We define a function that walks through the first few steps of generating an NFW profile and the $\\Sigma_\\mathrm{crit}$ factor. \n",
    "\n",
    "\n",
    "The NFW profile describes the density of dark matter as a function of the distance from the center of a galaxy or cluster. The density profile at a radius r is given by: $$\\rho_\\mathrm{NFW} (r) = \\frac{\\rho_s}{r/r_s(1+r/r_s)^2}. $$ $r _s$ represents the scale radius, defined as $$r_s = \\frac{r_{200}}{c_s}.$$ $c_s$ represents the concentration of the halo and $r_{200}$ denotes the virial radius, or the radius at which the mean density of the halo reaches 200 times the critical density of the universe. $\\rho_s$ indicates the characteristic density of the halo, or the density of the dark matter halo within the scale radius. The characteristic density can be derived from the halo mass, scale radius, and concentration through: $$\\rho_s = \\frac{M_\\mathrm{200c}}{4\\pi r_s^3(\\ln(1+c_s) - c_s/(1+c_s))}. $$ $M_\\mathrm{200c}$ stands for the effective halo mass of the sample. \n",
    "\n",
    "The $\\Sigma_\\mathrm{crit}$ factor is a geometrical factor that varies with the specifics of the lensing system. The factor is defined as $$\\Sigma_\\mathrm{crit} (z_L, z_S) = \\frac{c^2}{4\\pi G} \\frac{D_S}{D_{LS}D_L}.$$ $z_l$ and $z_s$ indicate the lens and source redshift, $c$ represents the speed of light, and $D_S$, $D_L$, and $D_{LS}$ characterize the respective angular diameter distances to the source, the lens, and between the source and lens. \n",
    "\n",
    "We calculate the angular diameter distance at a specified lens redshift based on the 'Planck15' cosmology (da). To obtain the physical radii of the halos, we multiply this redshift by the angular separations (r_mpc). We calculate the NFW profile based on the mass, concentration, and lens redshift. Using this NFW profile and the source redshift, we calculate the $\\Sigma_\\mathrm{crit}$ factor. "
   ]
  },
  {
   "cell_type": "code",
   "execution_count": 9,
   "id": "6e8ec585",
   "metadata": {},
   "outputs": [],
   "source": [
    "def nfw_generation(mass=None, zl=None, zs=None, scales=None):\n",
    "    \"\"\"\n",
    "    Calculates a simple NFW profile and sigma_crit factor at a single lens and source redshift\n",
    "    \n",
    "    mass = mass of the halo (solar masses)\n",
    "    zl = lens redshift\n",
    "    zs = source redshift\n",
    "    scales = angular scales (angular separations in arcmin)\n",
    "    \n",
    "    Returns: angular diameter distance at lens redshift, physical radii at that redshift, NFW profile, and sigma_crit factor\n",
    "    \"\"\"\n",
    "    da = Planck15.angular_diameter_distance(zl) \n",
    "    r_mpc = da*scales \n",
    "    concentration_xi = concentration.concentration(mass, '200c', zl, 'ishiyama21')\n",
    "    nfw = NFW(mass, concentration_xi, zl, overdensity=200, background='c') \n",
    "    sigma_crit = nfw.sigma_crit([zs])\n",
    "    return da, r_mpc, nfw, sigma_crit"
   ]
  },
  {
   "cell_type": "markdown",
   "id": "fc9983ab",
   "metadata": {},
   "source": [
    "### Subhalo Model"
   ]
  },
  {
   "cell_type": "markdown",
   "id": "df2751a9",
   "metadata": {},
   "source": [
    "We define a function that returns the modeled tangential shear profile for the subhalo integrated over the lens redshift distribution. \n",
    "\n",
    "We use the NFW profile to calculate the excess surface density ($\\Delta \\Sigma(R)$), the fraction of mass above the average surface mass density in a region at the projected radius $R$. The excess surface density determines the deflection of light for gravitational lensing events. It can be broken into two components: the projected surface density $\\Sigma(R)$ at the radius $R$, and the cumulative surface density $\\Sigma(<R)$ within the radius $R$. We define the cumulative surface density as: $$\\Sigma(<R) = \\frac{2}{R^2}\\int_0^R \\chi \\Sigma(\\chi) d\\chi, $$ where $\\chi$ represents the distance along the line of sight. We define the projected surface density as: $$\\Sigma(R) = 2\\int_0^{+\\infty} \\rho_\\mathrm{NFW} (\\sqrt{\\chi^2+R^2}) d\\chi.$$ The NFW profile thus becomes a mediator between the halo mass and the excess surface density. \n",
    "\n",
    "With the excess surface density and the $\\Sigma_\\mathrm{crit}$ factor, we can model the tangential shear profile for  individual lens and source redshifts as $$\\gamma_{t,\\mathrm{sub}}(z_S, z_L, \\theta) = \\frac{\\Delta\\Sigma(R(\\theta, z_L))}{\\Sigma_\\mathrm{crit}(z_L, z_S)}.$$ We convert the calculated shear profile back to angular scales, evaluate the calculated shear profile at each lens redshift, multiply by the indexed value of the normalized lens redshift distribution, and integrate over the lens redshift distribution to obtain the shear profile. Our model becomes: $$\\gamma_{t,\\mathrm{sub},\\mathrm{pop}}(\\theta) = \\int \\gamma_{t}(z_S, z_L,\\theta) \\times n(z_{L}) dz_L.$$"
   ]
  },
  {
   "cell_type": "code",
   "execution_count": 10,
   "id": "6e629a55",
   "metadata": {},
   "outputs": [],
   "source": [
    "def subhalo_generation(zlrange=None, zldist_norm=None, mass=None, zs=None, scales=None):\n",
    "    \"\"\"\n",
    "    Calculates the tangential shear profile for the subhalo integrated over the lens redshift distribution\n",
    "    \n",
    "    zlrange = range of lens redshifts\n",
    "    zldist_norm = normalized lens redshift distribution\n",
    "    mass = mass of subhalo (solar masses)\n",
    "    zs = source redshift\n",
    "    scales = angular separations (radians)\n",
    "    \n",
    "    Returns: tangential shear model for subhalo term integrated over lens redshift distribution\n",
    "    \"\"\"\n",
    "    gt_list = []\n",
    "    for i, xi in enumerate(zlrange):\n",
    "        da, r_mpc, nfw, sigma_crit = nfw_generation(mass=mass, zl=xi, zs=zs, scales=scales)\n",
    "        esd = nfw.projected_excess(r_mpc)\n",
    "        gt = esd/sigma_crit \n",
    "        gt_norm = gt*zldist_norm[i]\n",
    "        gt_list.append(gt_norm) \n",
    "    gt_term1 = np.trapz(np.array(gt_list), axis=0)\n",
    "    return(gt_term1)"
   ]
  },
  {
   "cell_type": "markdown",
   "id": "9bc84aed",
   "metadata": {},
   "source": [
    "### Offset Distribution"
   ]
  },
  {
   "cell_type": "markdown",
   "id": "55e431ad",
   "metadata": {},
   "source": [
    "We define a function that produces a normalized offset distribution corresponding to each lens redshift. \n",
    "\n",
    "The host halo term dominates at larger scales than the subhalo term, therefore our model must incorporate an offset reference point for the projected radius. Visual inspection of the tangential shear measurements indicates that this shift occurs at an angular separation of around ~40 arcmin. Based on this reference point, we construct a distribution of offset distances. At each lens redshift, we calculate the physical radius at the angular separation of the offset (marker_roff). We define the spread of the distribution as the the physical radius divided by 3 (sigma_roff). We find that an offset distribution of this width is a good fit to the data. We construct a range, distribution, normalization factor, and normalized distribution of offsets by utilizing the *normalization* function. After looping through all of the lens redshifts, we integrate the normalized offset distribution over the offset range so that a single normalized offset value corresponds to each redshift. "
   ]
  },
  {
   "cell_type": "code",
   "execution_count": 11,
   "id": "7449a6a9",
   "metadata": {},
   "outputs": [],
   "source": [
    "def offset_generation(offset=None, zl=None, size_off=None):\n",
    "    \"\"\"\n",
    "    Calculates the normalized offset distribution corresponding to a lens redshift\n",
    "    \n",
    "    offset = angular separation of offset (arcmin)\n",
    "    zl =  lens redshifts\n",
    "    size_off = size of offset distribution\n",
    "    \n",
    "    Returns: offset distribution,  normalized offset distribution\n",
    "    \"\"\"\n",
    "    da = Planck15.angular_diameter_distance(zl) \n",
    "    offset_rad = (offset/60)*(np.pi/180)\n",
    "    marker_roff = np.array(offset_rad*da)\n",
    "    sigma_roff = marker_roff/3\n",
    "    r_off_range, r_off_dist, A_off, r_off_norm = normalization(mean=marker_roff, sigma=sigma_roff, size=size_off)\n",
    "    return r_off_range, r_off_dist, r_off_norm"
   ]
  },
  {
   "cell_type": "markdown",
   "id": "bda0e859",
   "metadata": {},
   "source": [
    "### Host Halo Model"
   ]
  },
  {
   "cell_type": "markdown",
   "id": "3ea09bfb",
   "metadata": {},
   "source": [
    "We define a function that returns the modeled shear profile for the host halo integrated over the lens redshift distribution and the offset distribution. \n",
    "\n",
    "We use the NFW profile to calculate the excess surface density. However, the host halo term dominates at larger scales than the subhalo profile. We must manufacture an offset excess surface density profile, where the reference point of the projection is shifted from the center of the profile. We define this profile as $$\\Sigma_\\mathrm{off} (R, R_\\mathrm{off}) = \\frac{1}{2\\pi}\\int_0^{2\\pi} \\Sigma(\\sqrt{R_\\mathrm{off}^2 + R^2 +2RR_\\mathrm{off}\\cos\\theta})d\\theta, $$ where $R_\\mathrm{off}$ indicates the projected physical distance between the new reference point and the center of the profile and $\\theta$ represents a range between 0 and $2\\pi$ to calculate the angular integral. With this offset surface density profile, the tangential shear model for a single lens and source redshift becomes: $$\\gamma_{t, \\mathrm{host}}(\\theta,\\theta_\\mathrm{off}) = \\frac{\\Delta \\Sigma (R, R_\\mathrm{off})}{\\Sigma_\\mathrm{crit}(z_{L}, z_{S})}.$$\n",
    "\n",
    "We evaluate the tangential shear profile at each individual redshift, multiply by the indexed value of the normalized lens redshift distribution and the normalized offset distribution, convert to angular scales, and integrate over the lens redshift distribution and the offset distribution to obtain the tangential shear profile. Our model becomes: $$\\gamma_{t,\\mathrm{host},\\mathrm{pop}}(\\theta, \\theta_\\mathrm{off}) = \\int \\int  \\gamma_{t}(z_S, z_L,\\theta, \\theta_\\mathrm{off}) \\times n(R_{\\mathrm{off}}) \\times n(z_{L}) dR_\\mathrm{off} dz_L.$$"
   ]
  },
  {
   "cell_type": "code",
   "execution_count": 12,
   "id": "42c29db4",
   "metadata": {},
   "outputs": [],
   "source": [
    "def hosthalo_generation(zlrange=None, zldist_norm=None, mass=None, zs=None, scales=None, offset=None, size_off=None):\n",
    "    \"\"\"\n",
    "    Calculates the tangential shear profile for the host halo integrated over the offset distribution and lens redshift distribution\n",
    "    \n",
    "    zlrange = range of lens redshifts\n",
    "    zldist_norm = normalized redshift distribution\n",
    "    mass = mass of host halo (solar masses)\n",
    "    zs = source redshift\n",
    "    scales = angular separation (radians)\n",
    "    offset = offset angular separation (arcminutes)\n",
    "    size_off = size of offset distribution\n",
    "    \n",
    "    Returns: tangential shear model for the host halo term integrated over the offset distribution and lens redshift distribution \n",
    "    \"\"\"\n",
    "    gt_list = []\n",
    "    for i, xi in enumerate(zlrange):\n",
    "        da, r_mpc, nfw, sigma_crit = nfw_generation(mass=mass, \n",
    "                                                    zl=xi, zs = zs, scales=scales)\n",
    "        r_off_range, r_off_dist, r_off_norm = offset_generation(offset=offset, zl=xi, size_off=size_off)\n",
    "        esd = nfw.offset_projected_excess(np.array(r_mpc), np.array(r_off_range))\n",
    "        gt = np.reshape(esd/sigma_crit, (size_off, 22))\n",
    "        gt_norm_roff = gt*r_off_norm[:, np.newaxis] \n",
    "        gt_norm = gt_norm_roff*zldist_norm[i]\n",
    "        gt_list.append(gt_norm)\n",
    "    gt_roff_int = np.trapz(np.array(gt_list), axis=1) \n",
    "    gt_term2 = np.reshape(np.trapz(gt_roff_int, axis=0), (22,1))\n",
    "    return gt_term2\n"
   ]
  },
  {
   "cell_type": "markdown",
   "id": "2a1cce3a",
   "metadata": {},
   "source": [
    "### Total Tangential Shear Model"
   ]
  },
  {
   "cell_type": "markdown",
   "id": "b1a14556",
   "metadata": {},
   "source": [
    "We define a function that produces the total tangential shear model.\n",
    "\n",
    "The total tangential shear signal combines the stellar, subhalo, and host halo tangential shear terms. Given that the stellar tangential shear signal dominates at unobservable small scales, we define our final shear model as a sum of the subhalo and host halo tangential shear terms: $$\\gamma_t = \\gamma _{t,\\mathrm{sub}}(\\theta) + \\gamma_{t,\\mathrm{host}}(\\theta, R_\\mathrm{off})$$ \n",
    "\n",
    "We calculate the lens redshift distribution, the subhalo tangential shear term, the host halo tangential shear term, and the combined total model. "
   ]
  },
  {
   "cell_type": "code",
   "execution_count": 13,
   "id": "f1d2101b",
   "metadata": {},
   "outputs": [],
   "source": [
    "def total_model_func(subhalo_mass=None, hosthalo_mass=None, zs=None, zlrange=None, zldist=None,\n",
    "                     offset=None, size_off=None, scales=None):\n",
    "    \"\"\"\n",
    "    Calculates the total shear profile model\n",
    "    \n",
    "    subhalo_mass = subhalo mass (solar mass units)\n",
    "    hosthalo_mass = host halo mass (solar mass units)\n",
    "    zs = source redshift\n",
    "    zlrange = range of lens redshift distribution\n",
    "    zldist = lens redshift distribution\n",
    "    offset = offset angular separation (arcmin)\n",
    "    size_off = size of offset distribution\n",
    "    scales = angular separations (radians)\n",
    "    \n",
    "    Returns: total model, subhalo model, host halo model\n",
    "    \"\"\"\n",
    "\n",
    "    gt_term1 = subhalo_generation(zlrange=zlrange, zldist_norm=zldist, mass=subhalo_mass, zs=zs, scales=scales) \n",
    "    gt_term2 = hosthalo_generation(zlrange=zlrange, zldist_norm=zldist, mass=hosthalo_mass, zs=zs, scales=scales, offset=offset, size_off=size_off)\n",
    "    total_model = (gt_term1 + gt_term2)\n",
    "    return total_model, gt_term1, gt_term2 "
   ]
  },
  {
   "cell_type": "markdown",
   "id": "6f1403db",
   "metadata": {},
   "source": [
    "## Defining Parameters"
   ]
  },
  {
   "cell_type": "markdown",
   "id": "24529076",
   "metadata": {},
   "source": [
    "We define the parameters for the construction of the source redshift distribution, the lens redshift distribution, and the tangential shear model."
   ]
  },
  {
   "cell_type": "markdown",
   "id": "3a85b0bc",
   "metadata": {},
   "source": [
    "### Source Redshift Distribution Parameters"
   ]
  },
  {
   "cell_type": "markdown",
   "id": "3c3af8d2",
   "metadata": {},
   "source": [
    "We overlay the combined source redshift distribution on the four weighted tomographic redshift bins and define the mean source redshift. "
   ]
  },
  {
   "cell_type": "code",
   "execution_count": 14,
   "id": "a39c61e3",
   "metadata": {},
   "outputs": [
    {
     "data": {
      "image/png": "[encoded data removed]",
      "text/plain": [
       "<Figure size 432x324 with 1 Axes>"
      ]
     },
     "metadata": {
      "needs_background": "light"
     },
     "output_type": "display_data"
    },
    {
     "name": "stdout",
     "output_type": "stream",
     "text": [
      "0.6312412596033679\n"
     ]
    }
   ],
   "source": [
    "nzs = (T.kernels[0].nzs) #Galaxy counts\n",
    "zsbin = (T.kernels[0].z) #Source redshift spread\n",
    "galcount = np.array([24940465,25280405,24891859,25091297]) #Number of galaxies per bin\n",
    "zs = mean_source_redshift(nzs, zsbin, galcount) #Mean source redshift\n",
    "print(zs)"
   ]
  },
  {
   "cell_type": "markdown",
   "id": "4fe66fe9",
   "metadata": {},
   "source": [
    "We define the lens redshift range and plot the lens redshift distribution."
   ]
  },
  {
   "cell_type": "code",
   "execution_count": 15,
   "id": "39d506ab",
   "metadata": {},
   "outputs": [],
   "source": [
    "zlrange = np.linspace(0.005, 0.135, 14)"
   ]
  },
  {
   "cell_type": "code",
   "execution_count": 16,
   "id": "a2c775f0",
   "metadata": {},
   "outputs": [
    {
     "data": {
      "image/png": "[encoded data removed]",
      "text/plain": [
       "<Figure size 432x324 with 1 Axes>"
      ]
     },
     "metadata": {
      "needs_background": "light"
     },
     "output_type": "display_data"
    }
   ],
   "source": [
    "plt.figure(figsize=(6,4.5))\n",
    "plt.errorbar(zlrange, zldist_red, np.sqrt(np.diag(zldist_red_cov)), marker='o', color='firebrick')\n",
    "plt.xlabel('$z$', fontsize=16)\n",
    "plt.ylabel('$n(z)$', fontsize=16)\n",
    "plt.title('Lens Redshift Distribution', fontsize=16)\n",
    "plt.show()"
   ]
  },
  {
   "cell_type": "markdown",
   "id": "0901912b",
   "metadata": {},
   "source": [
    "### Tangential Shear Model Parameters"
   ]
  },
  {
   "cell_type": "markdown",
   "id": "8998fa9a",
   "metadata": {},
   "source": [
    "We define the parameters for the tangential shear model. We establish two mass parameters corresponding to the subhalo and host halo terms. We include both best-fit and upper bound parameters. We define the angular separations (derived from the shear measurements) and convert them from arcminutes to radians (theta_rad). We set up the mean offset angular separation (offset, arcminutes). We define the number of realizations (n) and the number of data entries (m) to calculate the Hartlap-Kaufman factor. "
   ]
  },
  {
   "cell_type": "code",
   "execution_count": 17,
   "id": "d139b7da",
   "metadata": {},
   "outputs": [],
   "source": [
    "theta_rad = theta_red/60*np.pi/180 \n",
    "subhalo_mass = 10**7.0\n",
    "subhalo_mass_upper = 10**11.51\n",
    "hosthalo_mass = 10**12.98\n",
    "hosthalo_mass_upper = 10**12.96\n",
    "offset = 36.6\n",
    "offset_upper =  37.14 \n",
    "n = 100\n",
    "m = 22"
   ]
  },
  {
   "cell_type": "markdown",
   "id": "8219e158",
   "metadata": {},
   "source": [
    "## Tangential Shear Model"
   ]
  },
  {
   "cell_type": "markdown",
   "id": "38fbcc98",
   "metadata": {},
   "source": [
    "We call for two iterations of the total tangential shear model, corresponding to best-fit and upper bound parameters. "
   ]
  },
  {
   "cell_type": "code",
   "execution_count": 18,
   "id": "34c4e280",
   "metadata": {},
   "outputs": [],
   "source": [
    "#Call for model\n",
    "total_model_bestfit = total_model_func(subhalo_mass = subhalo_mass, hosthalo_mass = hosthalo_mass, zs = zs, zlrange=zlrange, zldist=zldist_red,\n",
    "                          offset = offset, size_off = 40, scales = theta_rad)\n",
    "\n",
    "total_model_upperbound = total_model_func(subhalo_mass = subhalo_mass_upper, hosthalo_mass = hosthalo_mass_upper, zs = zs, zlrange=zlrange, zldist=zldist_red,\n",
    "                          offset = offset_upper, size_off = 40, scales = theta_rad)"
   ]
  },
  {
   "cell_type": "markdown",
   "id": "d472b085",
   "metadata": {},
   "source": [
    "### Tangential Shear Model Plot"
   ]
  },
  {
   "cell_type": "markdown",
   "id": "facb1fbf",
   "metadata": {},
   "source": [
    "We compare the tangential shear models to the red LSBG shear measurements. We calculate the physical radius at the mean redshift to define an additional x-axis of physical radii. The errorbars on the measurements come from the jackknife covariance. As a note, we plot the absolute value of the shear measurements. The triangle marker indicates that the selected datapoint has a negative value."
   ]
  },
  {
   "cell_type": "code",
   "execution_count": 19,
   "id": "55cf0455",
   "metadata": {},
   "outputs": [],
   "source": [
    "da_rmpc = Planck15.angular_diameter_distance(0.041)\n",
    "r_mpc_scales = (da_rmpc)*theta_rad"
   ]
  },
  {
   "cell_type": "code",
   "execution_count": 20,
   "id": "c76c189e",
   "metadata": {},
   "outputs": [
    {
     "data": {
      "image/png": "[encoded data removed]",
      "text/plain": [
       "<Figure size 432x324 with 2 Axes>"
      ]
     },
     "metadata": {
      "needs_background": "light"
     },
     "output_type": "display_data"
    }
   ],
   "source": [
    "#Plotting measurements over angular scales \n",
    "fig, ax1 = plt.subplots(figsize=(6,4.5), ncols=1)\n",
    "for i in range(len(theta_red)):\n",
    "        if xi_red[i]>0:\n",
    "            ax1.errorbar(theta_red, xi_red, err_jk_red, fmt=\"o\", color='firebrick')\n",
    "        if xi_red[i]<=0:\n",
    "            ax1.errorbar(theta_red, -1*xi_red, err_jk_red, fmt=\"v\", color='firebrick')\n",
    "ax2 = ax1.twiny()\n",
    "\n",
    "#Plotting model over physical scales\n",
    "ax2.plot(r_mpc_scales, total_model_bestfit[0], color='firebrick', label = 'Total Model (Best Fit)')\n",
    "ax2.plot(r_mpc_scales, total_model_upperbound[0], ls='--', color='firebrick', label = 'Total Model (Upper Bound)')\n",
    "\n",
    "ax1.set_ylabel(r'$\\gamma_t(\\theta, R)$', fontsize=16)\n",
    "ax1.set_xlabel('$\\\\theta$ [arcmin]', fontsize=16)\n",
    "ax2.set_xlabel('R [Mpc]', fontsize=16)\n",
    "\n",
    "ax2.legend(frameon=False, fontsize=16)\n",
    "plt.tick_params(axis='both', labelsize=14)\n",
    "ax1.set_xscale('log')\n",
    "ax1.set_yscale('log')\n",
    "ax1.set_ylim(1e-5, 1e-2)\n",
    "ax2.set_xscale('log')\n",
    "ax2.set_yscale('log')\n",
    "plt.show()\n"
   ]
  },
  {
   "cell_type": "markdown",
   "id": "e8acb2f7",
   "metadata": {},
   "source": [
    "We include the $\\chi^2$ calculations between the model and the red LSBG tangential shear measurements to evaluate the strength of the fit."
   ]
  },
  {
   "cell_type": "code",
   "execution_count": 21,
   "id": "13f8ef1c",
   "metadata": {},
   "outputs": [
    {
     "name": "stdout",
     "output_type": "stream",
     "text": [
      "[[26.15954394]]\n",
      "[[10.60103865]]\n"
     ]
    }
   ],
   "source": [
    "#Chi2 calculation between model and measurements\n",
    "chi2_upper = chi2(cov=cov_red, model=total_model_upperbound[0], measurements=np.reshape(xi_red, (22,1)), n=n, m=m)\n",
    "print(chi2_upper)\n",
    "\n",
    "chi2_total = chi2(cov=cov_red, model=total_model_bestfit[0], measurements=np.reshape(xi_red, (22,1)), n=n, m=m)\n",
    "print(chi2_total)"
   ]
  },
  {
   "cell_type": "code",
   "execution_count": null,
   "id": "6d44b7bf",
   "metadata": {},
   "outputs": [],
   "source": []
  },
  {
   "cell_type": "code",
   "execution_count": null,
   "id": "ab286c3e",
   "metadata": {},
   "outputs": [],
   "source": []
  }
 ],
 "metadata": {
  "kernelspec": {
   "display_name": "Python 3 (ipykernel)",
   "language": "python",
   "name": "python3"
  },
  "language_info": {
   "codemirror_mode": {
    "name": "ipython",
    "version": 3
   },
   "file_extension": ".py",
   "mimetype": "text/x-python",
   "name": "python",
   "nbconvert_exporter": "python",
   "pygments_lexer": "ipython3",
   "version": "3.9.12"
  }
 },
 "nbformat": 4,
 "nbformat_minor": 5
}

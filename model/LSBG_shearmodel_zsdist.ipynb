{
 "cells": [
  {
   "cell_type": "markdown",
   "id": "2e065df4",
   "metadata": {},
   "source": [
    "# Model for Red Low Surface Brightness Galaxies (Source Redshift Distribution)"
   ]
  },
  {
   "cell_type": "markdown",
   "id": "0a5c6f98",
   "metadata": {},
   "source": [
    "Low surface brightness galaxies (LSBGs) are diffuse galaxies with a surface brightness less than the ambient night sky. Given their faintness, the use of traditional astronomical techniques for observation proves challenging. Weak gravitational lensing probes both the baryonic and dark matter content of these galaxies, rendering it a powerful technique to estimate LSBG masses. Weak gravitational lensing averages the shear, or distortion, of thousands of images of background galaxies to extract the distortion caused by the lens object. The large counts of lens-source pairs enable us to find a preferred tangential alignment of source galaxies around lens galaxies: the tangential shear. In this notebook, we walk through generating a model over a distribution of lens and source redshifts to represent the tangential shear measurements for the red sample of the low surface brightness galaxy catalog. We base the model around two NFW profiles. NFW profiles represent the distribution of dark matter in galaxies and galaxy clusters. The first NFW profile characterizes the smaller-scale subhalo component of the tangential shear measurements. The second NFW profile represents the larger-scale (>14 arcmin) host halo component of the measurements. We compare the results of this model to a tangential shear model using only on a lens redshift distribution. We utilize the 'Planck15' cosmology for consistency with [Sifon et al. 2021](https://arxiv.org/pdf/1704.07847.pdf). We rely on [profiley](https://github.com/cristobal-sifon/profiley) to implement the NFW profiles. "
   ]
  },
  {
   "cell_type": "markdown",
   "id": "a9cc9fd5",
   "metadata": {},
   "source": [
    "## Imports"
   ]
  },
  {
   "cell_type": "markdown",
   "id": "021de99e",
   "metadata": {},
   "source": [
    "* We use numpy for numerical calculation and analysis\n",
    "* We use matplotlib for plotting and visualization\n",
    "* We use twopoint to load in the source redshift distribution file\n",
    "* We use scipy to create distributions\n",
    "* We use profiley to generate the NFW profiles \n",
    "* We use astropy to set up the cosmology"
   ]
  },
  {
   "cell_type": "code",
   "execution_count": 14,
   "id": "bcbccb78",
   "metadata": {},
   "outputs": [],
   "source": [
    "#Loading packages\n",
    "import numpy as np\n",
    "import matplotlib.pyplot as plt\n",
    "%matplotlib inline\n",
    "import twopoint\n",
    "from profiley.nfw import NFW\n",
    "import scipy.stats as stats\n",
    "from astropy.cosmology import Planck15\n",
    "plt.rc('text', usetex=True)\n",
    "plt.rc('font', family='serif')"
   ]
  },
  {
   "cell_type": "markdown",
   "id": "a91b4b32",
   "metadata": {},
   "source": [
    "## Loading Data"
   ]
  },
  {
   "cell_type": "markdown",
   "id": "a82113b3",
   "metadata": {},
   "source": [
    "We load in the red LSBG measurements (calculated using [TreeCorr](https://rmjarvis.github.io/TreeCorr/_build/html/index.html)) found in the data file of this repository. We select the red LSBG shear measurements due to their strong signal. Theta_red represents the angular scales of the measurements, xi_red indicates the shear signal, error_red stands for the shape noise, cov designates the jackknife covariance matrix, and err_jk_red represents the error derived from the jackknife covariance. The blue and total galaxy samples can be found in the data file for additional testing. "
   ]
  },
  {
   "cell_type": "code",
   "execution_count": 15,
   "id": "5dbaf436",
   "metadata": {},
   "outputs": [],
   "source": [
    "#Loading measurements\n",
    "theta_red, xi_red, error_red, cross_term_red = np.loadtxt('../data/gt_LSBG_combined_sources_scales_3_red_ran', unpack=True)\n",
    "theta_red, xi_red, err_jk_red, cross_term_red = np.loadtxt('../data/gt_LSBG_jackknife_combined_sources_scales_3_red_ran', unpack=True)\n",
    "cov = np.loadtxt('../data/jkcov_gt_LSBG_combined_sources_scales_3_red_ran')\n"
   ]
  },
  {
   "cell_type": "markdown",
   "id": "3ec574b4",
   "metadata": {},
   "source": [
    "We load in the source redshift distributions (T). The shear catalog is divided into four tomographic bins. "
   ]
  },
  {
   "cell_type": "code",
   "execution_count": 16,
   "id": "719ec45b",
   "metadata": {},
   "outputs": [],
   "source": [
    "#Loading in the source redshift catalog\n",
    "T = twopoint.TwoPointFile.from_fits('../data/2pt_NG_final_2ptunblind_02_24_21_wnz_redmagic_covupdate.fits') #Loading files"
   ]
  },
  {
   "cell_type": "markdown",
   "id": "a77cb69c",
   "metadata": {},
   "source": [
    "## Function Definitions"
   ]
  },
  {
   "cell_type": "markdown",
   "id": "28bec846",
   "metadata": {},
   "source": [
    "We define two functions to calculate the $\\Delta \\chi^2$ to determine the quality of the fit between a model and a dataset or between two models. The $\\chi ^2$ function (chi2) extracts the difference between the shear measurements and a model. This function follows the equation: $$ (\\gamma_{t_d} - \\gamma_{t_m}) \\times \\mathrm{cov}^{-1} \\times (\\gamma _{t_d} - \\gamma_{t_m}). $$ $\\gamma_{t_d}$ represents the tangential shear measurements, $\\gamma_{t_m}$ indicates the model, and $\\mathrm{cov}^{-1}$ stands for the inverse of the covariance. The $\\Delta \\chi^2$ characterizes the difference between two models: $$(\\gamma_{t_{m1}} - \\gamma_{t_{m2}}) \\times \\mathrm{cov}^{-1} \\times (\\gamma_{t_{m1}} - \\gamma_{t_{m2}}). $$\n",
    "The $\\chi^2$ statistic depends on the jackknife covariance, but the inverse of this matrix is biased and noisy. We correct for this bias by using the Hartlap factor ([Hartlap et al. 2007](https://arxiv.org/pdf/astro-ph/0608064.pdf)). The Hartlap factor scales the inverse of the covariance matrix by: $$f = (n-m-2)/(n-1),$$ with $n$ as the number of realizations (100, for our jackknife patches) and $m$ as the number of entries in the data vectors (25, for the number of angular bins). "
   ]
  },
  {
   "cell_type": "code",
   "execution_count": 17,
   "id": "978ac372",
   "metadata": {},
   "outputs": [],
   "source": [
    "def hartlap(n=None, m=None):\n",
    "    \"\"\"\n",
    "    Calculates the hartlap factor\n",
    "    \n",
    "    n = number of realizations (in our case 100)\n",
    "    m = number of data entries (in our case 25)\n",
    "    \n",
    "    Returns: hartlap factor\n",
    "    \"\"\"\n",
    "    hartlap_factor = (n - m - 2)/ float(n-1)\n",
    "    return hartlap_factor\n"
   ]
  },
  {
   "cell_type": "code",
   "execution_count": 18,
   "id": "1dd5682d",
   "metadata": {},
   "outputs": [],
   "source": [
    "def chi2(cov=None, model=None, measurements=None, n=None, m=None):\n",
    "    \"\"\"\n",
    "    Calculates the chi^2, i.e. the quantifiable difference between a model and measurements, modified by the hartlap\n",
    "    \n",
    "    cov = jackknife covariance matrix\n",
    "    model = chosen model\n",
    "    measurements = shear measurements\n",
    "    n = number of realizations (100)\n",
    "    m = number of data entries\n",
    "    \n",
    "    Returns: chi^2\n",
    "    \"\"\"\n",
    "    invcov = np.linalg.inv(cov)\n",
    "    chi2_bias = np.dot((measurements-model).T, np.dot(invcov, (measurements-model)))\n",
    "    hartlap_factor = hartlap(n=n, m=m)\n",
    "    chi2 = chi2_bias*hartlap_factor\n",
    "    return chi2\n"
   ]
  },
  {
   "cell_type": "code",
   "execution_count": 19,
   "id": "4a4feabc",
   "metadata": {},
   "outputs": [],
   "source": [
    "def deltachi2(cov=None, model_1=None, model_2=None, n=None, m=None):\n",
    "    \"\"\"\n",
    "    Calculates the delta chi^2, the quantifiable difference between two models\n",
    "    \n",
    "    cov = jackknife covariance matrix\n",
    "    model1 = first model\n",
    "    model2 = second model\n",
    "    \n",
    "    Returns: delta chi^2\n",
    "    \"\"\"\n",
    "    invcov = np.linalg.inv(cov)\n",
    "    INVCOV = np.matrix(invcov)\n",
    "    diff = np.matrix((model_1).T[0]-(model_2).T[0])\n",
    "    deltachi2_bias = diff*INVCOV*diff.T\n",
    "    hartlap_factor = hartlap(n=n, m=m)\n",
    "    deltachi2 = deltachi2_bias*hartlap_factor\n",
    "    return deltachi2"
   ]
  },
  {
   "cell_type": "markdown",
   "id": "cc91f143",
   "metadata": {},
   "source": [
    "We define a function that normalizes distributions. \n",
    "\n",
    "For the 'zl' or lens redshift distribution, the function constructs a range of possible redshifts centered around a mean lens redshift (func_range). The function then builds a Gaussian distribution over this range of redshifts (dist), calculates a normalization factor by integrating over the Gaussian (A_norm), and divides the redshift distribution by the normalizing factor to produce a normalized distribution (dist_norm).\n",
    "\n",
    "For the 'off' or offset distance distribution, the function creates a range of possible offsets derived from the chosen offset ($\\mu$). This range stretches from 0 to $\\mu + 2\\times \\sqrt{\\mu}$ (func_range). The function builds a Gaussian distribution over this range of offsets (dist) and calculates a normalizing factor (A_norm). To obtain the final normalized distribution, we divide the distribution by the normalizing factor (dist_norm)."
   ]
  },
  {
   "cell_type": "code",
   "execution_count": 20,
   "id": "3cc9da44",
   "metadata": {},
   "outputs": [],
   "source": [
    "def normalization(mean=None, sigma=None, size=None, func=None):\n",
    "    \"\"\"\n",
    "    Calculates the normalized distribution for the lens redshift and offset\n",
    "    \n",
    "    mean = mean or central marker for selected distribution \n",
    "    sigma = spread of distribution\n",
    "    size = size of distribution\n",
    "    func = distribution type (zl for lens redshift, off for offset, zs for source redshift)\n",
    "    \n",
    "    Returns: range of distribution (func_range), distribution, normalizing factor (A_norm), and normalized distribution (dist_norm)\n",
    "    \"\"\"\n",
    "    if (func=='zl'):  \n",
    "        func_range = np.linspace(mean - 2*sigma, mean + 2*sigma, size) \n",
    "        dist = stats.norm.pdf(func_range, mean, sigma) \n",
    "        A_norm = np.trapz(dist) \n",
    "        dist_norm = dist/A_norm\n",
    "    if (func=='off'):\n",
    "        func_range = np.linspace(0, mean + 2*sigma, size) \n",
    "        dist = stats.norm.pdf(func_range, mean, sigma) \n",
    "        A_norm = np.trapz(dist) \n",
    "        dist_norm = dist/A_norm\n",
    "    return func_range, dist, A_norm, dist_norm"
   ]
  },
  {
   "cell_type": "markdown",
   "id": "949ee625",
   "metadata": {},
   "source": [
    "We define a function that weights the four source redshift bins by galaxy count and combines them into a single source redshift distribution. Over the predefined source redshift distribution range, we sum the weighted source redshift bins, derive the normalization factor by integrating over the combined distribution, and find the normalized distribution by dividing over the normalization factor."
   ]
  },
  {
   "cell_type": "code",
   "execution_count": 21,
   "id": "d66099a6",
   "metadata": {},
   "outputs": [],
   "source": [
    "def source_redshift_dist(nzs=None, zsbin=None, galcount=None):\n",
    "    \"\"\"\n",
    "    Builds combined source redshift distribution\n",
    "    \n",
    "    nzs = normalized redshift counts\n",
    "    zsbin = spread of redshift distribution\n",
    "    galcount = galaxy counts per bin\n",
    "    \n",
    "    Returns: mean of source redshift distribution, weighted bins, normalized source redshift distribution, source redshift distribution \n",
    "    \"\"\"\n",
    "    nzs_galcount_total = np.sum(galcount)\n",
    "    bins_weighted = []\n",
    "    for i in range(4):\n",
    "        bin_weighted = (nzs[i]*galcount[i]/nzs_galcount_total)\n",
    "        bins_weighted.append(bin_weighted)\n",
    "    zsdist = np.sum(bins_weighted, axis=0)\n",
    "    A_zs = np.trapz(zsdist)\n",
    "    zsdist_norm = zsdist/A_zs\n",
    "    z_mean_s = np.average(zsbin, weights=zsdist_norm)\n",
    "    return z_mean_s, bins_weighted, zsdist_norm, zsdist"
   ]
  },
  {
   "cell_type": "markdown",
   "id": "b6b0eaba",
   "metadata": {},
   "source": [
    "We define a function that walks through the first few steps of generating an NFW profile and the $\\Sigma_\\mathrm{crit}$ factor at a single lens and source redshift. \n",
    "\n",
    "\n",
    "The NFW profile describes the density of dark matter as a function of the distance from the center of a galaxy or cluster. The density profile at a radius r is given by: $$\\rho_\\mathrm{NFW} (r) = \\frac{\\rho_s}{r/r_s(1+r/r_s)^2}. $$ $r _s$ represents the scale radius, defined as $$r_s = \\frac{r_{200}}{c_s}.$$ $c_s$ represents the concentration of the halo and $r_{200}$ denotes the virial radius, or the radius at which the mean density of the halo reaches 200 times the critical density of the universe. $\\rho_s$ indicates the characteristic density of the halo, or the density of the dark matter halo within the scale radius. The characteristic density can be derived from the halo mass, scale radius, and concentration through: $$\\rho_s = \\frac{M_\\mathrm{halo}}{4\\pi r_s^3(\\ln(1+c_s) - c_s/(1+c_s))}. $$ $M_\\mathrm{halo}$ stands for the effective halo mass of the sample. \n",
    "\n",
    "The $\\Sigma_\\mathrm{crit}$ factor is a geometrical factor that varies with the specifics of the lensing system. The factor is defined as $$\\Sigma_\\mathrm{crit} (z_L, z_S) = \\frac{c^2}{4\\pi G} \\frac{D_S}{D_{LS}D_L}.$$ $z_l$ and $z_s$ designate the lens and source redshift, $c$ represents the speed of light, and $D_S$, $D_L$, and $D_{LS}$ characterize the respective angular diameter distances to the source, the lens, and between the source and lens. \n",
    "\n",
    "We calculate the angular diameter distance at a specified redshift given the 'Planck15' cosmology (da). To obtain the physical radii of the halos, we multiply this redshift by the angular separations (r_mpc). We calculate the NFW profile based on the mass, concentration, and lens redshift."
   ]
  },
  {
   "cell_type": "code",
   "execution_count": 22,
   "id": "74eea192",
   "metadata": {},
   "outputs": [],
   "source": [
    "def nfw_generation(mass=None, concentration=None, zl=None, scales=None):\n",
    "    \"\"\"\n",
    "    Calculates a simple NFW profile at a single lens and source redshift\n",
    "    \n",
    "    mass = mass of the halo\n",
    "    concentration = of the halo\n",
    "    zl = lens redshift\n",
    "    zs = source redshift\n",
    "    scales = angular scales (angular separations that are converted into physical radii using redshift)\n",
    "    \n",
    "    Returns: angular diameter distance at lens redshift, physical radii at that redshift, NFW profile\n",
    "    \"\"\"\n",
    "    da = Planck15.angular_diameter_distance(zl) \n",
    "    r_mpc = da*scales \n",
    "    nfw = NFW(mass, concentration, zl) \n",
    "    return da, r_mpc, nfw"
   ]
  },
  {
   "cell_type": "markdown",
   "id": "006a5651",
   "metadata": {},
   "source": [
    "We define a function that returns the modeled tangential shear profile for the subhalo integrated over the lens redshift distribution and the source redshift distribution. \n",
    "\n",
    "We use the NFW profile to calculate the excess surface density ($\\Delta \\Sigma(R)$), the amount of mass above the average surface mass density in a region at the projected radius $R$. The excess surface density determines the deflection of light for gravitational lensing events. It can be broken into two components: the projected surface density $\\Sigma(R)$ at the radius $R$, and the cumulative surface density $\\Sigma(<R)$ within the radius $R$. We define the cumulative surface density as: $$\\Sigma(<R) = \\frac{2}{R^2}\\int_0^R r\\Sigma(r) dr, $$ where r represents the varying physical radius. We define the projected surface density as: $$\\Sigma(R) = 2\\int_0^{+\\infty} \\rho_\\mathrm{NFW} (\\sqrt{r^2+R^2}) dr.$$ The NFW profile thus becomes a mediator between the halo mass and the excess surface density. \n",
    "\n",
    "With the excess surface density and the $\\Sigma_\\mathrm{crit}$ factor, we can model the tangential shear profile for  individual lens and source redshifts as $$\\gamma_{t,i,j, \\mathrm{sub}} = \\frac{\\Delta\\Sigma(R)}{\\Sigma_\\mathrm{crit}(z_{L,i}, z_{S,j})}.$$ We evaluate the calculated shear profile at each individual redshift, multiply by the indexed value of the normalized lens redshift distribution, and integrate over the full lens redshift distribution to obtain the full shear profile over the redshift distribution. Our model becomes: $$\\gamma_{t, \\mathrm{sub}, \\mathrm{pop}}(R) = \\int \\int \\gamma_{t, i, j}(R) \\times N(z_{L, i})\\times N(z_{S, j}) dz_L dz_S.$$"
   ]
  },
  {
   "cell_type": "code",
   "execution_count": 23,
   "id": "5044c6e2",
   "metadata": {},
   "outputs": [],
   "source": [
    "def subhalo_generation(zlrange=None, zldist_norm=None, size_zl=None, zsbin=None, zsdist_norm=None, mass=None, concentration=None, scales=None):\n",
    "    \"\"\"\n",
    "    Calculates the shear profile for the subhalo integrated over the lens redshift distribution and source redshift distribution \n",
    "    \n",
    "    zlrange = range of lens redshifts\n",
    "    zldist_norm = normalized lens redshift distribution\n",
    "    size_zl = size of lens redshift distribution\n",
    "    zsbin = range of source redshifts\n",
    "    zsdist_norm = normalized source redshift distribution\n",
    "    mass = mass of subhalo\n",
    "    concentration = density of subhalo\n",
    "    scales = angular separations\n",
    "    \n",
    "    Returns: tangential shear model for subhalo term integrated over lens redshift distribution and source redshift distribution \n",
    "    \"\"\"\n",
    "    esd_list = []\n",
    "    sigma_crit_list = []\n",
    "    for i, xi in enumerate(zlrange):\n",
    "        da, r_mpc, nfw = nfw_generation(mass=mass, concentration=concentration, zl=xi, scales=scales)\n",
    "        esd = nfw.projected_excess(r_mpc) \n",
    "        esd_norm = esd*zldist_norm[i]\n",
    "        esd_list.append(esd_norm)\n",
    "        for y, qi in enumerate(zsbin):\n",
    "            sigma_crit = nfw.sigma_crit([qi])\n",
    "            sigma_crit_norm = (1/sigma_crit)*zsdist_norm[y]\n",
    "            sigma_crit_list.append(sigma_crit_norm)\n",
    "    sigma_crit_list = np.reshape(sigma_crit_list, (size_zl, len(zsbin)))\n",
    "    sigma_crit_list_int = np.trapz(sigma_crit_list, axis=1)\n",
    "    gt_term1 = np.trapz(esd_list, axis=0)*np.trapz(sigma_crit_list_int)\n",
    "    return gt_term1"
   ]
  },
  {
   "cell_type": "markdown",
   "id": "4a0eac52",
   "metadata": {},
   "source": [
    "We define a function that produces a normalized offset distribution corresponding to each lens redshift. The offset has no relationship with the source redshift, thus we do not need to incorporate the source redshift into our calculations. \n",
    "\n",
    "\n",
    "The host halo term dominates at larger scales than the subhalo term, therefore our model must incorporate an offset reference point for the projected radius. Observation of the tangential shear measurements indicates that this shift occurs at an angular separation of around ~14 arcmin. Based on this reference point, we construct a distribution of offset distances. At each lens redshift, we calculate the physical radius at the angular separation of the offset (marker_roff). We define the spread of the distribution as the square root of the physical radius (sigma_roff). We construct a range, distribution, normalization factor, and normalized distribution of offsets by utilizing the *normalization* function. After looping through all of the lens redshifts, we integrate the normalized offset distribution over the offset range so that a single normalized offset value corresponds to each redshift. "
   ]
  },
  {
   "cell_type": "code",
   "execution_count": 47,
   "id": "ab562030",
   "metadata": {},
   "outputs": [],
   "source": [
    "def offset_generation(offset=None, zl=None, size_off=None):\n",
    "    \"\"\"\n",
    "    Calculates the normalized offset distribution corresponding to a single lens redshift\n",
    "    \n",
    "    offset = angular separation of offset\n",
    "    zl = lens redshift\n",
    "    size = size of offset distribution\n",
    "    \n",
    "    Returns: offset distributions, list of normalized offset distributions\n",
    "    \"\"\"\n",
    "    da = Planck15.angular_diameter_distance(zl) \n",
    "    marker_roff = np.array(offset*da) \n",
    "    sigma_roff = np.sqrt(marker_roff) \n",
    "    r_off_range, r_off_dist, A_off, r_off_norm = normalization(mean=marker_roff, sigma=sigma_roff, size=size_off, func='off')  \n",
    "    return r_off_dist, r_off_norm"
   ]
  },
  {
   "cell_type": "markdown",
   "id": "77e20ff3",
   "metadata": {},
   "source": [
    "We define a function that returns the modeled shear profile for the host halo integrated over the lens redshift distribution, the source redshift distribution, and the offset distribution. \n",
    "\n",
    "We use the NFW profile to calculate the excess surface density. However, the host halo term dominates at larger scales than the subhalo profile. We must calculate an offset excess surface density profile, where the reference point of the projection is shifted from the center of the profile. We define this profile as $$\\Sigma_\\mathrm{off} (R, R_\\mathrm{off}) = \\frac{1}{2\\pi}\\int_0^{2\\pi} \\Sigma(\\sqrt{R_\\mathrm{off}^2 + R^2 +2RR_\\mathrm{off}\\cos\\theta})d\\theta, $$ where $R_\\mathrm{off}$ indicates the projected physical distance between the new reference point and the center of the profile and $\\theta$ represents a range between 0 and $2\\pi$ to calculate the angular integral. With this offset surface density profile, the tangential shear model for a single lens and source redshift becomes: $$\\gamma_{t\\mathrm{host}} = \\frac{\\Delta \\Sigma (R, R_\\mathrm{off})}{\\Sigma_\\mathrm{crit}(z_{L,i}, z_{S,j})}.$$\n",
    "\n",
    "We evaluate the tangential shear profile at each individual redshift, multiply by the indexed value of the normalized lens redshift distribution, the normalized source redshift distribution, and the normalized offset distribution, and integrate over the lens redshift distribution, the source redshift distribution, and the offset distribution to obtain the tangential shear profile. Our model becomes: $$\\gamma_{t\\mathrm{host}\\mathrm{pop}}(R, R_\\mathrm{off}) = \\int \\int \\int  \\gamma_{t,i, j} \\times N(z_{L, i}) \\times N(z_{S, j}) \\times N(R_{\\mathrm{off}, i}) dR_\\mathrm{off} dz_L dz_S.$$"
   ]
  },
  {
   "cell_type": "code",
   "execution_count": 61,
   "id": "e4ffa502",
   "metadata": {},
   "outputs": [],
   "source": [
    "def hosthalo_generation(zlrange=None, zldist_norm=None, size_zl=None, zsbin=None, zsdist_norm=None, mass=None, \n",
    "                        concentration=None, scales=None, offset=None, size_off=None):\n",
    "    \"\"\"\n",
    "    Calculates the tangential shear profile for the host halo integrated over the offset distribution, lens redshift distribution, and source redshift distribution\n",
    "    \n",
    "    zlrange = range of lens redshifts\n",
    "    zldist_norm = normalized redshift distribution\n",
    "    size_zl = size of lens redshift distribution\n",
    "    zsbin = range of source redshift distribution\n",
    "    zsdist_norm = normalized source redshift distribution \n",
    "    mass = mass of host halo\n",
    "    concentration = density of host halo\n",
    "    scales = angular separation\n",
    "    offset = offset angular separation\n",
    "    size_off = size of offset distribution\n",
    "    \n",
    "    Returns: tangential shear model for the host halo term integrated over the offset distribution, the lens redshift distribution, and the source redshift distribution\n",
    "    \"\"\"\n",
    "    esd_list = []\n",
    "    sigma_crit_list = []\n",
    "    for i, xi in enumerate(zlrange):\n",
    "        da, r_mpc, nfw = nfw_generation(mass=mass, concentration=concentration, \n",
    "                                                    zl=xi, scales=theta_rad)\n",
    "        r_off_dist, r_off_norm = offset_generation(offset=offset, zl=xi, size_off=size_off)\n",
    "        esd = nfw.offset_projected_excess(np.array(r_mpc), np.array(r_off_dist)) \n",
    "        esd_norm = np.trapz(esd, axis=0)*zldist_norm[i]*r_off_norm\n",
    "        esd_list.append(esd_norm)\n",
    "        for y, qi in enumerate(zsbin):\n",
    "            sigma_crit = nfw.sigma_crit([qi])\n",
    "            sigma_crit_norm = (1/sigma_crit)*zsdist_norm[y]\n",
    "            sigma_crit_list.append(sigma_crit_norm)\n",
    "    esd_list_int = np.trapz(esd_list, axis=2)\n",
    "    sigma_crit_list = np.reshape(sigma_crit_list, (size_zl, len(zsbin)))\n",
    "    sigma_crit_list_int = np.trapz(sigma_crit_list, axis=1)\n",
    "    gt_term2 = np.reshape(np.trapz(esd_list_int, axis=0)*np.trapz(sigma_crit_list_int), (25,1))\n",
    "    return gt_term2"
   ]
  },
  {
   "cell_type": "markdown",
   "id": "f1f4d0dc",
   "metadata": {},
   "source": [
    "We define a function that produces the total tangential shear model.\n",
    "\n",
    "The total tangential shear signal combines the stellar, subhalo, and host halo tangential shear terms. Given that the stellar tangential shear signal dominates at unobservable small scales, we define our final shear model as a sum of the subhalo and host halo tangential shear terms: $$\\gamma_t = \\gamma _{t\\mathrm{sub}}(R) + \\gamma_{t\\mathrm{host}}(R, R_\\mathrm{off})$$ \n",
    "\n",
    "We calculate the lens redshift distribution, source redshift distribution, the subhalo tangential shear term, the host halo tangential shear term, and the combined total model. "
   ]
  },
  {
   "cell_type": "code",
   "execution_count": 54,
   "id": "035ea96e",
   "metadata": {},
   "outputs": [],
   "source": [
    "def total_model_func(mass_term1=None, mass_term2=None, concentration=None, zl_mean=None, zl_sigma=None, \n",
    "                     size_zl=None, nzs=None, zsbin=None, galcount=None, offset=None, size_off=None, scales=None):\n",
    "    \"\"\"\n",
    "    Calculates the total tangential shear profile model\n",
    "    \n",
    "    mass_term1 = subhalo mass\n",
    "    mass_term2 = host halo mass\n",
    "    concentration = density of halo\n",
    "    zl_mean = mean of lens redshift distribution\n",
    "    zl_sigma = spread of lens redshfit distribution\n",
    "    size_zl = size of lens redshift distribution\n",
    "    nzs = normalized source redshift counts\n",
    "    zsbin = range of source redshift distribution\n",
    "    galcount = array of galaxy counts/source redshift bin\n",
    "    offset = offset angular separation\n",
    "    size_off = size of offset distribution\n",
    "    scales = angular separation\n",
    "    \n",
    "    Returns: total model, subhalo model, host halo model\n",
    "    \"\"\"\n",
    "\n",
    "    zlrange, zldist, A_zl, zldist_norm = normalization(mean=zl_mean, sigma=zl_sigma, size=size_zl, func='zl') \n",
    "    \n",
    "    z_mean_s, bins_weighted, zsdist_norm, zsdist = source_redshift_dist(nzs, zsbin, galcount)\n",
    "    \n",
    "    gt_term1 = subhalo_generation(zlrange=zlrange, zldist_norm=zldist_norm, size_zl=size_zl, zsbin=zsbin, \n",
    "                                  zsdist_norm=zsdist_norm, mass=mass_term1, concentration=concentration, scales=scales) \n",
    "    gt_term2 = hosthalo_generation(zlrange=zlrange, zldist_norm=zldist_norm, size_zl=size_zl, zsbin=zsbin, zsdist_norm=zsdist_norm, \n",
    "                                   mass=mass_term2, concentration=concentration, scales=scales, offset=offset, size_off=size_off)\n",
    "    \n",
    "    total_model = gt_term1 + gt_term2 \n",
    "    return total_model, gt_term1, gt_term2 "
   ]
  },
  {
   "cell_type": "markdown",
   "id": "5d205f23",
   "metadata": {},
   "source": [
    "## Defining Parameters"
   ]
  },
  {
   "cell_type": "markdown",
   "id": "9d926129",
   "metadata": {},
   "source": [
    "We define the parameters for the construction of the source redshift distribution, the lens redshift distribution, and the tangential shear model."
   ]
  },
  {
   "cell_type": "markdown",
   "id": "1401f827",
   "metadata": {},
   "source": [
    "### Source Redshift Distribution Parameters"
   ]
  },
  {
   "cell_type": "markdown",
   "id": "248fdc88",
   "metadata": {},
   "source": [
    "We draw the necessary parameters from the source redshift catalog: the normalized redshift counts, the spread of the source redshift distribution, and the galaxy counts per bin. Using these parameters, we calculate the mean of the combined source redshift distribution, the weighting of the source redshift bins, the unmodified source redshift distribution, and the normalized source redshift distribution. As a visualization exercise, we plot the four weighted source redshift bins and superimpose the combined source redshift distribution."
   ]
  },
  {
   "cell_type": "code",
   "execution_count": 55,
   "id": "166770cb",
   "metadata": {},
   "outputs": [],
   "source": [
    "nzs = (T.kernels[0].nzs) #Normalized redshift counts\n",
    "zsbin = (T.kernels[0].z) #Source redshift spread\n",
    "galcount = np.array([24940465,25280405,24891859,25091297]) #Number of galaxies per bin\n",
    "\n",
    "z_mean_s, bins_weighted, zsdist_norm, zsdist = source_redshift_dist(nzs, zsbin, galcount)"
   ]
  },
  {
   "cell_type": "code",
   "execution_count": 56,
   "id": "c50aa6ce",
   "metadata": {},
   "outputs": [
    {
     "data": {
      "image/png": "[encoded data removed]",
      "text/plain": [
       "<Figure size 432x288 with 1 Axes>"
      ]
     },
     "metadata": {
      "needs_background": "light"
     },
     "output_type": "display_data"
    }
   ],
   "source": [
    "for i in range(4):\n",
    "        plt.plot(zsbin, bins_weighted[i], label='Source Bin '+str(i+1))\n",
    "plt.plot(zsbin, zsdist_norm, color='black', label='Combined Source Bins') \n",
    "plt.legend(frameon=False)\n",
    "plt.xlabel('Redshift')\n",
    "plt.ylabel('Normalized Counts')\n",
    "plt.title('Source Redshift Distribution')\n",
    "plt.show()"
   ]
  },
  {
   "cell_type": "markdown",
   "id": "84ea4424",
   "metadata": {},
   "source": [
    "### Lens Redshift Distribution Parameters"
   ]
  },
  {
   "cell_type": "markdown",
   "id": "a54cc283",
   "metadata": {},
   "source": [
    "We define the parameters for the lens redshift distribution. We establish a mean lens redshift (zl) and the spread of the lens redshift distribution (zl_sigma). As a visualization exercise, we plot the lens redshift distribution."
   ]
  },
  {
   "cell_type": "code",
   "execution_count": 57,
   "id": "722261d0",
   "metadata": {},
   "outputs": [],
   "source": [
    "zl_mean = 0.011 #13.2e-3\n",
    "zl_sigma = 0.005"
   ]
  },
  {
   "cell_type": "code",
   "execution_count": 31,
   "id": "64ee9775",
   "metadata": {},
   "outputs": [
    {
     "data": {
      "image/png": "[encoded data removed]",
      "text/plain": [
       "<Figure size 432x288 with 1 Axes>"
      ]
     },
     "metadata": {
      "needs_background": "light"
     },
     "output_type": "display_data"
    }
   ],
   "source": [
    "zlrange_plt, zldist_plt, A_zl_plt, zldist_norm_plt  = normalization(mean=zl_mean, sigma=zl_sigma, size=30, func='zl')\n",
    "plt.plot(zlrange_plt, zldist_norm_plt, color='black')\n",
    "plt.xlabel('Redshift')\n",
    "plt.ylabel('Normalized Counts')\n",
    "plt.title('Lens Redshift Distribution')\n",
    "plt.show()"
   ]
  },
  {
   "cell_type": "markdown",
   "id": "57a0c951",
   "metadata": {},
   "source": [
    "### Tangential Shear Model Parameters"
   ]
  },
  {
   "cell_type": "markdown",
   "id": "07f37086",
   "metadata": {},
   "source": [
    "We outline the remaining parameters for the tangential shear model. We establish two mass parameters corresponding to the subhalo and host halo terms and a concentration term. We define the angular separations (derived from the shear measurements) and convert them from arcminutes to radians (theta_rad). We set up the offset angular separation (offset_rad). We define the number of realizations (n) and the number of data entries (m) to calculate the hartlap factor. "
   ]
  },
  {
   "cell_type": "code",
   "execution_count": 32,
   "id": "3c0cb9c3",
   "metadata": {},
   "outputs": [],
   "source": [
    "mass_term1 = 7e7 #9.9e10\n",
    "mass_term2 = 1e9 #12.2e14\n",
    "concentration = 2. \n",
    "theta_rad = theta_red/60*np.pi/180 \n",
    "offset_rad = 14/60*np.pi/180 \n",
    "n=100\n",
    "m=25"
   ]
  },
  {
   "cell_type": "markdown",
   "id": "423bf4aa",
   "metadata": {},
   "source": [
    "## Tangential Shear Model"
   ]
  },
  {
   "cell_type": "markdown",
   "id": "8de3c433",
   "metadata": {},
   "source": [
    "We call for the total tangential shear model, combining the subhalo tangential shear model and the host halo tangential shear model. "
   ]
  },
  {
   "cell_type": "code",
   "execution_count": 62,
   "id": "4be7ecff",
   "metadata": {},
   "outputs": [
    {
     "name": "stderr",
     "output_type": "stream",
     "text": [
      "WARNING: Second redshift(s) z2 ([0.005]) is less than first redshift(s) z1 (0.005137931034482757). [astropy.cosmology.flrw]\n",
      "/Users/nathaliechicoine/opt/anaconda3/lib/python3.9/site-packages/profiley/helpers/lensing.py:104: RuntimeWarning: divide by zero encountered in double_scalars\n",
      "  return A / (self.Dl*self.beta(z_s=z_s))\n",
      "WARNING: Second redshift(s) z2 ([0.005]) is less than first redshift(s) z1 (0.00582758620689655). [astropy.cosmology.flrw]\n",
      "WARNING: Second redshift(s) z2 ([0.005]) is less than first redshift(s) z1 (0.0065172413793103436). [astropy.cosmology.flrw]\n",
      "WARNING: Second redshift(s) z2 ([0.005]) is less than first redshift(s) z1 (0.007206896551724137). [astropy.cosmology.flrw]\n",
      "WARNING: Second redshift(s) z2 ([0.005]) is less than first redshift(s) z1 (0.00789655172413793). [astropy.cosmology.flrw]\n",
      "WARNING: Second redshift(s) z2 ([0.005]) is less than first redshift(s) z1 (0.008586206896551722). [astropy.cosmology.flrw]\n",
      "WARNING: Second redshift(s) z2 ([0.005]) is less than first redshift(s) z1 (0.009275862068965515). [astropy.cosmology.flrw]\n",
      "WARNING: Second redshift(s) z2 ([0.005]) is less than first redshift(s) z1 (0.009965517241379309). [astropy.cosmology.flrw]\n",
      "WARNING: Second redshift(s) z2 ([0.005]) is less than first redshift(s) z1 (0.010655172413793101). [astropy.cosmology.flrw]\n",
      "WARNING: Second redshift(s) z2 ([0.005]) is less than first redshift(s) z1 (0.011344827586206896). [astropy.cosmology.flrw]\n",
      "WARNING: Second redshift(s) z2 ([0.005]) is less than first redshift(s) z1 (0.012034482758620688). [astropy.cosmology.flrw]\n",
      "WARNING: Second redshift(s) z2 ([0.005]) is less than first redshift(s) z1 (0.01272413793103448). [astropy.cosmology.flrw]\n",
      "WARNING: Second redshift(s) z2 ([0.005]) is less than first redshift(s) z1 (0.013413793103448274). [astropy.cosmology.flrw]\n",
      "WARNING: Second redshift(s) z2 ([0.005]) is less than first redshift(s) z1 (0.014103448275862067). [astropy.cosmology.flrw]\n",
      "WARNING: Second redshift(s) z2 ([0.005]) is less than first redshift(s) z1 (0.014793103448275861). [astropy.cosmology.flrw]\n",
      "WARNING: Second redshift(s) z2 ([0.005]) is less than first redshift(s) z1 (0.015482758620689653). [astropy.cosmology.flrw]\n",
      "WARNING: Second redshift(s) z2 ([0.015]) is less than first redshift(s) z1 (0.015482758620689653). [astropy.cosmology.flrw]\n",
      "WARNING: Second redshift(s) z2 ([0.005]) is less than first redshift(s) z1 (0.016172413793103448). [astropy.cosmology.flrw]\n",
      "WARNING: Second redshift(s) z2 ([0.015]) is less than first redshift(s) z1 (0.016172413793103448). [astropy.cosmology.flrw]\n",
      "WARNING: Second redshift(s) z2 ([0.005]) is less than first redshift(s) z1 (0.016862068965517236). [astropy.cosmology.flrw]\n",
      "WARNING: Second redshift(s) z2 ([0.015]) is less than first redshift(s) z1 (0.016862068965517236). [astropy.cosmology.flrw]\n",
      "WARNING: Second redshift(s) z2 ([0.005]) is less than first redshift(s) z1 (0.017551724137931032). [astropy.cosmology.flrw]\n",
      "WARNING: Second redshift(s) z2 ([0.015]) is less than first redshift(s) z1 (0.017551724137931032). [astropy.cosmology.flrw]\n",
      "WARNING: Second redshift(s) z2 ([0.005]) is less than first redshift(s) z1 (0.018241379310344828). [astropy.cosmology.flrw]\n",
      "WARNING: Second redshift(s) z2 ([0.015]) is less than first redshift(s) z1 (0.018241379310344828). [astropy.cosmology.flrw]\n",
      "WARNING: Second redshift(s) z2 ([0.005]) is less than first redshift(s) z1 (0.018931034482758617). [astropy.cosmology.flrw]\n",
      "WARNING: Second redshift(s) z2 ([0.015]) is less than first redshift(s) z1 (0.018931034482758617). [astropy.cosmology.flrw]\n",
      "WARNING: Second redshift(s) z2 ([0.005]) is less than first redshift(s) z1 (0.019620689655172413). [astropy.cosmology.flrw]\n",
      "WARNING: Second redshift(s) z2 ([0.015]) is less than first redshift(s) z1 (0.019620689655172413). [astropy.cosmology.flrw]\n",
      "WARNING: Second redshift(s) z2 ([0.005]) is less than first redshift(s) z1 (0.020310344827586202). [astropy.cosmology.flrw]\n",
      "WARNING: Second redshift(s) z2 ([0.015]) is less than first redshift(s) z1 (0.020310344827586202). [astropy.cosmology.flrw]\n",
      "WARNING: Second redshift(s) z2 ([0.005]) is less than first redshift(s) z1 (0.020999999999999998). [astropy.cosmology.flrw]\n",
      "WARNING: Second redshift(s) z2 ([0.015]) is less than first redshift(s) z1 (0.020999999999999998). [astropy.cosmology.flrw]\n"
     ]
    }
   ],
   "source": [
    "total_model = total_model_func(mass_term1=mass_term1, mass_term2=mass_term2, concentration=concentration, zl_mean=zl_mean, zl_sigma=zl_sigma, \n",
    "                     size_zl=30, nzs=nzs, zsbin=zsbin, galcount=galcount, offset=offset_rad, size_off=40, scales=theta_rad)\n",
    "\n"
   ]
  },
  {
   "cell_type": "markdown",
   "id": "1b330c7c",
   "metadata": {},
   "source": [
    "### Tangential Shear Model Plot"
   ]
  },
  {
   "cell_type": "markdown",
   "id": "64b65fd0",
   "metadata": {},
   "source": [
    "We compare the tangential shear models (subhalo, host halo, and total) to the red LSBG shear measurements. We calculate the physical radii at each redshift and integrate over the lens redshift distribution to define our x-axis of physical radii. Note that the model is a function of physical scales ($R$), while the measurements are functions of angular scales ($\\theta$). The errorbars on the measurements come from the jackknife covariance.  "
   ]
  },
  {
   "cell_type": "code",
   "execution_count": 63,
   "id": "76edfcfa",
   "metadata": {},
   "outputs": [],
   "source": [
    "r_mpc_spread = []\n",
    "for i, xi in enumerate(zlrange_plt):\n",
    "    da = Planck15.angular_diameter_distance(xi)\n",
    "    r_mpc = da*theta_rad\n",
    "    r_mpc_spread.append(r_mpc)\n",
    "r_mpc_scales = np.trapz(np.array(r_mpc_spread), axis=0)"
   ]
  },
  {
   "cell_type": "code",
   "execution_count": 64,
   "id": "41063aba",
   "metadata": {},
   "outputs": [
    {
     "data": {
      "image/png": "[encoded data removed]",
      "text/plain": [
       "<Figure size 576x432 with 2 Axes>"
      ]
     },
     "metadata": {
      "needs_background": "light"
     },
     "output_type": "display_data"
    }
   ],
   "source": [
    "#Plotting measurements over angular scales \n",
    "fig, ax1 = plt.subplots(figsize=(8,6), ncols=1)\n",
    "ax1.errorbar(theta_red, xi_red, err_jk_red, fmt=\"o\", color=\"firebrick\", label=\"Red Galaxies\")\n",
    "ax2 = ax1.twiny()\n",
    "\n",
    "#Plotting model over physical scales\n",
    "ax2.plot(r_mpc_scales, total_model[0], color='firebrick', label = 'Total Model')\n",
    "ax2.plot(r_mpc_scales, total_model[1], ls=':', color='firebrick', label='NFW Subhalo')\n",
    "ax2.plot(r_mpc_scales, total_model[2],ls='--', color='firebrick',label='NFW Host Halo')\n",
    "\n",
    "ax1.set_ylabel(r'$\\gamma_t(\\theta, R)$', fontsize=16)\n",
    "ax1.set_xlabel('$\\\\theta$ [arcmin]', fontsize=16)\n",
    "ax2.set_xlabel('R [Mpc]', fontsize=16)\n",
    "\n",
    "ax2.legend(frameon=False)\n",
    "ax1.set_xscale('log')\n",
    "ax1.set_yscale('log')\n",
    "ax2.set_xscale('log')\n",
    "ax2.set_yscale('log')\n",
    "plt.title('Model vs. Red LSBG Tangential Shear Measurements')\n",
    "plt.show()\n"
   ]
  },
  {
   "cell_type": "markdown",
   "id": "f6a8de14",
   "metadata": {},
   "source": [
    "We include the $\\chi^2$ calculations between the model and the red LSBG tangential shear measurements to evaluate the strength of the fit."
   ]
  },
  {
   "cell_type": "code",
   "execution_count": 65,
   "id": "1fb24934",
   "metadata": {},
   "outputs": [
    {
     "name": "stdout",
     "output_type": "stream",
     "text": [
      "[[37.70169396]]\n"
     ]
    }
   ],
   "source": [
    "#Chi2 calculation between model and measurements\n",
    "chi2_total = chi2(cov=cov, model=total_model[0], measurements=np.reshape(xi_red, (25,1)), n=n, m=m)\n",
    "print(chi2_total)"
   ]
  },
  {
   "cell_type": "markdown",
   "id": "7a0008b1",
   "metadata": {},
   "source": [
    "## Bonus: Source Redshift Distribution Model Comparison to Single Source Redshift Model"
   ]
  },
  {
   "cell_type": "markdown",
   "id": "9285394a",
   "metadata": {},
   "source": [
    "In this section, we compare the tangential shear model with a source redshift distribution to the tangential shear model with a single source redshift. "
   ]
  },
  {
   "cell_type": "markdown",
   "id": "c109a492",
   "metadata": {},
   "source": [
    "### Single Source Redshift Functions"
   ]
  },
  {
   "cell_type": "markdown",
   "id": "09bf6018",
   "metadata": {},
   "source": [
    "We define a function that returns the modeled tangential shear profile for the subhalo integrated over the lens redshift distribution. \n",
    "\n",
    "The definitions of the excess surface density, the projected surface density, and the cumulative surface density follow the descriptions listed above. We model the tangential shear profile for individual lens and source galaxies in the same manner, save that we use a single source redshift. For the subhalo model, we evaluate the calculated shear profile at each individual lens redshift, multiply by the indexed value of the normalized lens redshift distribution, and integrate over the lens redshift distribution to obtain the full shear profile. Our model becomes: $$\\gamma_{t,\\mathrm{sub},\\mathrm{pop}}(R) = \\int \\gamma_{t, i}(R) \\times N(z_{L, i}) dz_L.$$"
   ]
  },
  {
   "cell_type": "code",
   "execution_count": 66,
   "id": "3fc8431f",
   "metadata": {},
   "outputs": [],
   "source": [
    "def subhalo_generation_zssingle(zlrange=None, zldist_norm=None, mass=None, concentration=None, zs=None, scales=None):\n",
    "    \"\"\"\n",
    "    Calculates the tangential shear profile for the subhalo integrated over the lens redshift distribution\n",
    "    \n",
    "    zlrange = range of lens redshifts\n",
    "    zldist_norm = normalized lens redshift distribution\n",
    "    mass = mass of subhalo\n",
    "    concentration = density of subhalo\n",
    "    zs = source redshift\n",
    "    scales = angular separations\n",
    "    \n",
    "    Returns: tangential shear model for subhalo term integrated over lens redshift distribution\n",
    "    \"\"\"\n",
    "    gt_list = []\n",
    "    for i, xi in enumerate(zlrange):\n",
    "        da, r_mpc, nfw = nfw_generation(mass=mass, concentration=concentration, \n",
    "                                                    zl=xi, scales=scales)\n",
    "        sigma_crit = nfw.sigma_crit([zs])\n",
    "        esd = nfw.projected_excess(r_mpc) \n",
    "        gt = esd/sigma_crit \n",
    "        gt_norm = gt*zldist_norm[i] \n",
    "        gt_list.append(gt_norm) \n",
    "    gt_term1 = np.trapz(np.array(gt_list), axis=0)\n",
    "    return(gt_term1)"
   ]
  },
  {
   "cell_type": "markdown",
   "id": "5973cd5b",
   "metadata": {},
   "source": [
    "We define a function that returns the modeled shear profile for the host halo integrated over the lens redshift distribution and the offset distribution. \n",
    "\n",
    "Our modeling for the excess surface density and the offset distribution follows the same procedure as the source redshift distribution model. For the single source redshift shear model, we evaluate the calculated tangential shear profile at each lens redshift, multiply by the indexed value of the normalized lens redshift distribution and the normalized offset distribution, and integrate over the lens redshift distribution and the offset distribution to obtain the tangential shear profile. Our model becomes: $$\\gamma_{t,\\mathrm{host},\\mathrm{pop}}(R, R_\\mathrm{off}) = \\int \\int  \\gamma_{t,i} \\times N(z_{L, i}) \\times N(R_{\\mathrm{off}, i}) dR_\\mathrm{off} dz_L.$$"
   ]
  },
  {
   "cell_type": "code",
   "execution_count": 80,
   "id": "559f3033",
   "metadata": {},
   "outputs": [],
   "source": [
    "def hosthalo_generation_zssingle(zlrange=None, zldist_norm=None, mass=None, concentration=None, zs=None, \n",
    "                        scales=None, offset=None, size_off=None):\n",
    "    \"\"\"\n",
    "    Calculates the tangential shear profile for the host halo integrated over the offset distribution and lens redshift distribution\n",
    "    \n",
    "    zlrange = range of lens redshifts\n",
    "    zldist_norm = normalized redshift distribution\n",
    "    mass = mass of host halo\n",
    "    concentration = density of host halo\n",
    "    zs = source redshift\n",
    "    scales = angular separation\n",
    "    offset = offset angular separation\n",
    "    size_off = size of offset distribution\n",
    "    \n",
    "    Returns: tangential shear model for the host halo term integrated over the offset distribution and lens redshift distribution \n",
    "    \"\"\"\n",
    "    gt_list = []\n",
    "    for i, xi in enumerate(zlrange):\n",
    "        da, r_mpc, nfw = nfw_generation(mass=mass, concentration=concentration, \n",
    "                                                    zl=xi, scales=theta_rad)\n",
    "        sigma_crit = nfw.sigma_crit([zs])\n",
    "        r_off_dist, r_off_norm = offset_generation(offset=offset, zl=xi, size_off=size_off)\n",
    "        esd = nfw.offset_projected_excess(np.array(r_mpc), np.array(r_off_dist)) \n",
    "        gt = (np.trapz(esd, axis=0)/sigma_crit)*zldist_norm[i]*r_off_norm\n",
    "        gt_list.append(gt)\n",
    "    gt_calc_int = np.trapz(np.array(gt_list), axis=2) #Integrate over the offset distribution\n",
    "    gt_term2 = np.reshape(np.trapz(gt_calc_int, axis=0), (25,1)) #Integrate over the lens redshift distribution\n",
    "    return gt_term2\n"
   ]
  },
  {
   "cell_type": "markdown",
   "id": "752731f8",
   "metadata": {},
   "source": [
    "We define a function that produces the total tangential shear model for a lens redshift distribution and a single source redshift.\n",
    "\n",
    "The total tangential shear signal combines the stellar, subhalo, and host halo tangential shear terms. Given that the stellar tangential shear signal dominates at unobservable small scales, we define our final shear model as a sum of the subhalo and host halo tangential shear terms: $$\\gamma_t = \\gamma _{t\\mathrm{sub}}(R) + \\gamma_{t\\mathrm{host}}(R, R_\\mathrm{off})$$ \n",
    "\n",
    "We calculate the lens redshift distribution, the subhalo tangential shear term, the host halo tangential shear term, and the combined total model. "
   ]
  },
  {
   "cell_type": "code",
   "execution_count": 81,
   "id": "ebd3c02f",
   "metadata": {},
   "outputs": [],
   "source": [
    "def total_model_func_zssingle(mass_term1=None, mass_term2=None, concentration=None, zs=None, zl_mean=None, \n",
    "                     zl_sigma=None, size_zl=None, offset=None, size_off=None, scales=None):\n",
    "    \"\"\"\n",
    "    Calculates the total shear profile model\n",
    "    \n",
    "    mass_term1 = subhalo mass\n",
    "    mass_term2 = host halo mass\n",
    "    concentration = density of halos\n",
    "    zs = source redshift\n",
    "    zl_mean = mean of lens redshift distribution\n",
    "    zl_sigma = spread of lens redshfit distribution\n",
    "    size_zl = size of lens redshift distribution\n",
    "    offset = offset angular separation\n",
    "    size_off = size of offset distribution\n",
    "    scales = angular separation\n",
    "    \n",
    "    Returns: total model, subhalo model, host halo model\n",
    "    \"\"\"\n",
    "\n",
    "    zlrange, zldist, A_zl, zldist_norm = normalization(mean=zl_mean, sigma=zl_sigma, size=size_zl, func='zl') \n",
    "    \n",
    "    gt_term1 = subhalo_generation_zssingle(zlrange=zlrange, zldist_norm=zldist_norm, mass=mass_term1, \n",
    "                                      concentration=concentration, zs=zs, scales=theta_rad) \n",
    "    gt_term2 = hosthalo_generation_zssingle(zlrange=zlrange, zldist_norm=zldist_norm, mass=mass_term2, \n",
    "                                       concentration=concentration, zs=zs, scales=theta_rad, offset=offset_rad, size_off=size_off)\n",
    "    \n",
    "    total_model = gt_term1 + gt_term2 \n",
    "    return total_model, gt_term1, gt_term2 "
   ]
  },
  {
   "cell_type": "markdown",
   "id": "ecf200fd",
   "metadata": {},
   "source": [
    "### Tangential Shear Model: Single Source Redshift"
   ]
  },
  {
   "cell_type": "markdown",
   "id": "73b4c029",
   "metadata": {},
   "source": [
    "We call the function for the total tangential shear model with a single source redshift"
   ]
  },
  {
   "cell_type": "code",
   "execution_count": 82,
   "id": "176a91de",
   "metadata": {},
   "outputs": [],
   "source": [
    "total_model_zssingle = total_model_func_zssingle(mass_term1=mass_term1, mass_term2=mass_term2, concentration=concentration, \n",
    "                                           zs=z_mean_s, zl_mean=zl_mean, zl_sigma=zl_sigma, size_zl=30, offset=offset_rad, \n",
    "                                           size_off=40, scales=theta_rad)"
   ]
  },
  {
   "cell_type": "markdown",
   "id": "f904e992",
   "metadata": {},
   "source": [
    "We include the $\\chi^2$ calculations between the model and the red LSBG tangential shear measurements to evaluate the strength of the fit."
   ]
  },
  {
   "cell_type": "code",
   "execution_count": 83,
   "id": "a603c059",
   "metadata": {},
   "outputs": [
    {
     "name": "stdout",
     "output_type": "stream",
     "text": [
      "[[70.10247175]]\n"
     ]
    }
   ],
   "source": [
    "#Chi2 calculation between model and measurements\n",
    "chi2_total = chi2(cov, total_model_zssingle[0], np.reshape(xi_red, (25,1)), n=n, m=m)\n",
    "print(chi2_total)"
   ]
  },
  {
   "cell_type": "markdown",
   "id": "b549fd44",
   "metadata": {},
   "source": [
    "###  Source Redshift Distribution Model vs. Single Source Redshift Model"
   ]
  },
  {
   "cell_type": "markdown",
   "id": "182820f0",
   "metadata": {},
   "source": [
    "We visually compare the single source redshift and source redshift distribution models. Note that the tangential shear measurements are functions of $\\theta$ and the models are products of $R$. "
   ]
  },
  {
   "cell_type": "code",
   "execution_count": 84,
   "id": "f8c0ebbe",
   "metadata": {},
   "outputs": [
    {
     "data": {
      "image/png": "[encoded data removed]",
      "text/plain": [
       "<Figure size 720x504 with 1 Axes>"
      ]
     },
     "metadata": {
      "needs_background": "light"
     },
     "output_type": "display_data"
    }
   ],
   "source": [
    "#Overlaid plot between single source redshift and source redshift distribution models\n",
    "fig, ax = plt.subplots(figsize=(10,7), ncols=1)\n",
    "plt.errorbar(theta_red, xi_red, err_jk_red, fmt=\"o\", color=\"firebrick\", label=\"Red Galaxies\")\n",
    "ax.plot(theta_red, total_model_zssingle[0], label = 'Single Source Redshift')\n",
    "ax.plot(theta_red, total_model[0], label = 'Source Redshift Distribution')\n",
    "ax.set_ylabel(r'$\\gamma_t(R)$', fontsize=16)\n",
    "ax.set_xlabel('$\\\\theta$ (arcmin)', fontsize=16)\n",
    "ax.legend(frameon=False)\n",
    "ax.set_xscale('log')\n",
    "ax.set_yscale('log')\n",
    "plt.title('Source Redshift Distribution vs. Single Source Redshift')\n",
    "plt.show()"
   ]
  },
  {
   "cell_type": "markdown",
   "id": "d4f2327a",
   "metadata": {},
   "source": [
    "We include a $\\Delta \\chi^2$ comparison between the two models."
   ]
  },
  {
   "cell_type": "code",
   "execution_count": 85,
   "id": "59002b83",
   "metadata": {},
   "outputs": [
    {
     "name": "stdout",
     "output_type": "stream",
     "text": [
      "[[82.23718695]]\n"
     ]
    }
   ],
   "source": [
    "deltachi2_zssingle_zsdist = deltachi2(cov=cov, model_1 = total_model[0], model_2 = total_model_zssingle[0], n=n, m=m)\n",
    "print(deltachi2_zssingle_zsdist)"
   ]
  },
  {
   "cell_type": "markdown",
   "id": "322338b8",
   "metadata": {},
   "source": [
    "## Summary"
   ]
  },
  {
   "cell_type": "markdown",
   "id": "d8ac1e6a",
   "metadata": {},
   "source": [
    "In this notebook, you've learned how to:\n",
    "* Create a normalized lens redshift, offset, and source redshift distribution\n",
    "* Construct a tangential shear model based on NFW profiles and integrated over the source and lens redshift distributions for the subhalo, host halo, and combined halos \n",
    "* Compare the source redshift distribution model to a single source redshift model\n"
   ]
  },
  {
   "cell_type": "code",
   "execution_count": null,
   "id": "fe45b92f",
   "metadata": {},
   "outputs": [],
   "source": []
  }
 ],
 "metadata": {
  "kernelspec": {
   "display_name": "Python 3 (ipykernel)",
   "language": "python",
   "name": "python3"
  },
  "language_info": {
   "codemirror_mode": {
    "name": "ipython",
    "version": 3
   },
   "file_extension": ".py",
   "mimetype": "text/x-python",
   "name": "python",
   "nbconvert_exporter": "python",
   "pygments_lexer": "ipython3",
   "version": "3.9.12"
  }
 },
 "nbformat": 4,
 "nbformat_minor": 5
}

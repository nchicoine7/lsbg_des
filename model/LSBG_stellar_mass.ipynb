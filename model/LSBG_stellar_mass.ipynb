{
 "cells": [
  {
   "cell_type": "markdown",
   "id": "bb3357e6",
   "metadata": {},
   "source": [
    "# Stellar Mass for LSBGs"
   ]
  },
  {
   "cell_type": "markdown",
   "id": "337e9fed",
   "metadata": {},
   "source": [
    "## Introduction"
   ]
  },
  {
   "cell_type": "markdown",
   "id": "7ccbd7c2",
   "metadata": {},
   "source": [
    "The stellar-to-halo mass relation (SHMR) links dark matter halos to their resident galaxies, providing insight on galaxy formation and evolution. Faint or low-mass galaxies test the limits of the established, parameterized SHMR. \n",
    "\n",
    "In this notebook, we estimate stellar mass distributions for the red and blue LSBG samples by using photometry and a color-mass-to-light relation. We find the ratio between these stellar masses and the derived subhalo mass and host halo mass. We compare the LSBG stellar-to-halo mass ratio to more general, parameterized versions of the stellar-to-halo-mass relation. "
   ]
  },
  {
   "cell_type": "markdown",
   "id": "0e946e68",
   "metadata": {},
   "source": [
    "## Imports"
   ]
  },
  {
   "cell_type": "markdown",
   "id": "551f59e9",
   "metadata": {},
   "source": [
    "* We use numpy for numerical calculations and analysis\n",
    "* We use matplotlib for plotting\n",
    "* We use scipy and random for statistical analysis\n",
    "* We use pandas to load in files\n",
    "* We use astropy for cosmology to calculate distances\n",
    "* We use colossus to switch between mass definitions"
   ]
  },
  {
   "cell_type": "code",
   "execution_count": 1,
   "id": "6841cecf",
   "metadata": {},
   "outputs": [],
   "source": [
    "#Loading packages\n",
    "import numpy as np\n",
    "import matplotlib.pyplot as plt\n",
    "%matplotlib inline\n",
    "import scipy\n",
    "from scipy.stats import norm\n",
    "from random import sample\n",
    "import pandas as pd\n",
    "from astropy.cosmology import Planck15\n",
    "from astropy import units as u\n",
    "from colossus.halo import mass_defs\n",
    "from colossus.halo import concentration\n",
    "from colossus.cosmology import cosmology\n",
    "cosmology.setCosmology('planck15')\n",
    "plt.rc('text', usetex=True)\n",
    "plt.rc('font', family='serif')"
   ]
  },
  {
   "cell_type": "markdown",
   "id": "f2bc4d6a",
   "metadata": {},
   "source": [
    "## Loading Data"
   ]
  },
  {
   "cell_type": "markdown",
   "id": "f20aa568",
   "metadata": {},
   "source": [
    "We load in the LSBG catalog from [Tanoglidis+2020](https://arxiv.org/abs/2006.04294) and pull out the positions, g-magnitudes, i-magnitudes, and r-mangitudes. We construct and apply color masks (red for $g-i>0.6$ and blue for $g-i<0.6$)."
   ]
  },
  {
   "cell_type": "code",
   "execution_count": 2,
   "id": "0958fc3f",
   "metadata": {},
   "outputs": [],
   "source": [
    "lens_file=pd.read_csv(r'../data/LSBG_catalog_v2.csv')\n",
    "lens=pd.DataFrame(lens_file, columns= ['ra_se','dec_se', 'mag_gfm_g_corr', 'mag_gfm_i_corr', 'mag_gfm_r_corr'])"
   ]
  },
  {
   "cell_type": "code",
   "execution_count": 3,
   "id": "bcff682b",
   "metadata": {},
   "outputs": [],
   "source": [
    "g = lens['mag_gfm_g_corr']"
   ]
  },
  {
   "cell_type": "code",
   "execution_count": 4,
   "id": "45080edf",
   "metadata": {},
   "outputs": [],
   "source": [
    "i = lens['mag_gfm_i_corr']"
   ]
  },
  {
   "cell_type": "code",
   "execution_count": 5,
   "id": "a139a050",
   "metadata": {},
   "outputs": [],
   "source": [
    "r = lens['mag_gfm_r_corr']"
   ]
  },
  {
   "cell_type": "code",
   "execution_count": 6,
   "id": "88993105",
   "metadata": {},
   "outputs": [],
   "source": [
    "mask_blue = (g-i)<=0.60\n",
    "mask_red = (g-i)>=0.60\n",
    "red_lens = lens[mask_red]\n",
    "blue_lens = lens[mask_blue]\n"
   ]
  },
  {
   "cell_type": "code",
   "execution_count": 7,
   "id": "541f8bc9",
   "metadata": {},
   "outputs": [],
   "source": [
    "g_red = red_lens['mag_gfm_g_corr']\n",
    "g_blue = blue_lens['mag_gfm_g_corr']"
   ]
  },
  {
   "cell_type": "code",
   "execution_count": 8,
   "id": "0a6371e0",
   "metadata": {},
   "outputs": [],
   "source": [
    "i_red = red_lens['mag_gfm_i_corr']\n",
    "i_blue = blue_lens['mag_gfm_i_corr']"
   ]
  },
  {
   "cell_type": "code",
   "execution_count": 9,
   "id": "34b12ae0",
   "metadata": {},
   "outputs": [],
   "source": [
    "r_red = red_lens['mag_gfm_r_corr']\n",
    "r_blue = blue_lens['mag_gfm_r_corr']"
   ]
  },
  {
   "cell_type": "markdown",
   "id": "14e0402b",
   "metadata": {},
   "source": [
    "We load in the red and blue LSBG stellar mass estimates for the [Greene+2022](https://ui.adsabs.harvard.edu/abs/2022ApJ...933..150G/abstract) paper. "
   ]
  },
  {
   "cell_type": "code",
   "execution_count": 10,
   "id": "15fb42c5",
   "metadata": {},
   "outputs": [],
   "source": [
    "greene_m_red, greene_red = np.loadtxt('../data/stellar_mass_red_Greene.csv', unpack =True, delimiter=',')\n",
    "greene_m_blue, greene_blue = np.loadtxt('../data/stellar_mass_blue_Greene.csv', unpack =True, delimiter=',')"
   ]
  },
  {
   "cell_type": "markdown",
   "id": "7a375666",
   "metadata": {},
   "source": [
    "We load in the LSBG redshift distributions and define the redshift spans for the blue and red samples. "
   ]
  },
  {
   "cell_type": "code",
   "execution_count": 11,
   "id": "785fdfb6",
   "metadata": {},
   "outputs": [],
   "source": [
    "zlrange_red = np.linspace(0.005, 0.135, 14)\n",
    "zlrange_blue = np.linspace(0.01, 0.19, 10)\n",
    "\n",
    "zldist_red_fiducial = np.loadtxt('../data/zldist_red')\n",
    "zldist_blue_fiducial = np.loadtxt('../data/zldist_blue')"
   ]
  },
  {
   "cell_type": "markdown",
   "id": "394bab21",
   "metadata": {},
   "source": [
    "## Function Definitions"
   ]
  },
  {
   "cell_type": "markdown",
   "id": "0b0c35d9",
   "metadata": {},
   "source": [
    "\n",
    "We define each of the functions used in this notebook, grouped here for ease of access. "
   ]
  },
  {
   "cell_type": "markdown",
   "id": "1362899e",
   "metadata": {},
   "source": [
    "### Stellar Mass Functions"
   ]
  },
  {
   "cell_type": "markdown",
   "id": "ee0ab635",
   "metadata": {},
   "source": [
    "We build functions to calculate the distances to the galaxies, the absolute magnitudes, the colors, the mass-to-light ratios, the luminosities, and the stellar masses."
   ]
  },
  {
   "cell_type": "markdown",
   "id": "253511f7",
   "metadata": {},
   "source": [
    "We calculate the distance to the LSBGs at each point in the redshift range, based on the [Planck15](https://arxiv.org/abs/1502.01589) cosmology. We convert from Mpc to parsecs."
   ]
  },
  {
   "cell_type": "code",
   "execution_count": 12,
   "id": "311ca5e4",
   "metadata": {},
   "outputs": [],
   "source": [
    "#Calculating distance to objects based on redshift (drawn from MCMC posterior)\n",
    "def calculate_distance(zlrange=None):\n",
    "    \"\"\"\n",
    "    Calculates the angular diameter distance based on the redshift\n",
    "    \n",
    "    zlrange = range of redshift distributions\n",
    "    \n",
    "    Returns: array of physical distances (in pc) corresponding to array of input redshifts\n",
    "    \"\"\"  \n",
    "    distance_list = []\n",
    "\n",
    "    for i in range(len(zlrange)):\n",
    "        redshift = zlrange[i]\n",
    "        da = Planck15.comoving_distance(redshift)\n",
    "        r_pc = np.array(da.to(u.parsec))\n",
    "        distance_list.append(r_pc)\n",
    "    distance_arr = np.array(distance_list)\n",
    "    return distance_arr"
   ]
  },
  {
   "cell_type": "markdown",
   "id": "abe1ef64",
   "metadata": {},
   "source": [
    "We use the distance modulus to calculate the absolute magnitude of the LSBGs in a single photometric band, based on the apparent magnitude and the distance: $$M_j(m_j, z_L) = m_j - 5\\log(d(z_L)/10\\mathrm{pc}).$$ $M_j$ represents the absolute magnitude for the selected band, $m_j$ stands for the apparent magnitude for the same band, and $d(z_L)$ indicates the distance to the selected redshift (in parsecs). We integrate over the normalized redshift distribution to produce the absolute magnitude distribution, as follows: $$M_j(m_j) = \\int M_j(m_j, z_L) n(z_L) dz_L.$$"
   ]
  },
  {
   "cell_type": "code",
   "execution_count": 13,
   "id": "a0ba7ce3",
   "metadata": {},
   "outputs": [],
   "source": [
    "def absolute_magnitude(mag=None, distance=None, zldist=None):\n",
    "    \"\"\"\n",
    "    Calculates the absolute magnitude of objects based on the distance and the apparent magnitude\n",
    "    \n",
    "    mag = apparent magnitudes of objects\n",
    "    distance = array of distances to object (in parsecs)\n",
    "    zldist = normalized redshift distribution    \n",
    "    \n",
    "    Returns: array of absolute magnitudes\n",
    "    \"\"\"\n",
    "    M_abs_list = []\n",
    "    for y, qi in enumerate(mag):\n",
    "        for i, xi in enumerate(distance):\n",
    "            M_abs = (qi-(5*np.log10(xi/10))) \n",
    "            M_abs_list.append(M_abs)\n",
    "    M_abs_arr = np.reshape(M_abs_list, (len(mag), len(distance)))\n",
    "    M_abs_int = np.trapz(M_abs_arr*zldist, axis=1)\n",
    "    return M_abs_int"
   ]
  },
  {
   "cell_type": "markdown",
   "id": "72757f31",
   "metadata": {},
   "source": [
    "We calculate the color by finding the difference between two apparent magnitudes (as $m_{j}-m_{k}$)."
   ]
  },
  {
   "cell_type": "code",
   "execution_count": 14,
   "id": "f378ec7a",
   "metadata": {},
   "outputs": [],
   "source": [
    "#Caculating color\n",
    "def color_func(mag_1=None, mag_2=None):\n",
    "    \"\"\"\n",
    "    Calculates the color between two magnitude bands\n",
    "    \n",
    "    mag_1 = band 1 (usually g)\n",
    "    mag_2 = band 2 (usually i or r)\n",
    "    \n",
    "    Returns: color\n",
    "    \"\"\"\n",
    "    color = mag_1-mag_2\n",
    "    return color"
   ]
  },
  {
   "cell_type": "markdown",
   "id": "169a95e5",
   "metadata": {},
   "source": [
    "We use the color mass-to-light relation (CMLR), as developed in [Bell+2003](https://iopscience.iop.org/article/10.1086/378847), to calculate the mass-to-light ratio for the LSBGs:$$\\log \\gamma_*^j = a_j + (b_j \\times \\mathrm{color}).$$ $\\gamma_*^j$ represents the mass-to-light ratio in a specific photometric band, $a_j$ signifies the zeropoint of the CMLR, $b_j$ designates the slope of the CMLR, and $\\mathrm{color}$ stands for the selected color band."
   ]
  },
  {
   "cell_type": "code",
   "execution_count": 15,
   "id": "89cec2c9",
   "metadata": {},
   "outputs": [],
   "source": [
    "def CMLR(a=None, b=None, color=None): \n",
    "    \"\"\"\n",
    "    Calculates the mass-to-light ratio based on the color and the parameters of Bell+2003\n",
    "    \n",
    "    a = color-mass light ratio model parameter from Bell et al. 2003\n",
    "    b = color-mass light ratio model parameter from Bell et al. 2003\n",
    "    color = color (g-r or g-i)\n",
    "    \n",
    "    Returns: mass to light ratio\n",
    "    \"\"\"\n",
    "    m_l_ratio = 10**(a + b * (color))\n",
    "    m_l_ratio_arr = np.reshape(np.array(m_l_ratio), (len(color), 1))\n",
    "    return m_l_ratio_arr"
   ]
  },
  {
   "cell_type": "markdown",
   "id": "b187decb",
   "metadata": {},
   "source": [
    "We compare the absolute magnitudes of the LSBGs in a specified band to the absolute magnitude of the sun to calculate the luminosity: $$\\frac{L_j}{L_{\\odot,j}} = 10^{0.4 \\times (M_{j, \\odot} - M_j)}.$$ $L_j$ represents the  object luminosity, $M_{j, \\odot}$ signifies the solar luminosity in the specified band, and $M_j$ indicates the absolute magnitude of the object in the specified band. "
   ]
  },
  {
   "cell_type": "code",
   "execution_count": 16,
   "id": "a9c400d2",
   "metadata": {},
   "outputs": [],
   "source": [
    "def lum_func(m_sol=None, m_abs=None):\n",
    "    \"\"\"\n",
    "    Calculates the luminosity by comparing an object's absolute magnitude to the solar absolute magnitude\n",
    "    \n",
    "    m_sol = solar luminosity/absolute magnitude in selected band\n",
    "    m_abs = absolute magnitude of object in selected band\n",
    "    \n",
    "    Returns: array of luminosities\n",
    "    \"\"\"\n",
    "    lum_list = []\n",
    "    for i in range(len(m_abs)):\n",
    "        lum = 10**(0.4*(m_sol-m_abs[i]))\n",
    "        lum_list.append(lum)\n",
    "    lum_arr = np.array(lum_list)\n",
    "    return lum_arr"
   ]
  },
  {
   "cell_type": "markdown",
   "id": "5740cc75",
   "metadata": {},
   "source": [
    "We multiply the mass-to-light ratio (obtained from the CMLR) by the luminosity to extract the stellar mass: $$M_* = L_j\\times \\gamma_*^j.$$ "
   ]
  },
  {
   "cell_type": "code",
   "execution_count": 17,
   "id": "483fd32d",
   "metadata": {},
   "outputs": [],
   "source": [
    "def stellar_mass(m_l_ratio=None, lum=None):\n",
    "    \"\"\"\n",
    "    Calculates the stellar mass by comparing the mass-to-light ratio to the luminosity\n",
    "    \n",
    "    m_l_ratio = mass-to-light ratio\n",
    "    lum = object luminosity\n",
    "    \n",
    "    Returns: array of stellar masses\n",
    "    \"\"\"\n",
    "    m_stellar_list = []\n",
    "    for i in range(len(lum)):\n",
    "        m_stellar = m_l_ratio[i]*lum[i]\n",
    "        m_stellar_list.append(m_stellar)\n",
    "    m_stellar_arr = np.array(m_stellar_list)\n",
    "    return m_stellar_arr"
   ]
  },
  {
   "cell_type": "markdown",
   "id": "ea276c18",
   "metadata": {},
   "source": [
    "We divide the stellar mass by the halo mass to calculate the SHMR as $M_*/M_h$."
   ]
  },
  {
   "cell_type": "code",
   "execution_count": 18,
   "id": "f9cea812",
   "metadata": {},
   "outputs": [],
   "source": [
    "def shmr_func(m_halo=None,m_stellar=None):\n",
    "    \"\"\"\n",
    "    Calculates the stellar-to-halo mass relation and uncertainty\n",
    "    \n",
    "    m_halo = halo mass\n",
    "    m_stellar = stellar mass\n",
    "    \n",
    "    Returns: SHMR values\n",
    "    \"\"\"\n",
    "    shmr_list = []\n",
    "    for i in range(len(m_stellar)):\n",
    "        shmr = m_stellar[i]/m_halo\n",
    "        shmr_list.append(shmr)\n",
    "    shmr_arr = np.array(shmr_list)\n",
    "    return shmr_arr"
   ]
  },
  {
   "cell_type": "markdown",
   "id": "f977f596",
   "metadata": {},
   "source": [
    "We combine the previous functions to produce a stellar mass and a stellar-halo-mass relation for the LSBG samples."
   ]
  },
  {
   "cell_type": "code",
   "execution_count": 19,
   "id": "3c475dea",
   "metadata": {},
   "outputs": [],
   "source": [
    "def total_shmr(zlrange=None, zldist=None, mag=None, mag_1=None, mag_2=None,\n",
    "               a=None, b=None, m_sol=None, m_halo=None):\n",
    "    \"\"\"\n",
    "    Calculates the stellar mass and the stellar-halo-mass relation in one call, based on the photometry\n",
    "    \n",
    "    zlrange = lens redshift range\n",
    "    zldist = lens redshift distribution\n",
    "    mag = selected magnitude band for CMLR\n",
    "    mag_1 = magnitude band used to calculate color (usually g)\n",
    "    mag_2 = magnitude band used to calculate color (usually r or i)\n",
    "    a = zeropoint parameter for CMLR, dependent on photometric band\n",
    "    b = slope parameter for CMLR, dependent on photometric photometric band\n",
    "    m_sol = solar absolute magnitude, dependent on photometric band\n",
    "    m_halo = halo mass (solar masses)\n",
    "    \n",
    "    Returns: stellar mass array, SHMR\n",
    "    \"\"\"\n",
    "    distance = calculate_distance(zlrange = zlrange)\n",
    "    M_abs = absolute_magnitude(mag = mag, distance = distance, zldist = zldist)\n",
    "    color = color_func(mag_1 = mag_1, mag_2 = mag_2)\n",
    "    m_l_ratio = CMLR(a = a, b = b, color = color)\n",
    "    lum = lum_func(m_sol = m_sol, m_abs = M_abs)\n",
    "    m_stellar = stellar_mass(m_l_ratio = m_l_ratio, lum=lum)\n",
    "    shmr = shmr_func(m_halo = m_halo,m_stellar = m_stellar)\n",
    "    return m_stellar, shmr\n"
   ]
  },
  {
   "cell_type": "markdown",
   "id": "162e9fdd",
   "metadata": {},
   "source": [
    "## Statistical Visualization Functions"
   ]
  },
  {
   "cell_type": "markdown",
   "id": "4598b94d",
   "metadata": {},
   "source": [
    "We define two functions that use bootstrap sampling to find the uncertainty of the median and mean of the stellar mass distribution. "
   ]
  },
  {
   "cell_type": "code",
   "execution_count": 20,
   "id": "08ae5ab1",
   "metadata": {},
   "outputs": [],
   "source": [
    "def bootstrap_median(n_resamples=None, data=None):\n",
    "    \"\"\"\n",
    "    Uses bootstrap sampling to define the uncertainty around the median\n",
    "    \n",
    "    n_resamples = number of bootstrap draws\n",
    "    data = sampled dataset (in this case the stellar mass)\n",
    "    \n",
    "    Returns: lower bound and upper bound of the median uncertainty \n",
    "    \"\"\"\n",
    "    medians = np.empty(n_resamples)\n",
    "    for i in range(n_resamples):\n",
    "        resample = np.random.choice(data, size=len(data), replace=True)\n",
    "        medians[i] = np.median(resample)\n",
    "    lower_bound = np.percentile(medians, 5)\n",
    "    upper_bound = np.percentile(medians, 95)\n",
    "    print(f\"95% Confidence Interval for the Median: ({lower_bound}, {upper_bound})\")\n",
    "    return lower_bound, upper_bound\n",
    "\n"
   ]
  },
  {
   "cell_type": "code",
   "execution_count": 21,
   "id": "234e23dd",
   "metadata": {},
   "outputs": [],
   "source": [
    "def bootstrap_mean(n_resamples=None, data=None):\n",
    "    \"\"\"\n",
    "    Uses bootstrap sampling to define the uncertainty around the mean\n",
    "    \n",
    "    n_resamples = number of bootstrap draws\n",
    "    data = sampled dataset (in this case the stellar mass)\n",
    "    \n",
    "    Returns: lower bound and uppe rbound of the mean uncertainty\n",
    "    \"\"\"\n",
    "    means = np.empty(n_resamples)\n",
    "    for i in range(n_resamples):\n",
    "        resample = np.random.choice(data, size=len(data), replace=True)\n",
    "        means[i] = np.mean(resample)\n",
    "    lower_bound = np.percentile(means, 5)\n",
    "    upper_bound = np.percentile(means, 95)\n",
    "    print(f\"95% Confidence Interval for the Mean: ({lower_bound}, {upper_bound})\")\n",
    "    return lower_bound, upper_bound\n",
    "\n"
   ]
  },
  {
   "cell_type": "markdown",
   "id": "1d85f669",
   "metadata": {},
   "source": [
    "### Parameterized Subhalo-Stellar Mass Relation Functions"
   ]
  },
  {
   "cell_type": "markdown",
   "id": "e63632dd",
   "metadata": {},
   "source": [
    "We define a function that produces the [Moster+2010](https://arxiv.org/abs/0903.4682) parameterized stellar-to-halo-mass relation (SHMR). The parameterized SHMR relies on 4 different parameters, in addition to the subhalo mass ($M_h$): the characteristic halo mass ($M_\\mathrm{char}$), the normalization of the SHMR at the characteristic halo mass ($A$), the slope at the low-mass end of the relation ($\\beta$) and the slope at the high-mass end of the relation ($\\gamma$). The full relation is defined as: $$\\frac{M_*}{M_h} = 2 \\times A \\times ((\\frac{M_h}{M_\\mathrm{char}})^{-\\beta} + (\\frac{M_h}{M_\\mathrm{char}})^\\gamma)^{-1} $$ We define a function to calculate the SHMR based on these parameters. "
   ]
  },
  {
   "cell_type": "code",
   "execution_count": 22,
   "id": "680d4b1e",
   "metadata": {},
   "outputs": [],
   "source": [
    "def parameterized_shmr(m_halo=None, A=None, M_char=None, beta=None, gamma=None):\n",
    "    \"\"\"\n",
    "    Calculates the SHMR based on 4 parameters and the halo mass\n",
    "    \n",
    "    m_halo = halo mass (solar masses)\n",
    "    A = normalization of the SHMR at the characteristic halo mass\n",
    "    M_char = characteristic halo mass\n",
    "    beta = slope of relation at low-mass end\n",
    "    gamma = slope of relation at high-mass end\n",
    "    \n",
    "    Returns: stellar mass based on SHMR (solar masses)\n",
    "    \"\"\"\n",
    "    m_stellar_param = 2*A*m_halo*(((m_halo/M_char)**(-1*beta) + (m_halo/M_char)**gamma)**(-1))\n",
    "    return m_stellar_param"
   ]
  },
  {
   "cell_type": "markdown",
   "id": "fae3e725",
   "metadata": {},
   "source": [
    "#### Parameterized SHMR Uncertainty"
   ]
  },
  {
   "cell_type": "markdown",
   "id": "359699fd",
   "metadata": {},
   "source": [
    "We define a function to resample the [Moster+2010](https://arxiv.org/abs/0903.4682) SHMR parameters around their uncertainties. We construct a stellar mass estimate based on this resampling. "
   ]
  },
  {
   "cell_type": "code",
   "execution_count": 23,
   "id": "45e90519",
   "metadata": {},
   "outputs": [],
   "source": [
    "def shmr_param_resampled(A=None, A_err=None, M_char=None, M_char_err=None, \n",
    "                          beta=None, beta_err = None, gamma=None, gamma_err=None, halo_mass_range = None):\n",
    "    \"\"\"\n",
    "    Resamples the parameterized stellar-to-halo mass relation over the parameter uncertainties\n",
    "    \n",
    "    A = normalization of SHMR at characteristc halo mass\n",
    "    A_err = uncertainty of A\n",
    "    M_char = characteristic halo mass\n",
    "    M_char_err = uncertainty of M_char\n",
    "    beta = slope of relation at low-mass end\n",
    "    beta_err = uncertainty of beta\n",
    "    gamma = slope of relation at high-mass end\n",
    "    gamma_err = uncertainty of gamma\n",
    "    halo_mass_range = discrete range of halo masses to calculate sshmr over\n",
    "    \n",
    "    Returns: sampled stellar masses from parameterized SHMR from Moster+2010\n",
    "    \"\"\"\n",
    "    sampled_stellar_mass = []\n",
    "    for i, xi in enumerate(halo_mass_range):\n",
    "        for y in range(10000):\n",
    "            A_samp = np.random.normal(loc=A, scale=A_err)\n",
    "            M_char_samp = np.random.normal(loc=M_char, scale=M_char_err)\n",
    "            beta_samp = np.random.normal(loc=beta, scale=beta_err)\n",
    "            gamma_samp = np.random.normal(loc=gamma, scale=gamma_err)\n",
    "            stellar_mass_samp = parameterized_shmr(m_halo=xi, A=A_samp, M_char=M_char_samp, beta=beta_samp, gamma=gamma_samp)\n",
    "            sampled_stellar_mass.append(stellar_mass_samp)\n",
    "    sampled_stellar_mass = np.reshape(sampled_stellar_mass, (len(halo_mass_range), 10000))\n",
    "    return sampled_stellar_mass\n",
    "        "
   ]
  },
  {
   "cell_type": "markdown",
   "id": "82ffa7af",
   "metadata": {},
   "source": [
    "We define a function to show the spread of the parameterized SHMR based on the resampled parameters."
   ]
  },
  {
   "cell_type": "code",
   "execution_count": 24,
   "id": "de59a9f3",
   "metadata": {},
   "outputs": [],
   "source": [
    "def shmr_spread(halo_mass_range=None, sampled_mstellar_shmr=None):\n",
    "    \"\"\"\n",
    "    Calculates the spread of the SHMR relation based on the parameter uncertainties\n",
    "    \n",
    "    halo_mass_range = discrete range of halo masses to calculate the spread over\n",
    "    sampled_mstellar_sshmr = resampled stellar mass over SSHMR parameter uncertainties\n",
    "    \n",
    "    Returns: spread of stellar mass calculated from resampled parameterized SHMR from Moster+2010\n",
    "    \"\"\"\n",
    "    \n",
    "    spread_mstellar_list = []\n",
    "    spread_shmr_list = []\n",
    "    for i, xi in enumerate(halo_mass_range):\n",
    "        spread_obj_mstellar = [np.min(sampled_mstellar_shmr[i,:]), np.max(sampled_mstellar_shmr[i,:])]\n",
    "        spread_obj_shmr = [np.min(sampled_mstellar_shmr[i,:])/xi, np.max(sampled_mstellar_shmr[i,:])/xi]\n",
    "        spread_mstellar_list.append(spread_obj_mstellar)\n",
    "        spread_shmr_list.append(spread_obj_shmr)\n",
    "    spread_mstellar_arr = np.array(spread_mstellar_list)\n",
    "    spread_shmr_arr = np.array(spread_shmr_list)\n",
    "    return spread_mstellar_arr, spread_shmr_arr"
   ]
  },
  {
   "cell_type": "markdown",
   "id": "d231ce52",
   "metadata": {},
   "source": [
    "We define an alternative parameterization of the SHMR, from [Danieli+2023](https://arxiv.org/pdf/2210.14233), which is based on a sample of dwarf galaxies."
   ]
  },
  {
   "cell_type": "code",
   "execution_count": 25,
   "id": "9fc0f236",
   "metadata": {},
   "outputs": [],
   "source": [
    "def sshmr_danieli(epsilon, m_char_danieli, alpha_danieli, beta_danieli, gamma_danieli, delta_danieli, m_halo):\n",
    "    \"\"\"\n",
    "    Calculates the SHMR for Danieli+2023\n",
    "   \n",
    "    epsilon = characteristic stellar mass to peak halo mass ratio\n",
    "    m_char_danieli = characteric peak halo mass\n",
    "    alpha_danieli = faint-end slope\n",
    "    beta_danieli = massive-end slope\n",
    "    gamma_danieli = height of Gaussian\n",
    "    delta_danieli = width of Gaussian\n",
    "    m_halo = halo mass (solar masses)\n",
    "    \n",
    "    Returns: stellar mass derived from Danieli+2023 SHMR\n",
    "    \"\"\"\n",
    "    \n",
    "    x = np.log10(m_halo/m_char_danieli)\n",
    "    log10_m_stellar_parameterized_danieli = epsilon + np.log10(m_char_danieli) - np.log10(10**(-1*alpha_danieli*x) + 10**(-1*beta_danieli*x)) + gamma_danieli*np.exp(-0.5*(x/delta_danieli)**2)\n",
    "    m_stellar_parameterized_danieli = 10**(log10_m_stellar_parameterized_danieli)\n",
    "    return m_stellar_parameterized_danieli"
   ]
  },
  {
   "cell_type": "markdown",
   "id": "25f53c45",
   "metadata": {},
   "source": [
    "## Parameters"
   ]
  },
  {
   "cell_type": "markdown",
   "id": "360f4e03",
   "metadata": {},
   "source": [
    "### Stellar Mass Parameters"
   ]
  },
  {
   "cell_type": "markdown",
   "id": "d2844acc",
   "metadata": {},
   "source": [
    "We define the parameters used to determine the stellar mass. We define the red subhalo mass and blue host halo mass used to calculate the LSBG SHMR and the [Bell+2003](https://iopscience.iop.org/article/10.1086/378847) parameters for the CMLR. We define the AB absolute magnitude of the sun for a specific SDSS filter. The m_halo_width parameter is used to ensure that the stellar mass distribution is visible as a violin plot."
   ]
  },
  {
   "cell_type": "code",
   "execution_count": 26,
   "id": "faa974d6",
   "metadata": {},
   "outputs": [],
   "source": [
    "#Halo masses\n",
    "m_halo_red = 10**11.51\n",
    "m_halo_blue = 7.2e11\n",
    "m_sol_i = 4.54\n",
    "m_halo_width = 1.1e11"
   ]
  },
  {
   "cell_type": "markdown",
   "id": "113e08ef",
   "metadata": {},
   "source": [
    "We define additional parameters for the CMLR for the color *g-r* and *i*-band magnitude."
   ]
  },
  {
   "cell_type": "code",
   "execution_count": 27,
   "id": "afcc2fd4",
   "metadata": {},
   "outputs": [],
   "source": [
    "#CMLR parameters\n",
    "#i-band, g-r\n",
    "a_i_gr =  -0.222 \n",
    "b_i_gr =  0.864 "
   ]
  },
  {
   "cell_type": "markdown",
   "id": "ace18e42",
   "metadata": {},
   "source": [
    "### Parameterized SHMR Parameters"
   ]
  },
  {
   "cell_type": "markdown",
   "id": "1a8589ef",
   "metadata": {},
   "source": [
    "We define the necessary parameters for the stellar-subhalo-mass relation (for comparison with the red sample) and stellar-halo-mass relation (for comparison with the blue sample) from [Moster+2010](https://arxiv.org/abs/0903.4682). These parameters are redshift dependent, thus we select the parameters designed for low-redshift galaxies. We also define the parameters used for the [Danieli+2023](https://arxiv.org/pdf/2210.14233) SHMR, which we compare to the red subhalo sample. "
   ]
  },
  {
   "cell_type": "code",
   "execution_count": 28,
   "id": "f75bd531",
   "metadata": {},
   "outputs": [],
   "source": [
    "#Moster 2010 satellite (subhalo, red sample)\n",
    "A_sat = 0.0186 \n",
    "A_sat_err = 0.0012 \n",
    "\n",
    "M_char_sat = 10**(12.1988) \n",
    "M_char_sat_err = 10**(0.0878)\n",
    "\n",
    "beta_sat = 0.7817 \n",
    "beta_sat_err = 0.0629\n",
    "\n",
    "gamma_sat = 0.7334 \n",
    "gamma_sat_err = 0.0452 "
   ]
  },
  {
   "cell_type": "code",
   "execution_count": 29,
   "id": "6c5e1b49",
   "metadata": {},
   "outputs": [],
   "source": [
    "#Moster 2010 central (host halo, blue sample)\n",
    "A_cen = 0.02817\n",
    "A_cen_err = 0.0006\n",
    "\n",
    "M_char_cen = 10**(11.899)\n",
    "M_char_cen_err = 10**(0.025)\n",
    "\n",
    "beta_cen = 1.068 \n",
    "beta_cen_err = 0.05\n",
    "\n",
    "gamma_cen = 0.611\n",
    "gamma_cen_err = 0.011"
   ]
  },
  {
   "cell_type": "code",
   "execution_count": 30,
   "id": "b65605db",
   "metadata": {},
   "outputs": [],
   "source": [
    "#Danieli+2023 satellite\n",
    "epsilon = -1.432\n",
    "m_char_danieli = 10**11.889\n",
    "beta_danieli = 0.464\n",
    "gamma_danieli = 10**(-0.812)\n",
    "delta_danieli = 0.319\n",
    "alpha_danieli = 2.1"
   ]
  },
  {
   "cell_type": "markdown",
   "id": "97c92646",
   "metadata": {},
   "source": [
    "We define a discrete array of halo masses to plot the parameterized SHMR for both the [Danieli+2023](https://arxiv.org/pdf/2210.14233) and [Moster+2010](https://arxiv.org/abs/0903.4682) functions and the number of resamples for the bootstrap uncertainty around the stellar mass median an mean."
   ]
  },
  {
   "cell_type": "code",
   "execution_count": 31,
   "id": "e2f869b0",
   "metadata": {},
   "outputs": [],
   "source": [
    "m_halo_arr_disc = np.linspace(3.9e10, 1e13, 10000)\n",
    "halo_mass_range = np.array([3.9e10, 5e10, 6e10, 7e10, 8e10, 9e10, 1e11, 2e11, 3e11, 4e11, 5e11, 6e11, 7e11, 8e11, 9e11, 1e12, 2e12, 3e12, 4e12, 5e12, 6e12, 7e12, 8e12, 9e12, 1e13])"
   ]
  },
  {
   "cell_type": "code",
   "execution_count": 32,
   "id": "4b070a71",
   "metadata": {},
   "outputs": [],
   "source": [
    "n_resamples= 10000"
   ]
  },
  {
   "cell_type": "markdown",
   "id": "8390a26d",
   "metadata": {},
   "source": [
    "## LSBG Stellar Mass"
   ]
  },
  {
   "cell_type": "markdown",
   "id": "0a28fa32",
   "metadata": {},
   "source": [
    "We call the functions to estimate the LSBG stellar mass for the g-r color and i-band magnitude for the red and blue LSBG samples. "
   ]
  },
  {
   "cell_type": "markdown",
   "id": "8b1598a3",
   "metadata": {},
   "source": [
    "We estimate the stellar mass for the i-band with the color g-r for the red LSBG sample."
   ]
  },
  {
   "cell_type": "code",
   "execution_count": 33,
   "id": "a5873826",
   "metadata": {
    "scrolled": true
   },
   "outputs": [],
   "source": [
    "#For red LSBGs\n",
    "m_stellar_i_red_gr, shmr_i_red_gr, = total_shmr(zlrange = zlrange_red, zldist = zldist_red_fiducial, mag = i_red, mag_1 = g_red, \n",
    "              mag_2 = r_red, a = a_i_gr, b = b_i_gr, m_sol = m_sol_i, m_halo = m_halo_red)\n"
   ]
  },
  {
   "cell_type": "markdown",
   "id": "720d1b13",
   "metadata": {},
   "source": [
    "We calculate the uncertainty on the median and mean stellar mass distribution for the red LSBGs. "
   ]
  },
  {
   "cell_type": "code",
   "execution_count": 34,
   "id": "ee429dd0",
   "metadata": {},
   "outputs": [
    {
     "name": "stdout",
     "output_type": "stream",
     "text": [
      "95% Confidence Interval for the Median: (418371495.73130834, 430667282.2837807)\n",
      "95% Confidence Interval for the Mean: (663934563.1976558, 700334939.6405818)\n"
     ]
    }
   ],
   "source": [
    "bootstrap_med_lower_m_stellar_red_i_gr, bootstrap_med_upper_m_stellar_red_i_gr = bootstrap_median(n_resamples=n_resamples, data=m_stellar_i_red_gr.flatten())\n",
    "\n",
    "bootstrap_mean_lower_m_stellar_red_i_gr, bootstrap_mean_upper_m_stellar_red_i_gr = bootstrap_mean(n_resamples=n_resamples, data=m_stellar_i_red_gr.flatten())\n"
   ]
  },
  {
   "cell_type": "markdown",
   "id": "9cd633eb",
   "metadata": {},
   "source": [
    "We estimate the stellar mass for the i-band  with the color g-r for the blue LSBGs"
   ]
  },
  {
   "cell_type": "code",
   "execution_count": 35,
   "id": "09b1f8bc",
   "metadata": {},
   "outputs": [],
   "source": [
    "#For blue LSBGs\n",
    "m_stellar_i_blue_gr, shmr_i_blue_gr = total_shmr(zlrange = zlrange_blue,zldist = zldist_blue_fiducial, mag = i_blue,  mag_1 = g_blue, \n",
    "                mag_2 = r_blue, a = a_i_gr, b = b_i_gr, m_sol = m_sol_i, m_halo = m_halo_blue)\n"
   ]
  },
  {
   "cell_type": "markdown",
   "id": "585f38c4",
   "metadata": {},
   "source": [
    "We calculate the uncertainty on the median and mean stellar mass distributions for the blue LSBGs"
   ]
  },
  {
   "cell_type": "code",
   "execution_count": 36,
   "id": "9d42f080",
   "metadata": {},
   "outputs": [
    {
     "name": "stdout",
     "output_type": "stream",
     "text": [
      "95% Confidence Interval for the Median: (1107414716.3891053, 1129222166.050583)\n",
      "95% Confidence Interval for the Mean: (1431891414.9909408, 1481073713.199596)\n"
     ]
    }
   ],
   "source": [
    "bootstrap_med_lower_m_stellar_blue_i_gr, bootstrap_med_upper_m_stellar_blue_i_gr = bootstrap_median(n_resamples=n_resamples, data=m_stellar_i_blue_gr.flatten())\n",
    "bootstrap_mean_lower_m_stellar_blue_i_gr, bootstrap_mean_upper_m_stellar_blue_i_gr = bootstrap_mean(n_resamples=n_resamples, data=m_stellar_i_blue_gr.flatten())\n"
   ]
  },
  {
   "cell_type": "markdown",
   "id": "5d33aba0",
   "metadata": {},
   "source": [
    "We compare the red and blue LSBG stellar mass distributions to the estimates of [Greene+2022](https://ui.adsabs.harvard.edu/abs/2022ApJ...933..150G/abstract)."
   ]
  },
  {
   "cell_type": "code",
   "execution_count": 37,
   "id": "923bcea0",
   "metadata": {},
   "outputs": [
    {
     "data": {
      "image/png": "[encoded data removed]",
      "text/plain": [
       "<Figure size 432x324 with 1 Axes>"
      ]
     },
     "metadata": {
      "needs_background": "light"
     },
     "output_type": "display_data"
    }
   ],
   "source": [
    "fig = plt.figure(figsize=(6,4.5))\n",
    "bins = np.logspace(np.log10(1e6), np.log10(1e11), 50)\n",
    "plt.hist(m_stellar_i_blue_gr, bins=bins, alpha=0.5, color='royalblue', label='Blue LSBG')\n",
    "plt.hist(m_stellar_i_red_gr, bins=bins, alpha=0.5, color='firebrick', label='Red LSBG')\n",
    "plt.plot(greene_m_red, greene_red, color='firebrick', ls='--', label='Greene+(2022)')\n",
    "plt.plot(greene_m_blue, greene_blue, color='royalblue', ls='--', label='Greene+(2022)')\n",
    "plt.xlabel('$M_*$', fontsize=16)\n",
    "plt.ylabel('$n(M_*)$', fontsize=16)\n",
    "plt.xlim(1e6, 6e10)\n",
    "plt.ylim(1e0, 1e5)\n",
    "plt.legend(frameon=False, fontsize=16, loc='upper right', ncol=2)\n",
    "plt.tick_params(axis='both', labelsize=14)\n",
    "plt.xscale('log')\n",
    "plt.yscale('log')\n",
    "plt.show()"
   ]
  },
  {
   "cell_type": "markdown",
   "id": "8de22af5",
   "metadata": {},
   "source": [
    "## Parametrized Stellar-Halo-Mass Relation"
   ]
  },
  {
   "cell_type": "markdown",
   "id": "d725993d",
   "metadata": {},
   "source": [
    "We call functions to calculate and plot the various parameterized stellar-halo mass relations. "
   ]
  },
  {
   "cell_type": "markdown",
   "id": "0c136d32",
   "metadata": {},
   "source": [
    "### Moster+2010"
   ]
  },
  {
   "cell_type": "markdown",
   "id": "ebd40afb",
   "metadata": {},
   "source": [
    "We compare the [Moster+2010](https://arxiv.org/abs/0903.4682) stellar-to-subhalo-mass relation to the red LSBG stellar-to-halo-mass relation and the [Moster+2010](https://arxiv.org/abs/0903.4682) stellar-to-halo-mass relation to the blue LSBG stellar-to-halo-mass relation. "
   ]
  },
  {
   "cell_type": "markdown",
   "id": "207e78f1",
   "metadata": {},
   "source": [
    "We produce an array of stellar masses corresponding to a discrete array of halo masses by using the SsHMR and the SHMR for both satellite and central galaxies. "
   ]
  },
  {
   "cell_type": "code",
   "execution_count": 38,
   "id": "0cdd2b44",
   "metadata": {},
   "outputs": [],
   "source": [
    "m_stellar_sshmr_satellite = parameterized_shmr(m_halo=m_halo_arr_disc, A=A_sat, M_char=M_char_sat, beta=beta_sat, gamma=gamma_sat)"
   ]
  },
  {
   "cell_type": "code",
   "execution_count": 39,
   "id": "41142892",
   "metadata": {},
   "outputs": [],
   "source": [
    "m_stellar_shmr_central = parameterized_shmr(m_halo=m_halo_arr_disc, A=A_cen, M_char=M_char_cen, beta=beta_cen, gamma=gamma_cen)"
   ]
  },
  {
   "cell_type": "markdown",
   "id": "898f093c",
   "metadata": {},
   "source": [
    "We resample the parameterized [Moster+2010](https://arxiv.org/abs/0903.4682) SsHMR and SHMR over the uncertainties in their parameters. "
   ]
  },
  {
   "cell_type": "code",
   "execution_count": 40,
   "id": "b4819207",
   "metadata": {},
   "outputs": [],
   "source": [
    "sampled_stellar_mass_sat_sshmr = shmr_param_resampled(A=A_sat, A_err=A_sat_err, M_char=M_char_sat, M_char_err=M_char_sat_err, \n",
    "                          beta=beta_sat, beta_err = beta_sat_err, gamma=gamma_sat, gamma_err=gamma_sat_err, halo_mass_range = halo_mass_range)\n",
    "\n",
    "sampled_stellar_mass_cen_shmr = shmr_param_resampled(A=A_cen, A_err=A_cen_err, M_char=M_char_cen, M_char_err=M_char_cen_err, \n",
    "                          beta=beta_cen, beta_err = beta_cen_err, gamma=gamma_cen, gamma_err=gamma_cen_err, halo_mass_range = halo_mass_range)\n"
   ]
  },
  {
   "cell_type": "markdown",
   "id": "ab2ae3ae",
   "metadata": {},
   "source": [
    "We define the spread of the [Moster+2010](https://arxiv.org/abs/0903.4682) SsHMR and SHMR using the resampled SsHMR and SHMR stellar masses."
   ]
  },
  {
   "cell_type": "code",
   "execution_count": 41,
   "id": "5207f6c9",
   "metadata": {},
   "outputs": [],
   "source": [
    "spread_mstellar_sat_arr, spread_sshmr_sat_arr = shmr_spread(halo_mass_range=halo_mass_range, \n",
    "                                    sampled_mstellar_shmr=sampled_stellar_mass_sat_sshmr)\n",
    "spread_mstellar_cen_arr, spread_shmr_cen_arr = shmr_spread(halo_mass_range=halo_mass_range, \n",
    "                                    sampled_mstellar_shmr=sampled_stellar_mass_cen_shmr)\n"
   ]
  },
  {
   "cell_type": "markdown",
   "id": "e23b5516",
   "metadata": {},
   "source": [
    "We define the bounds of the spread of the [Moster+2010](https://arxiv.org/abs/0903.4682) parameterized SHMR for both satellite and central galaxies. "
   ]
  },
  {
   "cell_type": "code",
   "execution_count": 42,
   "id": "5bd60055",
   "metadata": {},
   "outputs": [],
   "source": [
    "y_min_mstellar_sat_spread = spread_mstellar_sat_arr[:,0]\n",
    "y_max_mstellar_sat_spread = spread_mstellar_sat_arr[:,1]\n",
    "\n",
    "y_min_sshmr_sat_spread = spread_sshmr_sat_arr[:,0]\n",
    "y_max_sshmr_sat_spread = spread_sshmr_sat_arr[:,1]\n",
    "\n",
    "\n",
    "y_min_mstellar_cen_spread = spread_mstellar_cen_arr[:,0]\n",
    "y_max_mstellar_cen_spread = spread_mstellar_cen_arr[:,1]\n",
    "\n",
    "y_min_shmr_cen_spread = spread_shmr_cen_arr[:,0]\n",
    "y_max_shmr_cen_spread = spread_shmr_cen_arr[:,1]"
   ]
  },
  {
   "cell_type": "markdown",
   "id": "36f287a8",
   "metadata": {},
   "source": [
    "### Danieli+2023"
   ]
  },
  {
   "cell_type": "markdown",
   "id": "841a1b43",
   "metadata": {},
   "source": [
    "We calculate the stellar mass corresponding to the [Danieli+2023](https://arxiv.org/pdf/2210.14233) definition of the SHMR."
   ]
  },
  {
   "cell_type": "code",
   "execution_count": 43,
   "id": "989ba015",
   "metadata": {},
   "outputs": [],
   "source": [
    "m_stellar_danieli = sshmr_danieli(epsilon, m_char_danieli, alpha_danieli, beta_danieli, gamma_danieli, delta_danieli, m_halo_arr_disc)\n"
   ]
  },
  {
   "cell_type": "markdown",
   "id": "51a543d0",
   "metadata": {},
   "source": [
    "### Thornton+2023"
   ]
  },
  {
   "cell_type": "markdown",
   "id": "aba22f5c",
   "metadata": {},
   "source": [
    "We define the uncertainties and values used for the [Thornton+2023](https://arxiv.org/pdf/2311.14659) SHMR estimates for dwarf galaxies. "
   ]
  },
  {
   "cell_type": "code",
   "execution_count": 44,
   "id": "43e52289",
   "metadata": {},
   "outputs": [],
   "source": [
    "thornton_stellar_mass = np.array([10**(8.43), 10**(8.99), 10**9.47])\n",
    "thornton_stellar_mass_err_pos = np.array([(10**(8.43+0.88)-(10**8.43)), (10**(8.99+0.68)-(10**8.99)), (10**(9.47+0.64)-(10**9.47))])\n",
    "thornton_stellar_mass_err_neg = np.array([10**8.43 - 10**(8.43-0.88), 10**8.99 - 10**(8.99-0.68), 10**9.47 - 10**(9.47-0.64)])\n",
    "\n",
    "\n",
    "thornton_halo_mass = np.array([10**10.60, 10**10.96, 10**11.35])\n",
    "thornton_halo_mass_err_pos = np.array([10**(10.60+0.29)-(10**10.60), 10**(10.96+0.20)-(10**10.96), 10**(11.35+0.14)-(10**11.35)])\n",
    "thornton_halo_mass_err_neg = np.array([10**(10.60)-(10**(10.60-0.29)), 10**10.96-(10**(10.96-0.20)), 10**11.35 - 10**(11.35-0.14)])\n"
   ]
  },
  {
   "cell_type": "markdown",
   "id": "84aff21f",
   "metadata": {},
   "source": [
    "### Mass Definition Conversion"
   ]
  },
  {
   "cell_type": "markdown",
   "id": "7014e996",
   "metadata": {},
   "source": [
    "We convert the current halo mass definitions from $M_{200c}$ to the virial mass, based on the means of the LSBG redshift distributions. "
   ]
  },
  {
   "cell_type": "code",
   "execution_count": 45,
   "id": "380f361b",
   "metadata": {},
   "outputs": [],
   "source": [
    "#Means of redshift distributions\n",
    "zl_mean_red = 0.042 \n",
    "zl_mean_blue = 0.092\n",
    "\n",
    "#Halo mass conversion\n",
    "m_halo_vir, r_vir, c_vir = mass_defs.changeMassDefinition(m_halo_red, concentration.concentration(m_halo_red, '200c', zl_mean_red, 'ishiyama21'), zl_mean_red, '200c', 'vir')\n",
    "m_halo_vir_blue, r_vir_blue, c_vir_blue = mass_defs.changeMassDefinition(m_halo_blue, concentration.concentration(m_halo_blue, '200c', zl_mean_blue, 'ishiyama21'), zl_mean_blue, '200c', 'vir')"
   ]
  },
  {
   "cell_type": "markdown",
   "id": "280c8b18",
   "metadata": {},
   "source": [
    "### Final Plot"
   ]
  },
  {
   "cell_type": "markdown",
   "id": "be8ad390",
   "metadata": {},
   "source": [
    "We plot the LSBG SHMR and compare to the [Moster+2010](https://arxiv.org/abs/0903.4682) parameterized SHMRs, the [Danieli+2023](https://arxiv.org/pdf/2210.14233) parameterized SHMR, the [Mao+2021](https://iopscience.iop.org/article/10.3847/1538-4357/abce58) satellite galaxy stellar mass estimate, the [van Dokkum+2016](https://ui.adsabs.harvard.edu/abs/2016ApJ...828L...6V/abstract) SHMR, the [Sifon+2018](https://arxiv.org/pdf/1704.07847) SHMR upper bound, and the [Thornton+2023](https://arxiv.org/pdf/2311.14659) SHMR. "
   ]
  },
  {
   "cell_type": "code",
   "execution_count": 46,
   "id": "0f403acb",
   "metadata": {},
   "outputs": [
    {
     "data": {
      "image/png": "[encoded data removed]",
      "text/plain": [
       "<Figure size 576x720 with 2 Axes>"
      ]
     },
     "metadata": {
      "needs_background": "light"
     },
     "output_type": "display_data"
    }
   ],
   "source": [
    "#Defining subhalo range and array of x-axis values for plotting\n",
    "subhalo_range = np.linspace(3.9e10, m_halo_vir, 100)\n",
    "median_stellar_line = np.array([np.median(m_stellar_i_red_gr)]*100)\n",
    "\n",
    "fig, axs = plt.subplots(2, 1, sharex=True, sharey=True, figsize=(8,10), tight_layout=True)\n",
    "\n",
    "#Parameterized Moster+(2010) stellar-subhalo mass relation, for satellite galaxies\n",
    "axs[0].fill_between(halo_mass_range, y_min_mstellar_sat_spread, y_max_mstellar_sat_spread, color='grey', alpha=0.5)\n",
    "axs[0].plot(m_halo_arr_disc, m_stellar_sshmr_satellite, color='black', label='Moster + 2010')\n",
    "\n",
    "#Parameterized Danieli+(2023) stellar-subhalo mass relation, for satellite galaxies\n",
    "axs[0].plot(m_halo_arr_disc, m_stellar_danieli, color='darkorchid', label='Danieli+2023')\n",
    "\n",
    "#This work's red LSBG stellar-subhalo mass relation\n",
    "parts=axs[0].violinplot(m_stellar_i_red_gr, positions=[m_halo_vir], widths=0.5e11, showmeans=True, showmedians=True)\n",
    "axs[0].plot(m_halo_vir, np.median(m_stellar_i_red_gr), marker='x', color='firebrick', label='$\\\\mathrm{This~work}$')\n",
    "axs[0].plot(m_halo_vir, np.mean(m_stellar_i_red_gr), marker='o', color='firebrick')\n",
    "axs[0].arrow(m_halo_vir, np.median(m_stellar_i_red_gr), -1e11, 0, head_width=1.2e8, head_length=9e9, color='firebrick')\n",
    "axs[0].arrow(m_halo_vir, np.mean(m_stellar_i_red_gr), -1e11, 0, head_width=2e8, head_length=9e9, color='firebrick')\n",
    "axs[0].fill_between((2.7e11, m_halo_vir), bootstrap_med_lower_m_stellar_red_i_gr, bootstrap_med_upper_m_stellar_red_i_gr, color='firebrick')\n",
    "axs[0].fill_between((2.7e11, m_halo_vir), bootstrap_mean_lower_m_stellar_red_i_gr, bootstrap_mean_upper_m_stellar_red_i_gr, color='firebrick')\n",
    "for pc in parts['bodies']:\n",
    "    pc.set_facecolor('firebrick')\n",
    "    pc.set_edgecolor('firebrick')\n",
    "    pc.set_alpha(0.5)\n",
    "parts['cmedians'].set_color('firebrick')\n",
    "parts['cmaxes'].set_color('firebrick')\n",
    "parts['cmins'].set_color('firebrick') \n",
    "parts['cmeans'].set_color('firebrick')\n",
    "parts['cbars'].set_color('firebrick')\n",
    "\n",
    "\n",
    "#SAGA (Mao+(2021)) stellar mass estimate (dwarf, satellite galaxies)\n",
    "axs[0].fill_betweenx((69183097.09189363, 123026877.0812381), 5e10, 1e13, color='seagreen', alpha=0.1)\n",
    "axs[0].axhline(y=93325430.07969905, color='seagreen', ls = '--', label='SAGA (Mao + 2021)')\n",
    "\n",
    "#Sifon+(2018) SHMR (Ultra-Diffuse Galaxies)\n",
    "axs[0].errorbar(10**11.80, 2e8, marker='x', markersize=8, color='midnightblue', label='$\\\\mathrm{Sifon + 2018}$')\n",
    "axs[0].arrow(10**11.80, 2e8, -1.7e11, 0, head_width=0.5e8, head_length=9e9, color='midnightblue')\n",
    "\n",
    "#Van Dokkum+(2016) (Dragonfly 44)\n",
    "axs[0].plot(10**11.90, 3e8, marker='x', markersize=8, color='goldenrod', label='$\\\\mathrm{van~Dokkum + 2016}$')\n",
    "\n",
    "#Moster+(2010) stellar-halo mass relation, for central galaxies\n",
    "axs[1].fill_between(halo_mass_range, y_min_mstellar_cen_spread, y_max_mstellar_cen_spread, color='grey', alpha=0.5)\n",
    "axs[1].plot(m_halo_arr_disc, m_stellar_shmr_central, color='black',  label='Moster + 2010')\n",
    "\n",
    "#This work's blue LSBG stellar-halo mass relation\n",
    "parts_blue=axs[1].violinplot(m_stellar_i_blue_gr, positions=[m_halo_vir_blue], widths=0.5e11, showmeans=True, showmedians=True)\n",
    "axs[1].plot(m_halo_vir_blue, np.median(m_stellar_i_blue_gr), marker='x', color='royalblue', label='$\\\\mathrm{This~work}$')\n",
    "axs[1].plot(m_halo_vir_blue, np.mean(m_stellar_i_blue_gr), marker='o', color='royalblue')\n",
    "for pc_blue in parts_blue['bodies']:\n",
    "    pc_blue.set_facecolor('royalblue')\n",
    "    pc_blue.set_edgecolor('royalblue')\n",
    "    pc_blue.set_alpha(0.5)\n",
    "parts_blue['cmedians'].set_color('royalblue')\n",
    "parts_blue['cmaxes'].set_color('royalblue') \n",
    "parts_blue['cmins'].set_color('royalblue') \n",
    "parts_blue['cmeans'].set_color('royalblue')\n",
    "parts_blue['cbars'].set_color('royalblue')\n",
    "axs[1].fill_between((6e11, m_halo_vir_blue), bootstrap_med_lower_m_stellar_blue_i_gr, bootstrap_med_upper_m_stellar_blue_i_gr, color='royalblue')\n",
    "axs[1].fill_between((6e11, m_halo_vir_blue), bootstrap_mean_lower_m_stellar_blue_i_gr, bootstrap_mean_upper_m_stellar_blue_i_gr, color='royalblue')\n",
    "axs[1].arrow(m_halo_vir_blue, np.median(m_stellar_i_blue_gr), -2e11, 0, head_width=3e8, head_length=2e10, color='royalblue')\n",
    "axs[1].arrow(m_halo_vir_blue, np.mean(m_stellar_i_blue_gr), -2e11, 0, head_width=4e8, head_length=2e10, color='royalblue')\n",
    "\n",
    "#Thornton+(2023) stellar-halo mass relation\n",
    "axs[1].errorbar(thornton_halo_mass, thornton_stellar_mass,  yerr=[thornton_stellar_mass_err_neg, thornton_stellar_mass_err_pos], xerr=[thornton_halo_mass_err_neg, thornton_halo_mass_err_pos], fmt='x', markersize=8, color='darkorange', label='Thornton + 2023')\n",
    "\n",
    "\n",
    "plt.xscale('log')\n",
    "plt.yscale('log')\n",
    "plt.xlabel('$M_h/M_{\\odot}$', fontsize=16)\n",
    "axs[0].set_ylabel('$M_*/M_{\\odot}$', fontsize=16)\n",
    "axs[1].set_ylabel('$M_*/M_{\\odot}$', fontsize=16)\n",
    "plt.xlim(3.9e10, 1e12)\n",
    "plt.ylim(1e7, 1e12)\n",
    "axs[0].legend(frameon=False, fontsize=16, loc='upper left', ncol=2, title='Stellar to Subhalo Mass Relation', title_fontsize=16)\n",
    "axs[1].legend(frameon=False, fontsize=16, loc='upper left', ncol=2, title='Stellar to Halo Mass Relation', title_fontsize=16)\n",
    "axs[0].tick_params(axis='both', labelsize=16)\n",
    "axs[1].tick_params(axis='both', labelsize=16)\n",
    "plt.show()"
   ]
  },
  {
   "cell_type": "code",
   "execution_count": null,
   "id": "95dd7942",
   "metadata": {},
   "outputs": [],
   "source": []
  },
  {
   "cell_type": "code",
   "execution_count": null,
   "id": "22301600",
   "metadata": {},
   "outputs": [],
   "source": []
  }
 ],
 "metadata": {
  "kernelspec": {
   "display_name": "Python 3 (ipykernel)",
   "language": "python",
   "name": "python3"
  },
  "language_info": {
   "codemirror_mode": {
    "name": "ipython",
    "version": 3
   },
   "file_extension": ".py",
   "mimetype": "text/x-python",
   "name": "python",
   "nbconvert_exporter": "python",
   "pygments_lexer": "ipython3",
   "version": "3.9.12"
  }
 },
 "nbformat": 4,
 "nbformat_minor": 5
}

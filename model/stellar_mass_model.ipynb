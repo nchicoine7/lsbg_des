{
 "cells": [
  {
   "cell_type": "markdown",
   "id": "db14c3a8",
   "metadata": {},
   "source": [
    "# Stellar-to-Subhalo-Mass Relation for LSBGs"
   ]
  },
  {
   "cell_type": "markdown",
   "id": "9c801086",
   "metadata": {},
   "source": [
    "## Introduction"
   ]
  },
  {
   "cell_type": "markdown",
   "id": "5e60c447",
   "metadata": {},
   "source": [
    "The stellar-to-halo mass relation (SHMR) links dark matter halos to their resident galaxies, providing insight on galaxy formation and evolution. Faint or low-mass galaxies test the limits of the established, parameterized SHMR. In this notebook, we estimate the distribution of stellar masses for the red LSBG sample using the photometry and the color-mass-to-light relation. We compare this stellar mass to the subhalo mass gathered from the LSBG mass model and MCMC runs. We generate a parameterized version of the stellar-to-halo-mass relation (for satellite galaxies) and compare the estimate to this curve. "
   ]
  },
  {
   "cell_type": "markdown",
   "id": "f334cc46",
   "metadata": {},
   "source": [
    "## Imports"
   ]
  },
  {
   "cell_type": "markdown",
   "id": "843dca97",
   "metadata": {},
   "source": [
    "* We use numpy for numerical calculations and analysis\n",
    "* We use matplotlib for plotting\n",
    "* We use scipy and random for statistical analysis\n",
    "* We use seaborn to plot distributions\n",
    "* We use pandas to load in files\n",
    "* We use astropy for cosmology to calculate distances"
   ]
  },
  {
   "cell_type": "code",
   "execution_count": 195,
   "id": "3d017584",
   "metadata": {},
   "outputs": [],
   "source": [
    "#Loading packages\n",
    "import numpy as np\n",
    "import matplotlib.pyplot as plt\n",
    "%matplotlib inline\n",
    "import scipy\n",
    "from scipy.stats import norm\n",
    "from random import sample\n",
    "import seaborn as sns\n",
    "import pandas as pd\n",
    "from astropy.cosmology import Planck15\n",
    "from astropy import units as u\n",
    "plt.rc('text', usetex=True)\n",
    "plt.rc('font', family='serif')"
   ]
  },
  {
   "cell_type": "markdown",
   "id": "72562def",
   "metadata": {},
   "source": [
    "## Loading Data"
   ]
  },
  {
   "cell_type": "markdown",
   "id": "774a3f7c",
   "metadata": {},
   "source": [
    "We load in the LSBG catalog and pull out the positions, g-magnitudes, g-magnitude errors, i-magnitudes, i-magnitude errors, r-mangitudes, and r-magnitude errors. We create masks based on the color, red for $g-i>0.6$ and blue for $g-i<0.6$. We  apply the masks to obtain magnitudes for specific color samples. The majority of modeling for this notebook uses the g-band and i-band magnitudes and the red galaxy sample."
   ]
  },
  {
   "cell_type": "code",
   "execution_count": 196,
   "id": "0dd00a73",
   "metadata": {},
   "outputs": [],
   "source": [
    "lens_file=pd.read_csv(r'../data/LSBG_catalog_v2.csv')\n",
    "lens=pd.DataFrame(lens_file, columns= ['ra_se','dec_se', 'mag_gfm_g_corr', 'magerr_gfm_g', 'mag_gfm_i_corr','magerr_gfm_i', 'mag_gfm_r_corr','magerr_gfm_r','r_eff_r'])"
   ]
  },
  {
   "cell_type": "code",
   "execution_count": 197,
   "id": "763893f4",
   "metadata": {},
   "outputs": [],
   "source": [
    "g = lens['mag_gfm_g_corr']\n",
    "g_err = lens['magerr_gfm_g']\n"
   ]
  },
  {
   "cell_type": "code",
   "execution_count": 4,
   "id": "c3ebb2c8",
   "metadata": {},
   "outputs": [],
   "source": [
    "i = lens['mag_gfm_i_corr']\n",
    "i_err = lens['magerr_gfm_i']\n"
   ]
  },
  {
   "cell_type": "code",
   "execution_count": 5,
   "id": "85ed6522",
   "metadata": {},
   "outputs": [],
   "source": [
    "r = lens['mag_gfm_r_corr']\n",
    "r_err = lens['magerr_gfm_r']\n"
   ]
  },
  {
   "cell_type": "code",
   "execution_count": 6,
   "id": "63b03a0a",
   "metadata": {},
   "outputs": [],
   "source": [
    "mask_blue = (g-i)<=0.60\n",
    "mask_red = (g-i)>=0.60\n",
    "red_lens = lens[mask_red]\n",
    "blue_lens = lens[mask_blue]\n"
   ]
  },
  {
   "cell_type": "code",
   "execution_count": 7,
   "id": "73212ff4",
   "metadata": {},
   "outputs": [],
   "source": [
    "g_red = red_lens['mag_gfm_g_corr']\n",
    "g_blue = blue_lens['mag_gfm_g_corr']\n",
    "g_err_red = red_lens['magerr_gfm_g']\n",
    "g_err_blue = blue_lens['magerr_gfm_g']\n"
   ]
  },
  {
   "cell_type": "code",
   "execution_count": 8,
   "id": "42f5b95a",
   "metadata": {},
   "outputs": [],
   "source": [
    "i_red = red_lens['mag_gfm_i_corr']\n",
    "i_blue = blue_lens['mag_gfm_i_corr']\n",
    "i_err_red = red_lens['magerr_gfm_i']\n",
    "i_err_blue = blue_lens['magerr_gfm_i']\n"
   ]
  },
  {
   "cell_type": "code",
   "execution_count": 9,
   "id": "d3743b74",
   "metadata": {},
   "outputs": [],
   "source": [
    "r_red = red_lens['mag_gfm_r_corr']\n",
    "r_blue = blue_lens['mag_gfm_r_corr']\n",
    "r_err_red = red_lens['magerr_gfm_r']\n",
    "r_err_blue = blue_lens['magerr_gfm_r']"
   ]
  },
  {
   "cell_type": "markdown",
   "id": "45a105cb",
   "metadata": {},
   "source": [
    "## Function Definitions"
   ]
  },
  {
   "cell_type": "markdown",
   "id": "59c9c97a",
   "metadata": {},
   "source": [
    "We define each of the functions used in this notebook, grouped here for ease of access. "
   ]
  },
  {
   "cell_type": "markdown",
   "id": "18cd04d3",
   "metadata": {},
   "source": [
    "### Stellar Mass Functions"
   ]
  },
  {
   "cell_type": "markdown",
   "id": "4381edff",
   "metadata": {},
   "source": [
    "We build functions to calculate the distances to the galaxies, the absolute magnitudes, the colors, the mass-to-light ratios, the luminosities, and the stellar masses. We also include calculations for the propagated error of each of these values based on the uncertainties of the given apparent magnitudes. "
   ]
  },
  {
   "cell_type": "markdown",
   "id": "9d3a966c",
   "metadata": {},
   "source": [
    "We calculate the distance to the LSBGs based on the mean lens redshift, given by the posterior of the MCMC, and the Planck15 cosmology. Note that we assumed a fixed redshift."
   ]
  },
  {
   "cell_type": "code",
   "execution_count": 277,
   "id": "8558ba1f",
   "metadata": {},
   "outputs": [],
   "source": [
    "#Calculating distance to objects based on redshift (drawn from MCMC posterior)\n",
    "def calculate_distance(zl_mean=None, zl_mean_err=None):\n",
    "    \"\"\"\n",
    "    Calculates the angular diameter distance and the distance error based on the redshift\n",
    "    \n",
    "    zl_mean = mean lens redshift\n",
    "    zl_mean_err = uncertainty of lens redshift\n",
    "    \n",
    "    \"\"\"\n",
    "    da = Planck15.comoving_distance(zl_mean)\n",
    "    da_err = Planck15.comoving_distance(zl_mean_err)\n",
    "    r_pc = np.array(da.to(u.parsec))\n",
    "    r_pc_err = np.array(da_err.to(u.parsec)) \n",
    "    return r_pc, r_pc_err"
   ]
  },
  {
   "cell_type": "markdown",
   "id": "8bdd7fe5",
   "metadata": {},
   "source": [
    "We use the distance modulus to calculate the absolute magnitude of the LSBGs, based on the apparent magnitude and the distance: $$M_\\mathrm{abs} = m_a - 5\\log(r/10).$$ $M_\\mathrm{abs}$ represents the absolute magnitude, $m_a$ stands for the apparent magnitude, and $r$ indicates the distance (in parsecs). In addition, we propagate the error of the absolute magnitude forward from the distance and apparent magnitude uncertainties."
   ]
  },
  {
   "cell_type": "code",
   "execution_count": 278,
   "id": "9cdd77e4",
   "metadata": {},
   "outputs": [],
   "source": [
    "def absolute_magnitude(mag=None, distance=None, mag_err=None, distance_err=None):\n",
    "    \"\"\"\n",
    "    Calculates the absolute magnitude of objects based on the distance and the apparent magnitude\n",
    "    \n",
    "    mag = apparent magnitude of object\n",
    "    distance = distance to object (in parsecs)\n",
    "    mag_err = magnitude uncertainty\n",
    "    distance_err = distance uncertainty\n",
    "    \n",
    "    \"\"\"\n",
    "    M_abs = mag-(5*np.log10(distance/10))\n",
    "    M_abs_err = np.sqrt(mag_err**2 + (distance_err**2)*((-5/(np.log(10)*distance))**2)) \n",
    "    return M_abs, M_abs_err"
   ]
  },
  {
   "cell_type": "markdown",
   "id": "2b5849c2",
   "metadata": {},
   "source": [
    "We calculate the color and the color error by finding the difference between two apparent magnitudes (as $m_{a1}-m_{a2}$) and propagating the apparent magnitude uncertainty forward. "
   ]
  },
  {
   "cell_type": "code",
   "execution_count": 279,
   "id": "950e74e8",
   "metadata": {},
   "outputs": [],
   "source": [
    "#Caculating color and color error\n",
    "def color_func(mag_1=None, mag_2=None, mag_1_err=None, mag_2_err=None):\n",
    "    \"\"\"\n",
    "    Calculates the color and the color uncertainty between two magnitude bands\n",
    "    \n",
    "    mag_1 = band 1 (usually g)\n",
    "    mag_2 = band 2 (usually i or r)\n",
    "    mag_1_err = uncertainty in band 1\n",
    "    mag_2_err = uncertainty in band 2\n",
    "    \n",
    "    \"\"\"\n",
    "    color = mag_1-mag_2\n",
    "    color_err = np.sqrt(mag_1_err**2 + mag_2_err**2) \n",
    "    return color, color_err"
   ]
  },
  {
   "cell_type": "markdown",
   "id": "461d8d5d",
   "metadata": {},
   "source": [
    "We use the mass-to-light color relation (MLCR), as developed in Bell et al. 2003, to calculate the mass-to-light ratio for the LSBGs:$$\\log \\gamma_* = a_\\lambda + (b_\\lambda \\times \\mathrm{color}).$$ $\\gamma_*$ represents the mass-to-light ratio, $a_\\lambda$ signifies the zeropoint of the MLCR, $b_\\lambda$ designates the slope of the MLCR, and $\\mathrm{color}$ stands for the selected color band. We propagate the color error forward from the apparent magnitudes to calculate the mass-to-light ratio uncertainty."
   ]
  },
  {
   "cell_type": "code",
   "execution_count": 201,
   "id": "06f985c2",
   "metadata": {},
   "outputs": [],
   "source": [
    "def MLCR(a=None, b=None, color=None, color_err=None): \n",
    "    \"\"\"\n",
    "    Calculates the mass-to-light ratio and the mass-to-light ratio uncertainty based on the color and the factors of Bell et al. 2003\n",
    "    \n",
    "    a = color-mass light ratio model parameter from Bell et al. 2003\n",
    "    b = color-mass light ratio model parameter from Bell et al. 2003\n",
    "    color = color (g-r or g-i)\n",
    "    color_err = uncertainty of color\n",
    "    \n",
    "    \"\"\"\n",
    "    m_l_ratio = 10**(a + b * (color))\n",
    "    m_l_ratio_err = np.sqrt((np.log(10)*10**(a+b*color)*b)**2 * color_err**2) #Propagated error \n",
    "    return m_l_ratio, m_l_ratio_err"
   ]
  },
  {
   "cell_type": "markdown",
   "id": "0e4fa753",
   "metadata": {},
   "source": [
    "We compare the absolute magnitudes of the LSBGs in a specified band to the absolute magnitude of the sun to calculate the luminosity: $$L = 10^{0.4 \\times (M_{j, \\odot} - M_{j,\\mathrm{abs}})}.$$ $L$ represents the luminosity, $M_{j, \\odot}$ signifies the solar luminosity in the specified band, and $M_{j, \\mathrm{abs}}$ indicates the absolute magnitude of the object in the specified band. We propagate the absolute magnitude uncertainty forward to extract the luminosity error."
   ]
  },
  {
   "cell_type": "code",
   "execution_count": 280,
   "id": "dbd0cc7d",
   "metadata": {},
   "outputs": [],
   "source": [
    "def lum_func(m_sol=None, m_abs=None, m_abs_err=None):\n",
    "    \"\"\"\n",
    "    Calculates the luminosity and the luminosity uncertainty by comparing an object's absolute magnitude to the solar absolute magnitude\n",
    "    \n",
    "    m_sol = solar luminosity/absolute magnitude in selected band\n",
    "    m_abs = absolute magnitude of object in selected band\n",
    "    m_abs_err = uncertainty of absolute magnitude of object in selected band \n",
    "    \n",
    "    \"\"\"\n",
    "    lum = 10**(0.4*(m_sol-m_abs))\n",
    "    lum_err = np.sqrt((np.log(10)*(-0.4)*10**(0.4*(m_sol - m_abs)))**2 * (m_abs_err)**2) #Propagated error\n",
    "    return lum, lum_err"
   ]
  },
  {
   "cell_type": "markdown",
   "id": "1f38a5dd",
   "metadata": {},
   "source": [
    "We multiply the mass-to-light ratio (obtained from the MLCR) by the luminosity to extract the stellar mass: $$M_* = L\\times \\gamma_*.$$ We propagate forward the uncertaintieis of the mass-to-light ratio and the luminosity. "
   ]
  },
  {
   "cell_type": "code",
   "execution_count": 281,
   "id": "e92340b1",
   "metadata": {},
   "outputs": [],
   "source": [
    "def stellar_mass(m_l_ratio=None, lum=None, m_l_ratio_err=None, lum_err=None):\n",
    "    \"\"\"\n",
    "    Calculates the stellar mass and the stellar mass uncertainty by comparing the mass-to-light ratio to the luminosity\n",
    "    \n",
    "    m_l_ratio = mass-to-light ratio\n",
    "    lum = object luminosity\n",
    "    m_l_ratio_err = mass-to-light ratio uncertainty\n",
    "    lum_err = luminosity uncertainty\n",
    "    \n",
    "    \"\"\"\n",
    "    m_stellar = m_l_ratio*lum\n",
    "    m_stellar_err = np.sqrt(((lum)**2 * (m_l_ratio_err)**2)+ ((m_l_ratio)**2 * lum_err**2)) #Propagated error \n",
    "    return m_stellar, m_stellar_err"
   ]
  },
  {
   "cell_type": "markdown",
   "id": "16d00a38",
   "metadata": {},
   "source": [
    "We divide the stellar mass by the halo mass to calculate the SHMR and the SHMR uncertainty, as $M_*/M_h$"
   ]
  },
  {
   "cell_type": "code",
   "execution_count": 282,
   "id": "35fd2e80",
   "metadata": {},
   "outputs": [],
   "source": [
    "def shmr_func(m_halo=None, m_halo_err=None, m_stellar=None, m_stellar_err=None):\n",
    "    \"\"\"\n",
    "    Calculates the stellar-to-halo mass relation and uncertainty\n",
    "    \n",
    "    m_halo = halo mass\n",
    "    m_halo_err = halo mass uncertainty\n",
    "    m_stellar = stellar mass\n",
    "    m_stellar_err = stellar mass uncertainty\n",
    "    \n",
    "    \"\"\"\n",
    "    shmr = m_stellar/m_halo\n",
    "    shmr_err = np.sqrt(((1/m_halo)**2 * (m_stellar_err)**2) + ((-m_stellar/m_halo**2)**2)*(m_halo_err)**2)\n",
    "    return shmr, shmr_err"
   ]
  },
  {
   "cell_type": "markdown",
   "id": "c34b3533",
   "metadata": {},
   "source": [
    "We combine the previous functions to produce a stellar mass and a stellar-halo-mass relation for LSBGs based on the photometry and the lens redshift."
   ]
  },
  {
   "cell_type": "code",
   "execution_count": 283,
   "id": "34455628",
   "metadata": {},
   "outputs": [],
   "source": [
    "def total_shmr(zl_mean=None, zl_mean_err=None, mag=None, mag_err=None, mag_1=None, \n",
    "               mag_1_err=None, mag_2=None, mag_2_err=None, a=None, b=None, m_sol=None, m_halo=None, m_halo_err=None):\n",
    "    \"\"\"\n",
    "    Calculates the stellar mass and the stellar-halo-mass relation in one call, based on the photometry\n",
    "    \n",
    "    zl_mean = mean lens redshift\n",
    "    zl_mean_err = mean lens redshift uncertainty\n",
    "    mag = magnitude band\n",
    "    mag_err = uncertainty of magnitude\n",
    "    mag_1 = magnitude band used to calculate color (usually g)\n",
    "    mag_1_err = uncertainty of mag_1\n",
    "    mag_2 = magnitude band used to calculate color (usually r or i)\n",
    "    mag_2_err = uncertainty of mag_2\n",
    "    a = zeropoint parameter for MLCR, dependent on band\n",
    "    b = slope parameter for MLCR, dependent on band\n",
    "    m_sol = solar absolute magnitude, dependent on band\n",
    "    m_halo = halo mass\n",
    "    m_halo_err = halo mass uncertainty\n",
    "    \n",
    "    \"\"\"\n",
    "    distance, distance_err = calculate_distance(zl_mean=zl_mean, zl_mean_err=zl_mean_err)\n",
    "    M_abs, M_abs_err = absolute_magnitude(mag=mag, distance=distance, mag_err=mag_err, distance_err=distance_err)\n",
    "    color, color_err = color_func(mag_1=mag_1, mag_2=mag_2, mag_1_err=mag_1_err, mag_2_err=mag_2_err)\n",
    "    m_l_ratio, m_l_ratio_err = MLCR(a=a, b=b, color=color, color_err=color_err)\n",
    "    lum, lum_err = lum_func(m_sol=m_sol, m_abs=M_abs, m_abs_err=M_abs_err)\n",
    "    m_stellar, m_stellar_err = stellar_mass(m_l_ratio=m_l_ratio, lum=lum, m_l_ratio_err=m_l_ratio_err, lum_err=lum_err)\n",
    "    shmr, shmr_err = shmr_func(m_halo=m_halo, m_halo_err=m_halo_err, m_stellar=m_stellar, m_stellar_err=m_stellar_err)\n",
    "    return m_stellar, m_stellar_err, shmr, shmr_err\n"
   ]
  },
  {
   "cell_type": "markdown",
   "id": "2bce1c5b",
   "metadata": {},
   "source": [
    "### Parameterized Subhalo-Stellar Mass Relation Functions"
   ]
  },
  {
   "cell_type": "markdown",
   "id": "506c8412",
   "metadata": {},
   "source": [
    "We examine the parameterized stellar-to-subhalo-mass relation (SsHMR), as defined in Niemec et al (2022). The parameterized SsHMR relies on 4 different parameters, in addition to the subhalo mass ($M_h$): the characteristic halo mass ($M_\\mathrm{char}$), the normalization of the SsHMR at the characteristic halo mass ($A$), the slope at the low-mass end of the relation ($\\beta$) and the slope at the high-mass end of the relation ($\\gamma$). The full relation is defined as: $$\\frac{M_*}{M_h} = 2 \\times A \\times ((\\frac{M_h}{M_\\mathrm{char}})^{-\\beta} + (\\frac{M_h}{M_\\mathrm{char}})^\\gamma)^{-1} $$ We define a function to calculate the SsHMR based on these parameters. "
   ]
  },
  {
   "cell_type": "code",
   "execution_count": 284,
   "id": "78f242ea",
   "metadata": {},
   "outputs": [],
   "source": [
    "def parameterized_sshmr(m_halo=None, A=None, M_char=None, beta=None, gamma=None):\n",
    "    \"\"\"\n",
    "    Calculates the SsHMR based on 4 parameters and the halo mass\n",
    "    \n",
    "    m_halo = halo mass\n",
    "    A = normalization of the SHMR at the characteristic halo mass\n",
    "    M_char = characteristic halo mass\n",
    "    beta = slope of relation at low-mass end\n",
    "    gamma = slope of relation at high-mass end\n",
    "    \n",
    "    \"\"\"\n",
    "    m_stellar_param = 2*A*m_halo*(((m_halo/M_char)**(-1*beta) + (m_halo/M_char)**gamma)**(-1))\n",
    "    return m_stellar_param"
   ]
  },
  {
   "cell_type": "markdown",
   "id": "622e6bec",
   "metadata": {},
   "source": [
    "### Resampling Error Functions"
   ]
  },
  {
   "cell_type": "markdown",
   "id": "869698cf",
   "metadata": {},
   "source": [
    "We define a function to resample the magnitudes to examine the impact of the measured magnitude uncertainty. "
   ]
  },
  {
   "cell_type": "code",
   "execution_count": 285,
   "id": "08462b82",
   "metadata": {},
   "outputs": [],
   "source": [
    "def sampled_mag(magnitude=None, magnitude_err=None):\n",
    "    \"\"\"\n",
    "    Resamples the magnitudes over the band uncertainty\n",
    "    magnitude = selected band magnitude\n",
    "    magnitude_err = selected band magnitude uncertainty\n",
    "    \n",
    "    \"\"\"\n",
    "    sampled_magnitudes = []\n",
    "    for mag, error in zip(magnitude, magnitude_err):\n",
    "        sampled_magnitude = np.random.normal(loc=mag, scale=error)\n",
    "        sampled_magnitudes.append(sampled_magnitude)\n",
    "    return sampled_magnitudes\n"
   ]
  },
  {
   "cell_type": "markdown",
   "id": "ddab75d2",
   "metadata": {},
   "source": [
    "We define a function to resample the stellar masses to examine their spread and the impact of the measured magnitude uncertainty."
   ]
  },
  {
   "cell_type": "code",
   "execution_count": 286,
   "id": "fc7fa303",
   "metadata": {},
   "outputs": [],
   "source": [
    "def m_stellar_resampled(sampled_magnitudes=None, mag_err=None, distance=None, distance_err=None,\n",
    "                        m_sol=None, a=None, b=None, color=None, color_err=None):\n",
    "    \"\"\"\n",
    "    Resamples stellar mass over magnitude band uncertainty\n",
    "    \n",
    "    sampled_magnitudes = array of resampled band magnitudes\n",
    "    mag_err = band magnitude uncertainty\n",
    "    distance = distance to objects\n",
    "    distance_err = distance uncertainty\n",
    "    m_sol = solar luminosity/absolute magnitude in selected band\n",
    "    a = zeropoint of MLCR\n",
    "    b = slope of MLCR\n",
    "    color = selected color\n",
    "    color_err = color uncertainty\n",
    "    \n",
    "    \"\"\"\n",
    "    abs_mag_sampled, abs_mag_err_sampled = absolute_magnitude(mag=sampled_magnitudes, distance=distance, mag_err=mag_err, distance_err=distance_err)\n",
    "    lum_mag_sampled, lum_mag_err_sampled = lum_func(m_sol=m_sol, m_abs = abs_mag_sampled, m_abs_err = abs_mag_err_sampled)\n",
    "    ml_ratio, ml_ratio_err = MLCR(a=a, b=b, color=color, color_err=color_err)\n",
    "    m_stellar_sampled, m_stellar_err_sampled = stellar_mass(m_l_ratio=ml_ratio, lum=lum_mag_sampled, m_l_ratio_err = ml_ratio_err, lum_err = lum_mag_err_sampled)\n",
    "    return m_stellar_sampled, m_stellar_err_sampled"
   ]
  },
  {
   "cell_type": "markdown",
   "id": "a0b953e9",
   "metadata": {},
   "source": [
    "We define a function to resample the SsHMR parameters around their uncertainties. We construct a stellar mass estimate based on this resampling."
   ]
  },
  {
   "cell_type": "code",
   "execution_count": 287,
   "id": "52da3113",
   "metadata": {},
   "outputs": [],
   "source": [
    "def sshmr_param_resampled(A=None, A_err=None, M_char=None, M_char_err=None, \n",
    "                          beta=None, beta_err = None, gamma=None, gamma_err=None, halo_mass_range = None):\n",
    "    \"\"\"\n",
    "    Resamples the stellar-halo mass relation over the parameter uncertainties\n",
    "    \n",
    "    A = normalization of SHMR at characteristc halo mass\n",
    "    A_err = uncertainty of A\n",
    "    M_char = characteristic halo mass\n",
    "    M_char_err = uncertainty of M_char\n",
    "    beta = slope of relation at low-mass end\n",
    "    beta_err = uncertainty of beta\n",
    "    gamma = slope of relation at high-mass end\n",
    "    gamma_err = uncertainty of gamma\n",
    "    halo_mass_range = discrete range of halo masses to calculate sshmr over\n",
    "    \n",
    "    \"\"\"\n",
    "    sampled_stellar_mass = []\n",
    "    for i, xi in enumerate(halo_mass_range):\n",
    "        for y in range(10000):\n",
    "            A_samp = np.random.normal(loc=A, scale=A_err)\n",
    "            M_char_samp = np.random.normal(loc=M_char, scale=M_char_err)\n",
    "            beta_samp = np.random.normal(loc=beta, scale=beta_err)\n",
    "            gamma_samp = np.random.normal(loc=gamma, scale=gamma_err)\n",
    "            stellar_mass_samp = parameterized_sshmr(m_halo=xi, A=A_samp, M_char=M_char_samp, beta=beta_samp, gamma=gamma_samp)\n",
    "            sampled_stellar_mass.append(stellar_mass_samp)\n",
    "    sampled_stellar_mass = np.reshape(sampled_stellar_mass, (len(halo_mass_range), 10000))\n",
    "    return sampled_stellar_mass\n",
    "        "
   ]
  },
  {
   "cell_type": "markdown",
   "id": "242d3632",
   "metadata": {},
   "source": [
    "We define a function to identify the spread of the SsHMR based on the resampled parameters."
   ]
  },
  {
   "cell_type": "code",
   "execution_count": 288,
   "id": "1982941f",
   "metadata": {},
   "outputs": [],
   "source": [
    "def sshmr_spread(halo_mass_range=None, sampled_mstellar_sshmr=None):\n",
    "    \"\"\"\n",
    "    Calculates the spread of the SSHMR relation based on the parameter uncertainties\n",
    "    \n",
    "    halo_mass_range = discrete range of halo masses to calculate the spread over\n",
    "    sampled_mstellar_sshmr = resampled stellar mass over SSHMR parameter uncertainties\n",
    "    \n",
    "    \"\"\"\n",
    "    \n",
    "    spread_mstellar_list = []\n",
    "    spread_sshmr_list = []\n",
    "    for i, xi in enumerate(halo_mass_range):\n",
    "        spread_obj_mstellar = [np.min(sampled_mstellar_sshmr[i,:]), np.max(sampled_mstellar_sshmr[i,:])]\n",
    "        spread_obj_sshmr = [np.min(sampled_mstellar_sshmr[i,:])/xi, np.max(sampled_mstellar_sshmr[i,:])/xi]\n",
    "        spread_mstellar_list.append(spread_obj_mstellar)\n",
    "        spread_sshmr_list.append(spread_obj_sshmr)\n",
    "    spread_mstellar_arr = np.array(spread_mstellar_list)\n",
    "    spread_sshmr_arr = np.array(spread_sshmr_list)\n",
    "    return spread_mstellar_arr, spread_sshmr_arr"
   ]
  },
  {
   "cell_type": "markdown",
   "id": "2cb1f123",
   "metadata": {},
   "source": [
    "## Parameters"
   ]
  },
  {
   "cell_type": "markdown",
   "id": "bad5e57a",
   "metadata": {},
   "source": [
    "### Stellar Mass Parameters"
   ]
  },
  {
   "cell_type": "markdown",
   "id": "2e8dafdc",
   "metadata": {},
   "source": [
    "We define the parameters used to determine the stellar mass. The mean lens redshift and lens redshift error are adopted from the posterior of an MCMC, calculated for the red LSBG sample. We use the designated a and b values (drawn from Bell et al. 2003) for the color mass-to-light relation, defined for the color *g-i*. We define the AB absolute magnitude of the sun for a specific SDSS filter. In addition, we define the subhalo mass estimate and subhalo mass uncertainty used to calculate the LSBG SHMR."
   ]
  },
  {
   "cell_type": "code",
   "execution_count": 259,
   "id": "f4ee581a",
   "metadata": {},
   "outputs": [],
   "source": [
    "zl_mean = 0.0142\n",
    "zl_mean_err = 0.0018\n",
    "#Bell 2003, Wei 2020\n",
    "a_i = -0.152 #-0.993 #(g-i)\n",
    "b_i =  0.518 #1.057\n",
    "m_sol_i = 4.54\n",
    "\n",
    "a_g =  -0.379 #-1.152 #(g-i)\n",
    "b_g =  0.914 #1.328\n",
    "m_sol_g = 5.14\n",
    "\n",
    "a_r =  -0.220 #-0.947 #(g-i)\n",
    "b_r =  0.661 #1.088\n",
    "m_sol_r = 4.65\n",
    "\n",
    "m_halo = 3.1e11\n",
    "m_halo_err = 1.1e11\n",
    "m_halo_arr = np.linspace(1e10, 1e12, 10000)"
   ]
  },
  {
   "cell_type": "markdown",
   "id": "2031e627",
   "metadata": {},
   "source": [
    "We define additional parameters for the MLCR for the color *g-r*."
   ]
  },
  {
   "cell_type": "code",
   "execution_count": 260,
   "id": "1a4930b6",
   "metadata": {},
   "outputs": [],
   "source": [
    "a_i_gr =  -0.222 #-0.756 #(g-r)\n",
    "b_i_gr =  0.864 #1.226\n",
    "\n",
    "a_g_gr =  -0.499 #-0.857 #(g-r)\n",
    "b_g_gr =  1.519 #1.558\n",
    "\n",
    "a_r_gr =  -0.306 #-0.700 #(g-r)\n",
    "b_r_gr =  1.097 #1.252"
   ]
  },
  {
   "cell_type": "markdown",
   "id": "ad9960ce",
   "metadata": {},
   "source": [
    "### SsHMR Parameters"
   ]
  },
  {
   "cell_type": "markdown",
   "id": "5bf5c338",
   "metadata": {},
   "source": [
    "We define the parameters necessary for the subhalo-stellar-mass relation, drawn from Niemiec et al 2022. These parameters are redshift dependent, thus we select the parameters designed for low-redshift galaxies. "
   ]
  },
  {
   "cell_type": "code",
   "execution_count": 261,
   "id": "50fbf7a7",
   "metadata": {},
   "outputs": [],
   "source": [
    "#Moster 2018, Niemec 2022\n",
    "A = 0.0186 #0.056\n",
    "A_err = 0.0012 #0.005\n",
    "\n",
    "M_char = 10**(12.1988) #10**(11.14)\n",
    "M_char_err = 10**(0.0878) #10**0.09\n",
    "\n",
    "beta = 0.7817 #1.24\n",
    "beta_err = 0.0629 #0.13\n",
    "\n",
    "gamma = 0.7334 #0.35\n",
    "gamma_err = 0.0452 #0.07"
   ]
  },
  {
   "cell_type": "markdown",
   "id": "ba9ce967",
   "metadata": {},
   "source": [
    "We define a continuous and a discrete array of halo masses to plot the parameterized SsHMR."
   ]
  },
  {
   "cell_type": "code",
   "execution_count": 262,
   "id": "7b938bbb",
   "metadata": {},
   "outputs": [],
   "source": [
    "m_halo_arr_cont = np.linspace(5e10, 1e13, 10000)\n",
    "halo_mass_range = np.array([5e10, 6e10, 7e10, 8e10, 9e10, 1e11, 2e11, 3e11, 4e11, 5e11, 6e11, 7e11, 8e11, 9e11, 1e12, 2e12, 3e12, 4e12, 5e12, 6e12, 7e12, 8e12, 9e12, 1e13])"
   ]
  },
  {
   "cell_type": "markdown",
   "id": "cdc68a68",
   "metadata": {},
   "source": [
    "## LSBG Stellar Mass"
   ]
  },
  {
   "cell_type": "markdown",
   "id": "f1d55831",
   "metadata": {},
   "source": [
    "We call the functions to estimate the LSBG stellar mass for a range of colors and magnitude bands, illustrating that the stellar mass estimate remains consistent. In addition, we resample the magnitude and the stellar mass based on the magnitude uncertainty."
   ]
  },
  {
   "cell_type": "markdown",
   "id": "6da320ed",
   "metadata": {},
   "source": [
    "We estimate the stellar mass for the i-band, g-band, and r-band with the color g-i."
   ]
  },
  {
   "cell_type": "code",
   "execution_count": 263,
   "id": "003a8bde",
   "metadata": {},
   "outputs": [],
   "source": [
    "#For color g-i\n",
    "m_stellar_i_red, m_stellar_err_i_red, shmr_i_red, shmr_err_i_red = total_shmr(zl_mean=zl_mean, zl_mean_err=zl_mean_err, mag=i_red, mag_err = i_err_red, mag_1= g_red, \n",
    "               mag_1_err=g_err_red, mag_2=i_red, mag_2_err=i_err_red, a=a_i, b=b_i, m_sol=m_sol_i, m_halo = m_halo, m_halo_err=m_halo_err)\n",
    "\n",
    "m_stellar_g_red, m_stellar_err_g_red, shmr_g_red, shmr_err_g_red = total_shmr(zl_mean=zl_mean, zl_mean_err=zl_mean_err, mag = g_red, mag_err = g_err_red, mag_1= g_red, \n",
    "               mag_1_err=g_err_red, mag_2=i_red, mag_2_err=i_err_red, a=a_g, b=b_g, m_sol=m_sol_g, m_halo = m_halo, m_halo_err=m_halo_err)\n",
    "\n",
    "m_stellar_r_red, m_stellar_err_r_red, shmr_r_red, shmr_err_r_red = total_shmr(zl_mean=zl_mean, zl_mean_err=zl_mean_err, mag = r_red, mag_err = r_err_red, mag_1= g_red, \n",
    "               mag_1_err=g_err_red, mag_2=i_red, mag_2_err=i_err_red, a=a_r, b=b_r, m_sol=m_sol_r, m_halo = m_halo, m_halo_err=m_halo_err)\n"
   ]
  },
  {
   "cell_type": "code",
   "execution_count": 264,
   "id": "f8a837b4",
   "metadata": {},
   "outputs": [
    {
     "name": "stdout",
     "output_type": "stream",
     "text": [
      "68234196.19422778 69805088.47555813 68756829.42064649\n"
     ]
    }
   ],
   "source": [
    "print(np.median(m_stellar_i_red), np.median(m_stellar_g_red), np.median(m_stellar_r_red))"
   ]
  },
  {
   "cell_type": "markdown",
   "id": "fb0dfa19",
   "metadata": {},
   "source": [
    "We observe that the stellar mass estimates remain reasonably consistent, even with the use of different magnitude bands. We continue our testing with the colorband *g-r*."
   ]
  },
  {
   "cell_type": "markdown",
   "id": "43103f11",
   "metadata": {},
   "source": [
    "We estimate the stellar mass for the i-band, g-band, and r-band with the color g-r."
   ]
  },
  {
   "cell_type": "code",
   "execution_count": 265,
   "id": "c40cd0fa",
   "metadata": {},
   "outputs": [],
   "source": [
    "#For color g-r\n",
    "m_stellar_i_red_gr, m_stellar_err_i_red_gr, shmr_i_red_gr, shmr_err_i_red_gr = total_shmr(zl_mean=zl_mean, zl_mean_err=zl_mean_err, mag=i_red, mag_err = i_err_red, mag_1= g_red, \n",
    "               mag_1_err=g_err_red, mag_2=r_red, mag_2_err=r_err_red, a=a_i_gr, b=b_i_gr, m_sol=m_sol_i, m_halo = m_halo, m_halo_err=m_halo_err)\n",
    "\n",
    "m_stellar_g_red_gr, m_stellar_err_g_red_gr, shmr_g_red_gr, shmr_err_g_red_gr = total_shmr(zl_mean=zl_mean, zl_mean_err=zl_mean_err, mag = g_red, mag_err = g_err_red, mag_1= g_red, \n",
    "               mag_1_err=g_err_red, mag_2=r_red, mag_2_err=r_err_red, a=a_g_gr, b=b_g_gr, m_sol=m_sol_g, m_halo = m_halo, m_halo_err=m_halo_err)\n",
    "\n",
    "m_stellar_r_red_gr, m_stellar_err_r_red_gr, shmr_r_red_gr, shmr_err_r_red_gr = total_shmr(zl_mean=zl_mean, zl_mean_err=zl_mean_err, mag = r_red, mag_err = r_err_red, mag_1= g_red, \n",
    "               mag_1_err=g_err_red, mag_2=r_red, mag_2_err=r_err_red, a=a_r_gr, b=b_r_gr, m_sol=m_sol_r, m_halo = m_halo, m_halo_err=m_halo_err)\n"
   ]
  },
  {
   "cell_type": "code",
   "execution_count": 266,
   "id": "a4283c8b",
   "metadata": {},
   "outputs": [
    {
     "name": "stdout",
     "output_type": "stream",
     "text": [
      "71100088.92166919 75256340.99912351 72596995.25368276\n"
     ]
    }
   ],
   "source": [
    "print(np.median(m_stellar_i_red_gr), np.median(m_stellar_g_red_gr), np.median(m_stellar_r_red_gr))"
   ]
  },
  {
   "cell_type": "markdown",
   "id": "bc93318d",
   "metadata": {},
   "source": [
    "Color appears to have a more significant impact than simply using different bands, though the estimates are still comparable. "
   ]
  },
  {
   "cell_type": "markdown",
   "id": "74292e9a",
   "metadata": {},
   "source": [
    "We resample the i-band magnitudes over the magnitude uncertainty and plot their spread."
   ]
  },
  {
   "cell_type": "code",
   "execution_count": 267,
   "id": "fe531a08",
   "metadata": {},
   "outputs": [
    {
     "data": {
      "image/png": "[encoded data removed]",
      "text/plain": [
       "<Figure size 432x288 with 1 Axes>"
      ]
     },
     "metadata": {
      "needs_background": "light"
     },
     "output_type": "display_data"
    }
   ],
   "source": [
    "for i in range(10):\n",
    "    mag_dist = sampled_mag(magnitude=i_red, magnitude_err=i_err_red)\n",
    "    plt.hist(mag_dist, bins=20, alpha=0.5)\n",
    "plt.xlabel('Magnitude')\n",
    "plt.ylabel('Frequency')\n",
    "plt.title('Resampled i-band Magnitudes')\n",
    "plt.show()"
   ]
  },
  {
   "cell_type": "markdown",
   "id": "38f765e7",
   "metadata": {},
   "source": [
    "We resample the stellar mass over the i-band magnitude uncertainty with the color *g-i* and plot their spread. We see that the uncertainty in the magnitude does not significantly alter the stellar mass distribution, even when propagated through the calculations."
   ]
  },
  {
   "cell_type": "code",
   "execution_count": 276,
   "id": "2530d70b",
   "metadata": {},
   "outputs": [
    {
     "data": {
      "image/png": "[encoded data removed]",
      "text/plain": [
       "<Figure size 432x288 with 1 Axes>"
      ]
     },
     "metadata": {
      "needs_background": "light"
     },
     "output_type": "display_data"
    }
   ],
   "source": [
    "distance_resample, distance_err_resample = calculate_distance(zl_mean=zl_mean, zl_mean_err=zl_mean_err)\n",
    "color_resample, color_err_resample = color_func(mag_1=g_red, mag_2=i_red, mag_1_err=g_err_red, mag_2_err=i_err_red)\n",
    "\n",
    "for i in range(10):\n",
    "    mag_dist = sampled_mag(magnitude=i_red, magnitude_err=i_err_red)\n",
    "    m_stellar_dist, m_stellar_dist_err = m_stellar_resampled(sampled_magnitudes=mag_dist, mag_err=i_err_red, distance=distance_resample, distance_err=distance_err_resample, \n",
    "                                         m_sol=m_sol_i, a=a_i, b=b_i, color=color_resample, color_err=color_err_resample)\n",
    "    plt.hist(m_stellar_dist, bins=1000, alpha=0.5)\n",
    "plt.xlabel('$M_{\\odot}$')\n",
    "plt.ylabel('Frequency')\n",
    "plt.xlim(0, 0.4e9)\n",
    "plt.title('Resampled Stellar Mass')\n",
    "plt.show()"
   ]
  },
  {
   "cell_type": "markdown",
   "id": "a7ff384f",
   "metadata": {},
   "source": [
    "## Parametrized Stellar-Subhalo Mass Relation"
   ]
  },
  {
   "cell_type": "markdown",
   "id": "e2f8066d",
   "metadata": {},
   "source": [
    "We call the functions to calculate and plot the parametrized stellar-subhalo mass relation. We compare the general stellar-subhalo mass relation to the LSBG stellar-halo mass relation. "
   ]
  },
  {
   "cell_type": "markdown",
   "id": "7dd47385",
   "metadata": {},
   "source": [
    "We produce an array of stellar masses from a continuous array of halo masses using the SsHMR. This generalized SsHMR mirrors Niemiec et al. 2022."
   ]
  },
  {
   "cell_type": "code",
   "execution_count": 269,
   "id": "89d8d297",
   "metadata": {},
   "outputs": [],
   "source": [
    "m_stellar_sshmr = parameterized_sshmr(m_halo=m_halo_arr_cont, A=A, M_char=M_char, beta=beta, gamma=gamma)"
   ]
  },
  {
   "cell_type": "markdown",
   "id": "0975cdbf",
   "metadata": {},
   "source": [
    "We calculate the stellar mass and the SsHMR for a discrete array of halo masses. We will use this list to evaluate the spread of the general SsHMR. "
   ]
  },
  {
   "cell_type": "code",
   "execution_count": 270,
   "id": "e769f125",
   "metadata": {},
   "outputs": [],
   "source": [
    "stellar_mass_range_list = []\n",
    "sshmr_list = []\n",
    "for i, xi in enumerate(halo_mass_range):\n",
    "    m_stellar_ex = parameterized_sshmr(m_halo = xi, A=A, M_char=M_char, beta=beta, gamma=gamma)\n",
    "    sshmr_ex = m_stellar_ex/xi\n",
    "    stellar_mass_range_list.append(m_stellar_ex)\n",
    "    sshmr_list.append(sshmr_ex)"
   ]
  },
  {
   "cell_type": "markdown",
   "id": "47fa3171",
   "metadata": {},
   "source": [
    "We resample the SsHMR stellar masses over the uncertainties in the parameters. "
   ]
  },
  {
   "cell_type": "code",
   "execution_count": 271,
   "id": "4beefada",
   "metadata": {},
   "outputs": [],
   "source": [
    "sampled_stellar_mass_sshmr = sshmr_param_resampled(A=A, A_err=A_err, M_char=M_char, M_char_err=M_char_err, \n",
    "                          beta=beta, beta_err = beta_err, gamma=gamma, gamma_err=gamma_err, halo_mass_range = halo_mass_range)\n"
   ]
  },
  {
   "cell_type": "markdown",
   "id": "7e3b3187",
   "metadata": {},
   "source": [
    "We define the spread of the SsHMR using the resampled SsHMR stellar masses."
   ]
  },
  {
   "cell_type": "code",
   "execution_count": 272,
   "id": "fcdc12bb",
   "metadata": {},
   "outputs": [],
   "source": [
    "spread_mstellar_arr, spread_sshmr_arr = sshmr_spread(halo_mass_range=halo_mass_range, \n",
    "                                    sampled_mstellar_sshmr=sampled_stellar_mass_sshmr)\n"
   ]
  },
  {
   "cell_type": "code",
   "execution_count": 273,
   "id": "f65d6632",
   "metadata": {},
   "outputs": [],
   "source": [
    "y_min_mstellar_spread = spread_mstellar_arr[:,0]\n",
    "y_max_mstellar_spread = spread_mstellar_arr[:,1]\n",
    "\n",
    "y_min_sshmr_spread = spread_sshmr_arr[:,0]\n",
    "y_max_sshmr_spread = spread_sshmr_arr[:,1]"
   ]
  },
  {
   "cell_type": "markdown",
   "id": "92af56b0",
   "metadata": {},
   "source": [
    "We plot the stellar mass as a function of halo mass for the parameterized SsHMR and compare to the stellar mass estimate for the red LSBGs."
   ]
  },
  {
   "cell_type": "code",
   "execution_count": 274,
   "id": "a3e516e8",
   "metadata": {},
   "outputs": [
    {
     "data": {
      "image/png": "[encoded data removed]",
      "text/plain": [
       "<Figure size 432x324 with 1 Axes>"
      ]
     },
     "metadata": {
      "needs_background": "light"
     },
     "output_type": "display_data"
    }
   ],
   "source": [
    "fig = plt.figure(figsize=(6,4.5))\n",
    "plt.fill_between(halo_mass_range, y_min_mstellar_spread, y_max_mstellar_spread, color='grey', alpha=0.5)\n",
    "plt.plot(m_halo_arr_cont, m_stellar_sshmr, color='black')\n",
    "plt.plot(m_halo, np.median(m_stellar_i_red), marker='x')\n",
    "plt.violinplot(m_stellar_i_red, positions=[m_halo], widths=1.1e11, showmeans=True, showmedians=True, vert=True)\n",
    "plt.xscale('log')\n",
    "plt.yscale('log')\n",
    "plt.xlabel('$M_h/M_{\\odot}$')\n",
    "plt.ylabel('$M_*/M_{\\odot}$')\n",
    "plt.xlim(5e10, 1e13)\n",
    "plt.title('Stellar Mass vs. Subhalo Mass')\n",
    "plt.show()"
   ]
  },
  {
   "cell_type": "code",
   "execution_count": 275,
   "id": "2f551dfb",
   "metadata": {},
   "outputs": [
    {
     "data": {
      "image/png": "[encoded data removed]",
      "text/plain": [
       "<Figure size 432x324 with 1 Axes>"
      ]
     },
     "metadata": {
      "needs_background": "light"
     },
     "output_type": "display_data"
    }
   ],
   "source": [
    "fig = plt.figure(figsize=(6,4.5))\n",
    "plt.fill_between(halo_mass_range, y_min_sshmr_spread, y_max_sshmr_spread, color='grey', alpha=0.5)\n",
    "plt.plot(m_halo_arr_param, m_stellar_sshmr/m_halo_arr_param, color='black')\n",
    "plt.plot(m_halo, np.median(m_stellar_i_red)/m_halo, marker='x')\n",
    "plt.violinplot(m_stellar_i_red/m_halo, positions=[m_halo], widths=1.1e11, showmeans=True, showmedians=True, vert=True)\n",
    "plt.xscale('log')\n",
    "plt.yscale('log')\n",
    "plt.xlabel('$M_h/M_{\\odot}$')\n",
    "plt.ylabel('$M_*/M_h$')\n",
    "plt.xlim(5e10, 1e13)\n",
    "plt.title('Parameterized SsHMR vs. LSBG SsHMR')\n",
    "plt.show()"
   ]
  },
  {
   "cell_type": "code",
   "execution_count": null,
   "id": "080ea30c",
   "metadata": {},
   "outputs": [],
   "source": []
  },
  {
   "cell_type": "code",
   "execution_count": null,
   "id": "250c1221",
   "metadata": {},
   "outputs": [],
   "source": []
  }
 ],
 "metadata": {
  "kernelspec": {
   "display_name": "Python 3 (ipykernel)",
   "language": "python",
   "name": "python3"
  },
  "language_info": {
   "codemirror_mode": {
    "name": "ipython",
    "version": 3
   },
   "file_extension": ".py",
   "mimetype": "text/x-python",
   "name": "python",
   "nbconvert_exporter": "python",
   "pygments_lexer": "ipython3",
   "version": "3.9.12"
  }
 },
 "nbformat": 4,
 "nbformat_minor": 5
}

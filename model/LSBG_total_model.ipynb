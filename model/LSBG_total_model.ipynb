{
 "cells": [
  {
   "cell_type": "markdown",
   "id": "ccc5566d",
   "metadata": {},
   "source": [
    "## NFW Profile Model for Red LSBG Tangential Shear Measurements "
   ]
  },
  {
   "cell_type": "markdown",
   "id": "0b1471f7",
   "metadata": {},
   "source": [
    "In this notebook, we walk through generating a model composed of two NFW profiles to represent the tangential shear measurements for the red sample of the low surface brightness galaxy catalog. We use two NFW profiles to indicate the subhalo term and the host halo term of the measurements.  We rely on [colossus](https://bdiemer.bitbucket.io/colossus/cosmology_cosmology.html) for our base cosmology and [profiley](https://github.com/cristobal-sifon/profiley) to implement the NFW profiles. "
   ]
  },
  {
   "cell_type": "code",
   "execution_count": 1,
   "id": "d9cf3268",
   "metadata": {},
   "outputs": [],
   "source": [
    "#Loading packages\n",
    "from __future__ import print_function \n",
    "import numpy as np\n",
    "import matplotlib.pyplot as plt\n",
    "%matplotlib inline\n",
    "import twopoint\n",
    "from profiley.nfw import TNFW, NFW\n",
    "import scipy.stats as stats\n",
    "from colossus.cosmology import cosmology\n",
    "cosmo = cosmology.setCosmology('planck15');\n",
    "from astropy.cosmology import Planck15\n",
    "from astropy import constants as const\n",
    "import twopoint\n",
    "plt.rc('text', usetex=True)\n",
    "plt.rc('font', family='serif')"
   ]
  },
  {
   "cell_type": "markdown",
   "id": "26075823",
   "metadata": {},
   "source": [
    "### Measurements"
   ]
  },
  {
   "cell_type": "markdown",
   "id": "82d33a1c",
   "metadata": {},
   "source": [
    "We load in the red LSBG measurements (calculated using [TreeCorr](https://rmjarvis.github.io/TreeCorr/_build/html/index.html)) found in the data file of this repository. Theta_red represents the angular scales of the measurements, xi_red indicates the shear signal, error_red stands for the shot noise, and err_jk_red represents the error derived from the jackknife covariance. We conduct all of our modeling using the red galaxy sample, as this sample produces the greatest shear signal. The blue and total galaxy samples can be found in the data file for additional testing. "
   ]
  },
  {
   "cell_type": "code",
   "execution_count": 2,
   "id": "91b58349",
   "metadata": {},
   "outputs": [],
   "source": [
    "#Loading measurements\n",
    "theta_red, xi_red, error_red, cross_term_red = np.loadtxt('../data/gt_LSBG_combined_sources_scales_3_red_ran', unpack=True)\n",
    "theta_red, xi_red, err_jk_red, cross_term_red = np.loadtxt('../data/gt_LSBG_jackknife_combined_sources_scales_3_red_ran', unpack=True)\n",
    "cov = np.loadtxt('../data/jkcov_gt_LSBG_combined_sources_scales_3_red_ran')\n"
   ]
  },
  {
   "cell_type": "markdown",
   "id": "1bb946dd",
   "metadata": {},
   "source": [
    "We define two functions to calculate the $\\chi^2$ between the model and the tangential shear measurements and the $\\Delta \\chi^2$ between two models. "
   ]
  },
  {
   "cell_type": "code",
   "execution_count": 3,
   "id": "26760a35",
   "metadata": {},
   "outputs": [],
   "source": [
    "#Chi2 function- quantitative difference between the model and the measurements\n",
    "def chi2(cov, model, measurements):\n",
    "    invcov = np.abs(np.linalg.inv(cov))\n",
    "    chi2 = np.dot((measurements-model).T, np.dot(invcov, (measurements-model)))\n",
    "    return chi2\n"
   ]
  },
  {
   "cell_type": "code",
   "execution_count": 8,
   "id": "237f1501",
   "metadata": {},
   "outputs": [],
   "source": [
    "#Deltachi2 function for calculating the difference between two models\n",
    "def deltachi2(cov, model, measurements):\n",
    "    invcov = np.abs(np.linalg.inv(cov))\n",
    "    INVCOV = np.matrix(invcov)\n",
    "    diff = np.matrix((model).T[0]-(measurements).T[0])\n",
    "    deltachi2 = diff*INVCOV*diff.T\n",
    "    return deltachi2"
   ]
  },
  {
   "cell_type": "markdown",
   "id": "173f22ca",
   "metadata": {},
   "source": [
    "We construct a function to easily normalize distributions. "
   ]
  },
  {
   "cell_type": "code",
   "execution_count": 13,
   "id": "c7570d83",
   "metadata": {},
   "outputs": [],
   "source": [
    "#function arguments can be zl, for the normalization of the lens redshift distribution, offset, for the offset distribution, or zs, for the source redshift distribution\n",
    "def normalization(mean=None, sigma=None, size=None, func=None, ranged=None, bins_weighted=None):\n",
    "    if (func=='zl'): #Normalization for lens redshift distribution \n",
    "        func_range = np.linspace(mean - 2*sigma, mean + 2*sigma, size) #Range of lens redshift\n",
    "        dist = stats.norm.pdf(func_range, mean, sigma) #Lens redshift distribution\n",
    "        A_norm = np.trapz(dist) #Normalizing factor\n",
    "        dist_norm = dist/A_norm\n",
    "    if (func=='off'): #Normalization for offset distribution\n",
    "        func_range = np.linspace(0, mean + 2*sigma, size) #Range of lens redshift\n",
    "        dist = stats.norm.pdf(func_range, mean, sigma) #Lens redshift distribution\n",
    "        A_norm = np.trapz(dist) #Normalizing factor\n",
    "        dist_norm = dist/A_norm\n",
    "    if (func=='zs'): #Normalization for source redshift distribution\n",
    "        func_range = ranged #Predefined range- in this case zsbin\n",
    "        dist = np.sum(bins_weighted, axis=0) #Distribution based on summed, weighted redshift bins\n",
    "        A_norm = np.trapz(dist)\n",
    "        dist_norm = dist/A_norm\n",
    "    return func_range, dist, A_norm, dist_norm"
   ]
  },
  {
   "cell_type": "markdown",
   "id": "c97adf3c",
   "metadata": {},
   "source": [
    "We construct a function to generate a simple NFW profile, along with the $\\Sigma_\\mathrm{crit}$ factor"
   ]
  },
  {
   "cell_type": "code",
   "execution_count": 14,
   "id": "9e883c93",
   "metadata": {},
   "outputs": [],
   "source": [
    "def nfw_generation(mass=None, concentration=None, zl=None, zs=None, scales=None):\n",
    "    da = Planck15.angular_diameter_distance(zl) \n",
    "    r_mpc = da*scales #Conversion to physical scales based on redshift\n",
    "    nfw = NFW(mass, concentration, zl) #NFW profile construction \n",
    "    sigma_crit = nfw.sigma_crit([zs]) #Sigma_crit construction\n",
    "    return da, r_mpc, nfw, sigma_crit"
   ]
  },
  {
   "cell_type": "markdown",
   "id": "821ea1bf",
   "metadata": {},
   "source": [
    "We construct a function to generate the offset distribution. "
   ]
  },
  {
   "cell_type": "code",
   "execution_count": 15,
   "id": "5d5b7459",
   "metadata": {},
   "outputs": [],
   "source": [
    "def offset_generation(offset=None, zl=None, size=None):\n",
    "    da_roff = Planck15.angular_diameter_distance(zl) #Angular diameter distance at this particular redshift\n",
    "    marker_roff = np.array(offset*da_roff) #Determining offset for this particular redshift (marker offset)\n",
    "    sigma_roff = np.sqrt(marker_roff) #Defined sigma value for offset distribution\n",
    "    r_off_range, r_off_dist, A_off, r_off_norm = normalization(marker_roff, sigma_roff, size, 'off') #Each redshift corresponds to a different range of roffs and a different distribution based around the offset\n",
    "    return r_off_dist, r_off_norm"
   ]
  },
  {
   "cell_type": "markdown",
   "id": "3a85b0bc",
   "metadata": {},
   "source": [
    "### Source Redshift Distribution"
   ]
  },
  {
   "cell_type": "markdown",
   "id": "3c3af8d2",
   "metadata": {},
   "source": [
    "We load in the source redshift catalog. The catalog presents the source redshifts divided into four tomographic bins, which we weight by galaxy count, sum, and normalize to produce our source redshift distribution. We plot each of the weighted redshift bins and compare to the total distribution. "
   ]
  },
  {
   "cell_type": "code",
   "execution_count": 16,
   "id": "a39c61e3",
   "metadata": {},
   "outputs": [],
   "source": [
    "#Finding mean source redshift \n",
    "T = twopoint.TwoPointFile.from_fits('../data/2pt_NG_final_2ptunblind_02_24_21_wnz_redmagic_covupdate.fits') #Loading files\n",
    "T.kernels[0].name\n",
    "nzs = (T.kernels[0].nzs) #Galaxy counts\n",
    "zsbin = (T.kernels[0].z) #Redshift spread\n",
    "\n",
    "#Weighting the source redshift bins by galaxy count\n",
    "nzs_count = np.array([24940465,25280405,24891859,25091297])\n",
    "nzs_total = np.sum(nzs_count)\n",
    "bins_weighted = []\n",
    "for i in range(4): #Weighting bins\n",
    "    bin_weighted = (nzs[i]*nzs_count[i]/nzs_total)\n",
    "    bins_weighted.append(bin_weighted)\n",
    "\n",
    "#Normalizing distribution\n",
    "zsbin, zsdist, A_zs, zsdist_norm = normalization(func='zs', ranged=zsbin, bins_weighted=bins_weighted)\n"
   ]
  },
  {
   "cell_type": "code",
   "execution_count": 44,
   "id": "5623e4ef",
   "metadata": {},
   "outputs": [
    {
     "data": {
      "image/png": "[encoded data removed]",
      "text/plain": [
       "<Figure size 432x288 with 1 Axes>"
      ]
     },
     "metadata": {
      "needs_background": "light"
     },
     "output_type": "display_data"
    },
    {
     "name": "stdout",
     "output_type": "stream",
     "text": [
      "0.6312412596033679\n"
     ]
    }
   ],
   "source": [
    "#Plotting the weighted source redshift bins\n",
    "for i in range(4):\n",
    "    plt.plot(zsbin, bins_weighted[i], label='Source Bin '+str(i+1))\n",
    "plt.plot(zsbin, zsdist_norm, color='black', label='Combined Source Bins') #Plotting normalized source redshift distribution\n",
    "\n",
    "plt.legend(frameon=False)\n",
    "plt.xlabel('Redshift')\n",
    "plt.ylabel('Normalized Counts')\n",
    "plt.title('Source Redshift Distribution')\n",
    "plt.show()\n",
    "\n",
    "#Printing out mean redshift\n",
    "z_mean_s = np.average(zsbin, weights=zsdist_norm)\n",
    "print(z_mean_s)"
   ]
  },
  {
   "cell_type": "markdown",
   "id": "6f1403db",
   "metadata": {},
   "source": [
    "### Defining Parameters"
   ]
  },
  {
   "cell_type": "markdown",
   "id": "7a1fc7b5",
   "metadata": {},
   "source": [
    "We define the parameters for the model. The NFW profile parameters include the lens redshift, the concentration (fixed at 2.0), and the mass. We require the source redshift to produce the $\\Sigma_{\\mathrm{crit}}$, a geometrical lensing factor that varies with the characteristics of the lensing system. Our mass terms and our mean lens redshift come from posteriors obtained with an MCMC. We build a gaussian around this mean lens redshift to construct our distribution. Our scales and our offset term (used to define the offset of the host halo profile) come from our measurements. We build a distribution of offsets based around the offset term.   "
   ]
  },
  {
   "cell_type": "code",
   "execution_count": 18,
   "id": "3b45439a",
   "metadata": {},
   "outputs": [],
   "source": [
    "#Model Parameters\n",
    "#These parameters have been altered by playing with the chi^2 by hand\n",
    "zl = 0.011 #Old model lens redshift: 13.2e-3 (from MCMC posterior)\n",
    "zl_sigma = 0.005 #Spread of lens redshift distribution- made smaller to avoid negative redshifts\n",
    "concentration = 2. #Concentration (taken from Sifon et al 2018)\n",
    "zs = z_mean_s\n",
    "theta_arcmin = np.geomspace(0.25, 1000, 25) #Scales of model\n",
    "theta_rad = theta_arcmin/60*np.pi/180 \n",
    "mass_term1 = 1e9 #Old model subhalo mass: 9.9e10 \n",
    "mass_term2 = 5e10 #Old model host halo mass12.2e14 \n",
    "offset_rad = 14/60*np.pi/180 #Scales of offset "
   ]
  },
  {
   "cell_type": "markdown",
   "id": "8219e158",
   "metadata": {},
   "source": [
    "### Model"
   ]
  },
  {
   "cell_type": "markdown",
   "id": "38fbcc98",
   "metadata": {},
   "source": [
    "We build our total model from two NFW profiles to represent the subhalo and host halo term of the shear measurements. We convert our angular scales to physical scales using the selected lens redshift and construct a normalized Gaussian distribution around this redshift. We then build the subhalo NFW term using the first mass term, the concentration, and the selected lens redshift. We use the mean source redshift to create the $\\Sigma_\\mathrm{crit}$ term. We calculate the excess surface density and the tangential shear for each of the 25 NFW profiles and integrate all of these terms over the normalized lens redshift distribution. We repeat this process for the host halo term, but we alter the scales by a normalized offset distribution and integrate over this distribution. We sum these two integrated profiles to find our total model."
   ]
  },
  {
   "cell_type": "code",
   "execution_count": 23,
   "id": "d7b88c70",
   "metadata": {},
   "outputs": [],
   "source": [
    "#Shear model\n",
    "def total_model(mass_term1=None, mass_term2=None, concentration=None, zs=None, zl_mean=None, zl_sigma=None, offset=None, scales=None):\n",
    "    #Lens redshift distribution\n",
    "    zlrange, zldist, A_zl, zldist_norm = normalization(mean=zl_mean, sigma=zl_sigma, size=30, func='zl') \n",
    "    \n",
    "    #Subhalo NFW\n",
    "    gt_term1_list = []\n",
    "    for i, xi in enumerate(zlrange):\n",
    "        #Calculate the angular diameter distance for a single redshift\n",
    "        da_term1, r_mpc_term1, nfw_term1, sigma_crit_term1 = nfw_generation(mass=mass_term1, concentration=concentration, zl=xi, zs=zs, scales=scales)\n",
    "        esd_term1 = nfw_term1.projected_excess(r_mpc_term1)\n",
    "        gt_term1 = esd_term1/sigma_crit_term1\n",
    "        gt_term1_norm = gt_term1*zldist_norm[i] #We multiply by the normalized lens redshift value at the index of the current redshift\n",
    "        gt_term1_list.append(gt_term1_norm) \n",
    "    gt_term1_list = np.array(gt_term1_list)\n",
    "    I_calc_term1 = np.trapz(gt_term1_list, axis=0) #Integrate over all of the lens redshifts\n",
    "    \n",
    "    #Offset\n",
    "    r_off_dist_list = []\n",
    "    r_off_norm_list = []\n",
    "    \n",
    "    for i, xi in enumerate(zlrange):\n",
    "        r_off_dist, r_off_norm = offset_generation(offset=offset_rad, zl=xi, size=40)\n",
    "        r_off_dist_list.append(r_off_dist) #List of regular r_off_dist \n",
    "        r_off_norm_list.append(r_off_norm) #List of normalized r_off_dist for different redshifts- each of the 30 redshifts has a 40 point distribution\n",
    "    #We integrate over the 40 points to have a single normalized offset value corresponding to each redshift\n",
    "    r_off_norm_int = np.trapz(r_off_norm_list, axis=1)\n",
    "    \n",
    "    #Host halo NFW\n",
    "    gt_term2_list = []\n",
    "    for i, xi in enumerate(zlrange):\n",
    "        #Calculate the angular diameter distance, physical distance, nfw profile, and sigma_crit for a single redshift\n",
    "        da_term2, r_mpc_term2, nfw_term2, sigma_crit_term2 = nfw_generation(mass=mass_term2, concentration=concentration, zl=xi, zs=zs, scales=theta_rad)\n",
    "        esd_term2 = nfw_term2.offset_projected_excess(np.array(r_mpc_term2), np.array(r_off_dist_list[i])) #We use the offset distribution value corresponding to this redshift\n",
    "        gt_term2 = (esd_term2/sigma_crit_term2)*zldist_norm[i]*r_off_norm_int[i] #We multiply by both the normalized lens redshift distribution and normalized offset distribution\n",
    "        gt_term2_list.append(gt_term2)\n",
    "    gt_term2_list = np.array(gt_term2_list) \n",
    "    I_calc_term2_int = np.trapz(gt_term2_list, axis=1) #We integrate over the offset distribution\n",
    "    I_calc_term2 = np.trapz(I_calc_term2_int, axis=0) #We integrate over the lens redshift\n",
    "    total_model = I_calc_term1 + I_calc_term2 #Total model calculation\n",
    "    \n",
    "    return total_model, I_calc_term1, I_calc_term2 "
   ]
  },
  {
   "cell_type": "code",
   "execution_count": 24,
   "id": "34c4e280",
   "metadata": {},
   "outputs": [],
   "source": [
    "#Call for model\n",
    "total_model = total_model(mass_term1=mass_term1, mass_term2=mass_term2, concentration=concentration, zs=zs, zl_mean=zl, zl_sigma=zl_sigma, offset=offset_rad, scales=theta_rad)\n",
    "\n"
   ]
  },
  {
   "cell_type": "markdown",
   "id": "833db484",
   "metadata": {},
   "source": [
    "### Comparison Between Model and Shear Measurements"
   ]
  },
  {
   "cell_type": "markdown",
   "id": "facb1fbf",
   "metadata": {},
   "source": [
    "We compare our models to our red LSBG shear measurements. Note that the model is a function of physical scales (R), while the measurements are functions of angular scales ($\\theta$). The errorbars on the measurements come from the jackknife covariance. "
   ]
  },
  {
   "cell_type": "code",
   "execution_count": 25,
   "id": "55cf0455",
   "metadata": {},
   "outputs": [],
   "source": [
    "#Transfer from angular scales to physical scales based on redshift\n",
    "zlrange = normalization(mean=zl, sigma=zl_sigma, size=30, func='zl')[0] #We pull out the lens redshift range\n",
    "r_mpc_spread = []\n",
    "for i, xi in enumerate(zlrange): #We loop through the lens redshifts and calculate the physical distance at each redshift\n",
    "    da = Planck15.angular_diameter_distance(xi)\n",
    "    r_mpc = da*theta_rad\n",
    "    r_mpc_spread.append(r_mpc)\n",
    "r_mpc_spread = np.array(r_mpc_spread) \n",
    "r_mpc_scales = np.trapz(r_mpc_spread, axis=0) #We integrate over the lens redshift distribution"
   ]
  },
  {
   "cell_type": "code",
   "execution_count": 42,
   "id": "c76c189e",
   "metadata": {},
   "outputs": [
    {
     "data": {
      "image/png": "[encoded data removed]",
      "text/plain": [
       "<Figure size 576x432 with 2 Axes>"
      ]
     },
     "metadata": {
      "needs_background": "light"
     },
     "output_type": "display_data"
    }
   ],
   "source": [
    "#Plot for measurements compared to model\n",
    "fig, ax1 = plt.subplots(figsize=(8,6), ncols=1)\n",
    "ax1.errorbar(theta_red, xi_red, err_jk_red, fmt=\"o\", color=\"firebrick\", label=\"Red Galaxies\") #Measurements over angular scales \n",
    "ax2 = ax1.twiny()\n",
    "ax2.plot(r_mpc_scales, total_model[0], color='firebrick', label = 'Total Model') #Secondary axis- model over physical scales\n",
    "ax2.plot(r_mpc_scales, total_model[1], ls=':', color='firebrick', label='NFW Subhalo')\n",
    "ax2.plot(r_mpc_scales, total_model[2],ls='--', color='firebrick',label='NFW Host Halo')\n",
    "\n",
    "ax1.set_ylabel(r'$\\gamma_t(\\theta, R)$', fontsize=16)\n",
    "ax1.set_xlabel('$\\\\theta$ [arcmin]', fontsize=16)\n",
    "ax2.set_xlabel('R [Mpc]', fontsize=16)\n",
    "\n",
    "ax2.legend(frameon=False)\n",
    "ax1.set_xscale('log')\n",
    "ax1.set_yscale('log')\n",
    "ax2.set_xscale('log')\n",
    "ax2.set_yscale('log')\n",
    "plt.title('Model vs. Red LSBG Tangential Shear Measurements')\n",
    "plt.show()\n"
   ]
  },
  {
   "cell_type": "markdown",
   "id": "e8acb2f7",
   "metadata": {},
   "source": [
    "We include the $\\chi^2$ calculations between the model and the red LSBG tangential shear measurements."
   ]
  },
  {
   "cell_type": "code",
   "execution_count": 27,
   "id": "13f8ef1c",
   "metadata": {},
   "outputs": [
    {
     "name": "stdout",
     "output_type": "stream",
     "text": [
      "[[55.05038636]]\n"
     ]
    }
   ],
   "source": [
    "#Chi2 calculation between model and measurements\n",
    "chi2_total = chi2(cov, total_model[0], np.reshape(xi_red, (25,1)))\n",
    "print(chi2_total)"
   ]
  },
  {
   "cell_type": "markdown",
   "id": "1f958a3b",
   "metadata": {},
   "source": [
    "### Density Profile"
   ]
  },
  {
   "cell_type": "markdown",
   "id": "db1a95df",
   "metadata": {},
   "source": [
    "We calculate and plot the projected surface density profile, instead of the excess surface density, as an additional check. "
   ]
  },
  {
   "cell_type": "code",
   "execution_count": 36,
   "id": "c0f26793",
   "metadata": {},
   "outputs": [],
   "source": [
    "#Density Profile Function\n",
    "def density_profile(mass_term1=None, mass_term2=None, concentration=None, zl_mean=None, zl_sigma=None, zs=None, scales=None):\n",
    "    #Lens redshift distribution\n",
    "    zlrange, zldist, A_zl, zldist_norm = normalization(mean=zl_mean, sigma=zl_sigma, size=30, func='zl')\n",
    "    sigma_term1_list = []\n",
    "    for i, xi in enumerate(zlrange):\n",
    "        #Angular diameter distance, physical scales, nfw profile, and sigma_crit at a single redshift\n",
    "        da_term1, r_mpc_term1, nfw_term1, sigma_crit_term1 = nfw_generation(mass=mass_term1, concentration=concentration, zl=xi, zs=zs, scales=scales)\n",
    "        sigma_term1 = nfw_term1.projected(r_mpc_term1) #Density profile\n",
    "        sigma_term1_norm = sigma_term1*zldist_norm[i] #Normalizing by lens redshift distribution\n",
    "        sigma_term1_list.append(sigma_term1_norm) \n",
    "    sigma_term1_list = np.array(sigma_term1_list) \n",
    "    I_calc_sigma_term1 = (np.trapz(sigma_term1_list, axis=0)) #Integration of surface density terms over normalized lens redshift distribution \n",
    "    \n",
    "    #Offset\n",
    "    r_off_dist_list = []\n",
    "    r_off_norm_list = []\n",
    "    for i, xi in enumerate(zlrange):\n",
    "        #Offset distribution\n",
    "        r_off_dist, r_off_norm = offset_generation(offset=offset_rad, zl=xi, size=40)\n",
    "        r_off_dist_list.append(r_off_dist)\n",
    "        r_off_norm_list.append(r_off_norm)\n",
    "    r_off_norm_list = np.array(r_off_norm_list)\n",
    "    r_off_norm_int = np.trapz(r_off_norm_list, axis=1) #Integrating over offset distribution profile so one normalized offset distribution corresponds to each redshift\n",
    "    \n",
    "    sigma_term2_list = []\n",
    "    for i, xi in enumerate(zlrange):\n",
    "        #Angular diameter distance, physical scales, nfw profile, and sigma_crit at a single redshift\n",
    "        da_term2, r_mpc_term2, nfw_term2, sigma_crit_term2 = nfw_generation(mass=mass_term2, concentration=concentration, zl=xi, zs=zs, scales=scales)\n",
    "        sigma_term2 = nfw_term2.offset_projected(np.array(r_mpc_term2), np.array(r_off_dist_list[i])) #Density profile at offset distribution value for this redshift\n",
    "        sigma_term2_norm = sigma_term2*r_off_norm_int[i]*zldist_norm[i] #Normalization\n",
    "        sigma_term2_list.append(sigma_term2_norm)\n",
    "    I_calc_sigma_term2_int = np.trapz(sigma_term2_list, axis=1) #We integrate over the offset distribution\n",
    "    I_calc_sigma_term2 = np.trapz(I_calc_sigma_term2_int, axis=0) #We integrate over the lens redshift\n",
    "    total_density = I_calc_sigma_term1 +I_calc_sigma_term2 #We sum for the total model\n",
    "    return I_calc_sigma_term1, I_calc_sigma_term2, total_density\n",
    "    "
   ]
  },
  {
   "cell_type": "code",
   "execution_count": 38,
   "id": "fc33b88d",
   "metadata": {},
   "outputs": [],
   "source": [
    "#Call for density profile function\n",
    "sigma_term1, sigma_term2, total_density = density_profile(mass_term1=mass_term1, mass_term2=mass_term2, concentration=concentration, zl_mean=zl, zl_sigma=zl_sigma, zs=zs, scales=theta_rad)\n"
   ]
  },
  {
   "cell_type": "markdown",
   "id": "0d3b0a5b",
   "metadata": {},
   "source": [
    "We plot the density profile as a function of physical scales."
   ]
  },
  {
   "cell_type": "code",
   "execution_count": 43,
   "id": "8d711f39",
   "metadata": {},
   "outputs": [
    {
     "data": {
      "image/png": "[encoded data removed]",
      "text/plain": [
       "<Figure size 576x432 with 1 Axes>"
      ]
     },
     "metadata": {
      "needs_background": "light"
     },
     "output_type": "display_data"
    }
   ],
   "source": [
    "#Plot Density Profiles\n",
    "fig, ax = plt.subplots(figsize=(8,6), ncols=1)\n",
    "ax.plot(r_mpc_scales, sigma_term1, label = 'Subhalo Density Profile' )\n",
    "ax.plot(r_mpc_scales, sigma_term2, label = 'Host Halo Density Profile')\n",
    "ax.plot(r_mpc_scales, total_density, label = 'Total Density Profile')\n",
    "ax.set_ylabel(r'$\\Sigma(R)$ (M$_\\odot$/Mpc$^2$)', fontsize=16)\n",
    "ax.set_xlabel('R(Mpc)', fontsize=16)\n",
    "ax.legend(frameon=False)\n",
    "ax.set_xscale('log')\n",
    "ax.set_yscale('log')\n",
    "plt.title('Density Profile')\n",
    "plt.show()"
   ]
  },
  {
   "cell_type": "code",
   "execution_count": null,
   "id": "6d8b0aeb",
   "metadata": {},
   "outputs": [],
   "source": []
  }
 ],
 "metadata": {
  "kernelspec": {
   "display_name": "Python 3 (ipykernel)",
   "language": "python",
   "name": "python3"
  },
  "language_info": {
   "codemirror_mode": {
    "name": "ipython",
    "version": 3
   },
   "file_extension": ".py",
   "mimetype": "text/x-python",
   "name": "python",
   "nbconvert_exporter": "python",
   "pygments_lexer": "ipython3",
   "version": "3.9.12"
  }
 },
 "nbformat": 4,
 "nbformat_minor": 5
}

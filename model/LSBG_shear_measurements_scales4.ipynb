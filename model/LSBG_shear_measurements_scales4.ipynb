{
 "cells": [
  {
   "cell_type": "markdown",
   "id": "4ea7cad2",
   "metadata": {},
   "source": [
    "# LSBG Tangential Shear Measurement Analysis"
   ]
  },
  {
   "cell_type": "markdown",
   "id": "463873fc",
   "metadata": {},
   "source": [
    "Low surface brightness galaxies (LSBGs) are diffuse galaxies with a surface brightness dimmer than the ambient night sky. Given their faintness, the use of traditional astronomical techniques for observation proves challenging. Weak gravitational lensing probes both the baryonic and dark matter content of these galaxies, rendering it a powerful technique to estimate LSBG masses. Weak gravitational lensing averages the shear, or distortion, of thousands of images of background galaxies to extract the distortion caused by the lens object. The large counts of lens-source pairs enable us to find a preferred tangential alignment of source galaxies around lens galaxies: the tangential shear. In this notebook, we analyze the LSBG tangential shear measurements obtained with [TreeCorr](https://rmjarvis.github.io/TreeCorr/_build/html/index.html). The LSBG catalog ([Tangolidis et al. 2020](https://arxiv.org/pdf/2006.04294.pdfLSBGs)) divides the LSBG sample into red galaxies at $g-i>0.6$ and blue galaxies at $g-i<0.6$. We plot the tangential shear measurements, perform a series of systematics tests to evaluate their robustness, survey the behavior of their covariance matrices, and explore an alternative set of color cuts."
   ]
  },
  {
   "cell_type": "markdown",
   "id": "4dc4a015",
   "metadata": {},
   "source": [
    "## Imports"
   ]
  },
  {
   "cell_type": "markdown",
   "id": "39d3f357",
   "metadata": {},
   "source": [
    "* We use numpy for numerical calculation and analysis\n",
    "* We use matplotlib for plotting and visualization"
   ]
  },
  {
   "cell_type": "code",
   "execution_count": 1,
   "id": "2ab7c80f",
   "metadata": {},
   "outputs": [],
   "source": [
    "#Loading packages\n",
    "import matplotlib.pyplot as plt\n",
    "import numpy as np\n",
    "plt.rc('text', usetex=True)\n",
    "plt.rc('font', family='serif')"
   ]
  },
  {
   "cell_type": "markdown",
   "id": "8851f677",
   "metadata": {},
   "source": [
    "## Loading Data"
   ]
  },
  {
   "cell_type": "markdown",
   "id": "157787de",
   "metadata": {},
   "source": [
    "### Red, Blue, and Total Tangential Shear Measurements "
   ]
  },
  {
   "cell_type": "markdown",
   "id": "3befd18b",
   "metadata": {},
   "source": [
    "We load the tangential shear measurements for the red, blue, and total LSBG sample. In addition, we load the tangential shear measurements conducted on the random point sample. 'theta' corresponds to the angular scales of the measurements, 'xi' marks the tangential shear, 'error' represents the shape noise, 'err_jk' indicates the jackknife covariance, and the 'cross term' stands for the shear measured around the lensing B-mode. "
   ]
  },
  {
   "cell_type": "code",
   "execution_count": 2,
   "id": "c804f46b",
   "metadata": {},
   "outputs": [],
   "source": [
    "#Loading in measurements\n",
    "theta_red, xi_red, error_red, cross_term_red = np.loadtxt('../data/gt_LSBG_combined_sources_scales_4_red_ran', unpack=True)\n",
    "theta_red, xi_red, err_jk_red, cross_term_red = np.loadtxt('../data/gt_LSBG_jackknife_combined_sources_scales_4_red_ran', unpack=True)\n",
    "\n",
    "theta_blue, xi_blue, error_blue,  cross_term_blue = np.loadtxt('../data/gt_LSBG_combined_sources_scales_4_blue_ran', unpack=True)\n",
    "theta_blue, xi_blue, err_jk_blue, cross_term_blue = np.loadtxt('../data/gt_LSBG_jackknife_combined_sources_scales_4_blue_ran', unpack=True)\n",
    "\n",
    "theta, xi, error,  cross_term = np.loadtxt('../data/gt_LSBG_combined_sources_scales_4_ran', unpack=True)\n",
    "theta, xi, err_jk, cross_term = np.loadtxt('../data/gt_LSBG_jackknife_combined_sources_scales_4_ran', unpack=True)\n",
    "\n",
    "theta_randoms, xi_randoms, error_randoms, err_jk_randoms = np.loadtxt('../data/rg_gt_scales_4_ran', unpack=True)\n",
    "\n",
    "theta_blue_alt, xi_blue_alt, error_blue_alt, cross_term_blue_alt = np.loadtxt('../data/gt_LSBG_combined_sources_scales_4_blue_alt_ran', unpack=True)\n",
    "theta_blue_alt, xi_blue_alt, err_jk_blue_alt, cross_term_blue_alt = np.loadtxt('../data/gt_LSBG_jackknife_combined_sources_scales_4_blue_alt_ran', unpack=True)\n",
    "\n"
   ]
  },
  {
   "cell_type": "markdown",
   "id": "4efb2d92",
   "metadata": {},
   "source": [
    "### Covariance Matrices"
   ]
  },
  {
   "cell_type": "markdown",
   "id": "f22d4d52",
   "metadata": {},
   "source": [
    "We load the jackknife covariance matrices for the total, red, and blue LSBG samples. In addition, we load in the covariance matrices for the random sample and the $\\gamma _\\times$ term, or the lensing B-mode term."
   ]
  },
  {
   "cell_type": "code",
   "execution_count": 3,
   "id": "eca9d06b",
   "metadata": {},
   "outputs": [],
   "source": [
    "#Loading in covariances\n",
    "cov = np.loadtxt('jkcov_gt_LSBG_combined_sources_scales_4_ran')\n",
    "cov_red = np.loadtxt('jkcov_gt_LSBG_combined_sources_scales_4_red_ran')\n",
    "cov_blue = np.loadtxt('jkcov_gt_LSBG_combined_sources_scales_4_blue_ran')\n",
    "randoms_cov = np.loadtxt('jkcov_randoms_ran_scales_4')\n",
    "cross_term_cov = np.loadtxt('cov_xi_im_scales_4')\n",
    "cross_term_cov_red = np.loadtxt('cov_xi_im_scales_4_red')\n",
    "cross_term_cov_blue = np.loadtxt('cov_xi_im_scales_4_blue')\n"
   ]
  },
  {
   "cell_type": "markdown",
   "id": "4c8bbb62",
   "metadata": {},
   "source": [
    "### Boost Factor Measurements"
   ]
  },
  {
   "cell_type": "markdown",
   "id": "4c2a502c",
   "metadata": {},
   "source": [
    "We load the boost factors, derived from the tangential shear measurements, and the boost factor covariance matrices. The boost factor measures the excess number of sources around lenses compared to the amount of sources around random points. We use the boost factor to quantify bias caused by lens-source clustering."
   ]
  },
  {
   "cell_type": "code",
   "execution_count": 6,
   "id": "221cc4f5",
   "metadata": {},
   "outputs": [],
   "source": [
    "#Loading in boost factor\n",
    "boost_factor = np.loadtxt('../data/boost_factor_scales_4')\n",
    "boost_factor_red = np.loadtxt('../data/boost_factor_scales_4_red_recalibrated')\n",
    "boost_factor_blue = np.loadtxt('../data/boost_factor_scales_4_blue_recalibrated')\n"
   ]
  },
  {
   "cell_type": "code",
   "execution_count": 7,
   "id": "ba277afe",
   "metadata": {},
   "outputs": [],
   "source": [
    "#Loading boost factor covariances\n",
    "boost_factor_cov = np.loadtxt('../data/boost_factor_covariance_scales_4')\n",
    "boost_factor_red_cov = np.loadtxt('../data/boost_factor_covariance_scales_4_red_recalibrated')\n",
    "boost_factor_blue_cov = np.loadtxt('../data/boost_factor_covariance_scales_4_blue_recalibrated')"
   ]
  },
  {
   "cell_type": "markdown",
   "id": "494a1f9b",
   "metadata": {},
   "source": [
    "## Function Definitions"
   ]
  },
  {
   "cell_type": "markdown",
   "id": "1f58db5d",
   "metadata": {},
   "source": [
    "### Measurement Quality Functions"
   ]
  },
  {
   "cell_type": "markdown",
   "id": "d4376d53",
   "metadata": {},
   "source": [
    "We define the functions used to evaluate the strength of the measurements"
   ]
  },
  {
   "cell_type": "markdown",
   "id": "6cfc19c5",
   "metadata": {},
   "source": [
    "We define two iterations of the $\\chi^2$ statistic, used to determine the quality of the fit between a model and a dataset or between two models. We define the $\\chi^2$ statistic as: $$\\chi^2 = (\\gamma_{t, d}-\\gamma_{t,m})\\times \\mathrm{cov}^{-1}\\times (\\gamma_{t,d}-\\gamma_{t,m}), $$ where $\\gamma_{t,d}$ represents the measurements and $\\gamma_{t,m}$ indicates the model. \n",
    "\n",
    "We calculate the $\\chi^2_\\mathrm{null}$ to assess the strength of the lensing signal. The $\\chi^2_\\mathrm{null}$ compares the lensing signal to a null model, as follows: $$\\chi^2_\\mathrm{null} = \\gamma_{t,d}\\times \\mathrm{cov}^{-1}\\times \\gamma_{t, d}.$$ \n",
    "\n",
    "\n",
    "The $\\chi^2$ statistic depends on the jackknife covariance, but the inverse of this matrix is biased and noisy. We correct for this bias by using the Hartlap factor ([Hartlap et al. 2007](https://arxiv.org/pdf/astro-ph/0608064.pdf)). The Hartlap factor scales the inverse of the covariance matrix by: $$f = (n-m-2)/(n-1),$$ with $n$ as the number of realizations (100, for our jackknife patches) and $m$ as the number of entries in the data vectors (22, for the number of angular bins). "
   ]
  },
  {
   "cell_type": "code",
   "execution_count": 8,
   "id": "bccf2306",
   "metadata": {},
   "outputs": [],
   "source": [
    "def hartlap(n=None, m=None):\n",
    "    \"\"\"\n",
    "    Calculates the hartlap factor\n",
    "    \n",
    "    n = number of realizations (in our case 100)\n",
    "    m = number of data entries (in our case 22)\n",
    "    \n",
    "    \"\"\"\n",
    "    hartlap_factor = (n - m -2)/ float(n-1)\n",
    "    return hartlap_factor"
   ]
  },
  {
   "cell_type": "code",
   "execution_count": 9,
   "id": "d234b25e",
   "metadata": {},
   "outputs": [],
   "source": [
    "def chi2(cov=None, model=None, measurements=None, n=None, m=None):\n",
    "    \"\"\"\n",
    "    Calculates chi^2 between model and measurements\n",
    "    \n",
    "    cov = covariance matrix\n",
    "    model = model of choice\n",
    "    measurements = measurement of choice\n",
    "    \n",
    "    \"\"\"\n",
    "    invcov = (np.linalg.inv(cov))\n",
    "    chi2_bias = np.dot((measurements-model), np.dot(invcov, (measurements-model)))\n",
    "    hartlap_factor = hartlap(n=n, m=m)\n",
    "    chi2 = chi2_bias*hartlap_factor\n",
    "    return chi2"
   ]
  },
  {
   "cell_type": "code",
   "execution_count": 10,
   "id": "fbccf819",
   "metadata": {},
   "outputs": [],
   "source": [
    "def chi2_null(cov=None, measurements=None, n=None, m=None):\n",
    "    \"\"\"\n",
    "    Calculates chi^2 between measurements and null signal to evaluate signal strength\n",
    "    \n",
    "    cov = covariance matrix\n",
    "    measurements = measurements\n",
    "    \n",
    "    \"\"\"\n",
    "    invcov = (np.linalg.inv(cov))\n",
    "    chi2_bias = np.dot(np.dot((measurements), invcov), (measurements.T))\n",
    "    hartlap_factor = hartlap(n=n, m=m)\n",
    "    chi2 = chi2_bias*hartlap_factor\n",
    "    return chi2"
   ]
  },
  {
   "cell_type": "code",
   "execution_count": 11,
   "id": "507db6b1",
   "metadata": {},
   "outputs": [],
   "source": [
    "def deltachi2(cov=None, model_1=None, model_2=None, n=None, m=None):\n",
    "    \"\"\"\n",
    "    Calculates the delta chi^2, the quantifiable difference between two models\n",
    "    \n",
    "    cov = jackknife covariance matrix\n",
    "    model1 = first model\n",
    "    model2 = second model\n",
    "    n = number of realizations \n",
    "    m = number of data entries\n",
    "    \n",
    "    Returns: delta chi^2\n",
    "    \"\"\"\n",
    "    invcov = np.linalg.inv(cov)\n",
    "    INVCOV = np.matrix(invcov)\n",
    "    diff = np.matrix((model_1).T[0]-(model_2).T[0])\n",
    "    deltachi2_bias = diff*INVCOV*diff.T\n",
    "    hartlap_factor = hartlap(n=n, m=m)\n",
    "    deltachi2 = deltachi2_bias*hartlap_factor\n",
    "    \n",
    "    return deltachi2"
   ]
  },
  {
   "cell_type": "markdown",
   "id": "54626985",
   "metadata": {},
   "source": [
    "We define a function to calculate the signal-to-noise (S/N) of the measurements, incorporating the $\\chi^2_\\mathrm{null}$, the hartlap factor, and the number of degrees of freedom $(\\nu)$. The S/N values are defined as: $$\\mathrm{S/N} = \\sqrt{(\\chi^2_\\mathrm{null}*f) - \\nu}. $$"
   ]
  },
  {
   "cell_type": "code",
   "execution_count": 12,
   "id": "c16b01b6",
   "metadata": {},
   "outputs": [],
   "source": [
    "def sn(dof=None, cov=None, measurements=None, n=None, m=None):\n",
    "    \"\"\"\n",
    "    Calculates the signal-to-noise\n",
    "    \n",
    "    dof = number of degrees of freedom (in our case 25)\n",
    "    cov = covariance matrix\n",
    "    measurements = measurements\n",
    "    n=number of realizations\n",
    "    m = number of data entries\n",
    "    \n",
    "    \"\"\"\n",
    "    chi2 = chi2_null(cov=cov, measurements=measurements, n=n, m=m)\n",
    "    sn = np.sqrt(chi2-dof)\n",
    "    return sn"
   ]
  },
  {
   "cell_type": "markdown",
   "id": "8ee6aec2",
   "metadata": {},
   "source": [
    "We define a function that constructs the correlation matrix for a given covariance."
   ]
  },
  {
   "cell_type": "code",
   "execution_count": 13,
   "id": "3cd11e1e",
   "metadata": {},
   "outputs": [],
   "source": [
    "def corrmatrix(cov=None):\n",
    "    \"\"\"\n",
    "    Calculates the correlation matrix\n",
    "    \n",
    "    cov=covariance matrix\n",
    "    \n",
    "    \"\"\"\n",
    "    cov = np.mat(cov)\n",
    "    D = np.diag(np.sqrt(np.diag(cov)))\n",
    "    d = np.linalg.inv(D)\n",
    "    corr = d*cov*d\n",
    "    return corr"
   ]
  },
  {
   "cell_type": "markdown",
   "id": "75a5d51d",
   "metadata": {},
   "source": [
    "We define a function to calculate errorbars based on the jackknife covariance (if errorbars have not been provided by [TreeCorr](https://rmjarvis.github.io/TreeCorr/_build/html/index.html)). "
   ]
  },
  {
   "cell_type": "code",
   "execution_count": 14,
   "id": "39e85d39",
   "metadata": {},
   "outputs": [],
   "source": [
    "def errorbar(cov=None):\n",
    "    \"\"\"\n",
    "    Calculates the errorbars based on the jackknife covariance\n",
    "    \n",
    "    cov = jackknife covariance matrix\n",
    "    \n",
    "    \"\"\"\n",
    "    err_jk = np.sqrt(np.diag(cov))\n",
    "    return err_jk"
   ]
  },
  {
   "cell_type": "markdown",
   "id": "87e0ad72",
   "metadata": {},
   "source": [
    "### Visualization Functions"
   ]
  },
  {
   "cell_type": "markdown",
   "id": "a02243f4",
   "metadata": {},
   "source": [
    "We define functions to plot the tangential shear measurements, the $\\gamma_{\\times}$ term, the random sample shear measurements, the covariance diagonals, and the covariance correlation matrices. "
   ]
  },
  {
   "cell_type": "markdown",
   "id": "ccb366ea",
   "metadata": {},
   "source": [
    "We define a function that plots the tangential shear measurements (xi) across angular scales of 0.25-400 arcmin (theta) in 22 angular bins. The errorbars are derived from the jackknife covariance. "
   ]
  },
  {
   "cell_type": "code",
   "execution_count": 15,
   "id": "5b52a3c4",
   "metadata": {},
   "outputs": [],
   "source": [
    "def plot_tangential_shear(theta=None, xi=None, err_jk=None, color=None, galaxy_type=None):\n",
    "    \"\"\"\n",
    "    Plots the tangential shear measurements across angular scales\n",
    "    \n",
    "    theta = angular scales\n",
    "    xi = tangential shear signal \n",
    "    err_jk = jackknife errorbars\n",
    "    color = color of plot (should match galaxy type, black for total)\n",
    "    galaxy type = color type of galaxy (red, blue, or total)\n",
    "    \n",
    "    \"\"\"\n",
    "    fig = plt.figure(figsize=(5,3.5))\n",
    "    for i in range(len(theta)):\n",
    "        if xi[i]>0:\n",
    "            plt.errorbar(theta, xi, err_jk, fmt=\"o\", color=color)\n",
    "        if xi[i]<=0:\n",
    "            plt.errorbar(theta, -1*xi, err_jk, fmt=\"v\", color=color)\n",
    "    plt.yscale('log')\n",
    "    plt.xscale('log')\n",
    "    plt.xlabel(\"$\\\\theta$ [arcmin]\")\n",
    "    plt.ylabel(\"$\\gamma_t(\\\\theta)$\")\n",
    "    plt.ylim(10**(-6),  3*10**(-2))\n",
    "    plt.legend(frameon=False)\n",
    "    plt.show()"
   ]
  },
  {
   "cell_type": "markdown",
   "id": "390a1e97",
   "metadata": {},
   "source": [
    "We define functions that plot the shear measurement of the $\\gamma_{\\times}$ term and the shear measurement of the randoms sample. \n",
    "\n",
    "The tangential shear measures the distortion of the lensing E-mode, while the $\\gamma_{\\times}$ term measures the distortion of the lensing E-mode. Weak lensing only produces a tangential shear, thus in the absence of additional systematics the $\\gamma_{\\times}$ term should remain consistent with zero. \n",
    "\n",
    "The function calculates the errorbars for the $\\gamma_{\\times}$ (cross_term) based on the measured $\\gamma_{\\times}$ covariance (cross_term_cov). It plots $\\gamma_{\\times} \\times \\theta$ over binned angular separations (theta).\n",
    "\n",
    "As an additional systematics test, we plot the tangential shear around the randoms sample. These points are randomly selected, thus we should measure no lensing signal. "
   ]
  },
  {
   "cell_type": "code",
   "execution_count": 160,
   "id": "0d3bbb31",
   "metadata": {},
   "outputs": [],
   "source": [
    "def plot_cross_term(theta=None, cross_term_arr=None, cross_term_cov_arr=None):\n",
    "    \"\"\"\n",
    "    Plots the cross term shear\n",
    "    theta=angular separations\n",
    "    cross_term = lensing B-mode shear\n",
    "    cross_term_cov = covariance of lensing B-mode\n",
    "    \n",
    "    \"\"\"\n",
    "    fig = plt.figure(figsize=(5, 3.5))\n",
    "    cross_term_err_jk_red = np.sqrt(np.diag(cross_term_cov_arr[0]))\n",
    "    cross_term_err_jk_blue = np.sqrt(np.diag(cross_term_cov_arr[1]))\n",
    "    plt.errorbar(theta, cross_term_arr[0]*theta, cross_term_err_jk_red*theta, fmt='o', color=\"firebrick\")\n",
    "    plt.errorbar(theta*1.15, cross_term_arr[1]*theta, cross_term_err_jk_blue*theta, fmt='o', color=\"royalblue\")\n",
    "    plt.ylabel('$\\gamma_\\\\times \\\\times \\\\theta$')\n",
    "    plt.ylim(-0.006, 0.006)\n",
    "    plt.xlabel(\"$\\\\theta$ [arcmin]\")\n",
    "    plt.axhline(y=0, ls = ':' , color = 'k' )\n",
    "    plt.xscale('log')\n",
    "    plt.show()\n"
   ]
  },
  {
   "cell_type": "code",
   "execution_count": 161,
   "id": "7be8ebec",
   "metadata": {},
   "outputs": [],
   "source": [
    "def plot_ran_shear(theta_randoms=None, xi_randoms=None, err_jk_randoms=None):\n",
    "    \"\"\"\n",
    "    Plots the random sample shear\n",
    "    theta_randoms = randoms sample angular separations\n",
    "    xi_randoms = randoms sample shear measurements\n",
    "    err_jk_randoms = randoms sample errorbars\n",
    "    \n",
    "    \"\"\"\n",
    "    fig = plt.figure(figsize=(5,3.5))\n",
    "    plt.errorbar(theta_randoms, xi_randoms, err_jk_randoms, fmt=\"o\", color=\"black\", label = 'Random Signal')\n",
    "    plt.errorbar(theta*1.15, np.abs(xi), err_jk, fmt=\"x\", color = 'purple', label='Lensing Signal')\n",
    "    plt.ylabel('$\\gamma_t(\\\\theta)$')\n",
    "    plt.ylim(-0.00015, 0.00015)\n",
    "    plt.xlabel(\"$\\\\theta$ [arcmin]\")\n",
    "    plt.axhline(y=0, ls = ':' , color = 'k' )\n",
    "    plt.xscale('log')\n",
    "    plt.legend(frameon=False, loc='lower right')\n",
    "    plt.show()"
   ]
  },
  {
   "cell_type": "markdown",
   "id": "175d11b2",
   "metadata": {},
   "source": [
    "We define a function that plots the diagonals for the shape noise and the jackknife covariance for the three color samples. All terms should be presented in arrays for the three color samples. "
   ]
  },
  {
   "cell_type": "code",
   "execution_count": 162,
   "id": "a602c27b",
   "metadata": {},
   "outputs": [],
   "source": [
    "def noise_diag(theta_arr=None, error_arr=None, err_jk_arr=None, color_arr=None):\n",
    "    \"\"\"\n",
    "    Plots the shape noise and jackknife diagonals for the red, blue, and total LSBG sample\n",
    "    \n",
    "    theta_arr = array of angular separations for the three LSBG samples\n",
    "    error_arr = array of shape noise matrices for the three LSBG samples\n",
    "    err_jk_arr = array of jackknife matrices for the three LSBG samples\n",
    "    color_arr = array of colors\n",
    "    \n",
    "    \"\"\"\n",
    "    fig = plt.figure(figsize = (6,4.5))\n",
    "    plt.plot(theta, error, ls='--', color='black', label='Shape Noise')\n",
    "    plt.plot(theta_red, error_red, ls='--', color='firebrick')\n",
    "    plt.plot(theta_blue, error_blue, ls='--', color='royalblue')\n",
    "    plt.plot(theta, err_jk, color='black', label='Jackknife')\n",
    "    plt.plot(theta_red, err_jk_red, color='firebrick')\n",
    "    plt.plot(theta_blue, err_jk_blue, color='royalblue')\n",
    "    plt.xscale('log')\n",
    "    plt.yscale('log')\n",
    "    plt.xlabel(\"$\\\\theta$ [arcmin]\")\n",
    "    plt.ylabel(\"$\\sigma (\\gamma_t)$\")   \n",
    "    plt.legend(frameon=False)\n",
    "    plt.show()"
   ]
  },
  {
   "cell_type": "markdown",
   "id": "571e371c",
   "metadata": {},
   "source": [
    "We define a function to plot the correlation matrices for the covariances. "
   ]
  },
  {
   "cell_type": "code",
   "execution_count": 163,
   "id": "c4175cd1",
   "metadata": {},
   "outputs": [],
   "source": [
    "def plot_cov(cov=None, size=None, colormap=None):\n",
    "    \"\"\"\n",
    "    Plots the correlation matrix for the covariance\n",
    "    \n",
    "    cov = covariance matrix\n",
    "    size = size of figure\n",
    "    colormap = colormap of matrix\n",
    "    \n",
    "    \"\"\"\n",
    "    ncov1 = len(cov)\n",
    "    ncov2 = len(cov[0])\n",
    "    \n",
    "    corr = corrmatrix(cov)\n",
    "    cov_vmin = np.min(corr)\n",
    "    \n",
    "    figsize1 = 1.22222222227*ncov1/size\n",
    "    figsize2 = ncov2/size\n",
    "    fig, ax = plt.subplots(1, 1, figsize=(figsize1, figsize2))\n",
    "    im = ax.imshow(corr, interpolation='nearest',\n",
    "                           aspect='auto', origin='lower', vmin=-0.5, vmax=1., cmap=str(colormap))\n",
    "    plt.colorbar(im, ax=ax)\n",
    "    plt.show()"
   ]
  },
  {
   "cell_type": "markdown",
   "id": "81b9e347",
   "metadata": {},
   "source": [
    "### Boost Factor Functions"
   ]
  },
  {
   "cell_type": "markdown",
   "id": "261dbc75",
   "metadata": {},
   "source": [
    "The tangential shear measurements ignore the clustering between lens and source galaxies, which at small angular scales can change the number of lens-source pairs compared to predictions based on the mean number densities. This effect biases the shear estimator. To estimate the decrease in lensing signal caused by lens-source clustering, we compare the excess number of sources around lenses to the number of sources surrounding random points as a function of scale. We define the resulting measurement as the boost factor ([Sheldon et al.2004](https://arxiv.org/pdf/astro-ph/0312036.pdf))."
   ]
  },
  {
   "cell_type": "markdown",
   "id": "eb2742e9",
   "metadata": {},
   "source": [
    "We define a function to plot the boost factor for the red and blue galaxy samples. The boost factors and covariances for the assorted color samples must be converted into arrays. "
   ]
  },
  {
   "cell_type": "code",
   "execution_count": 164,
   "id": "0f31be8b",
   "metadata": {},
   "outputs": [],
   "source": [
    "def boost_plot(theta_boost_arr=None, boost_factor_arr=None, boost_factor_cov_arr=None, color_arr_boost=None):\n",
    "    \"\"\"\n",
    "    Plots the red and blue LSBG boost factor measurements, with errorbars from the jackknifce covariance\n",
    "    \n",
    "    theta_boost_arr = array of theta, theta*1.15 for better visibility\n",
    "    boost_factor_arr = array of red and blue boost factors\n",
    "    boost_factor_cov_arr = array of red and blue boost factor covariances\n",
    "    color_arr_boost = array of colors for plot\n",
    "    \n",
    "    \"\"\"\n",
    "    err_jk_boost_list =[]\n",
    "    for i in range(len(boost_factor_arr)):\n",
    "        err_jk_boost = errorbar(boost_factor_cov_arr[i])\n",
    "        plt.errorbar(theta_boost_arr[i], boost_factor_arr[i], err_jk_boost, fmt=\"o\", \n",
    "                     color = color_arr_boost[i])\n",
    "    plt.xscale('log')\n",
    "    plt.xlabel('$\\\\theta$ [arcmin]')\n",
    "    plt.ylabel('$B(\\\\theta)$')\n",
    "    plt.axhline(y=1.0, ls = ':' , color = 'k' )\n",
    "    plt.show()"
   ]
  },
  {
   "cell_type": "markdown",
   "id": "93c8fd4d",
   "metadata": {},
   "source": [
    "## Defining Parameters "
   ]
  },
  {
   "cell_type": "markdown",
   "id": "153aac11",
   "metadata": {},
   "source": [
    "We define the extra parameters for the hartlap factor and the signal-to-noise, where $n$ designates the number of realizations, $m$ indicates the number of data entries, and dof represents the degrees of freedom."
   ]
  },
  {
   "cell_type": "code",
   "execution_count": 165,
   "id": "8ea8d13e",
   "metadata": {},
   "outputs": [],
   "source": [
    "n = 100\n",
    "m = 22\n",
    "dof = 22"
   ]
  },
  {
   "cell_type": "markdown",
   "id": "4faf6505",
   "metadata": {},
   "source": [
    "We establish arrays of angular separations, shape noise, jackknife diagonals, and colors for the *noise_diag* function. "
   ]
  },
  {
   "cell_type": "code",
   "execution_count": 166,
   "id": "fe23fa93",
   "metadata": {},
   "outputs": [],
   "source": [
    "theta_arr = np.array([theta, theta_red, theta_blue])\n",
    "error_arr = np.array([error, error_red, error_blue])\n",
    "err_jk_arr = np.array([err_jk, err_jk_red, err_jk_blue])\n",
    "color_arr = np.array(['black', 'firebrick', 'royalblue'])"
   ]
  },
  {
   "cell_type": "markdown",
   "id": "2e607654",
   "metadata": {},
   "source": [
    "We establish arrays of angular separations, shear measurements, and covariances for the *plot_cross_term* function."
   ]
  },
  {
   "cell_type": "code",
   "execution_count": 167,
   "id": "ceb4a84f",
   "metadata": {},
   "outputs": [],
   "source": [
    "cross_term_arr = np.array([cross_term_red, cross_term_blue])\n",
    "cross_term_cov_arr = np.array([cross_term_cov_red, cross_term_cov_blue])"
   ]
  },
  {
   "cell_type": "markdown",
   "id": "40397f99",
   "metadata": {},
   "source": [
    "We establish arrays of boost factors, boost factor covariances, and colors for the *boost_plot* function. "
   ]
  },
  {
   "cell_type": "code",
   "execution_count": 168,
   "id": "73a4ce16",
   "metadata": {},
   "outputs": [],
   "source": [
    "theta_boost_arr = np.array([theta, theta*1.15])\n",
    "boost_factor_arr = np.array([boost_factor_red, boost_factor_blue])\n",
    "boost_factor_cov_arr = np.array([boost_factor_red_cov, boost_factor_blue_cov])\n",
    "color_arr_boost = np.array(['firebrick', 'royalblue'])"
   ]
  },
  {
   "cell_type": "markdown",
   "id": "7b2ce506",
   "metadata": {},
   "source": [
    "## Measurement Evaluations"
   ]
  },
  {
   "cell_type": "markdown",
   "id": "e3d378a6",
   "metadata": {},
   "source": [
    "We call the functions to plot the tangential shear measurements for the red, blue, and total sample of LSBGs. Note that we show the absolute value of the shear and the triangle markings indicate that the selected datapoint is negative."
   ]
  },
  {
   "cell_type": "code",
   "execution_count": 169,
   "id": "3c5ef08c",
   "metadata": {},
   "outputs": [
    {
     "name": "stderr",
     "output_type": "stream",
     "text": [
      "No artists with labels found to put in legend.  Note that artists whose label start with an underscore are ignored when legend() is called with no argument.\n"
     ]
    },
    {
     "data": {
      "image/png": "[encoded data removed]",
      "text/plain": [
       "<Figure size 360x252 with 1 Axes>"
      ]
     },
     "metadata": {
      "needs_background": "light"
     },
     "output_type": "display_data"
    },
    {
     "name": "stderr",
     "output_type": "stream",
     "text": [
      "No artists with labels found to put in legend.  Note that artists whose label start with an underscore are ignored when legend() is called with no argument.\n"
     ]
    },
    {
     "data": {
      "image/png": "[encoded data removed]",
      "text/plain": [
       "<Figure size 360x252 with 1 Axes>"
      ]
     },
     "metadata": {
      "needs_background": "light"
     },
     "output_type": "display_data"
    },
    {
     "name": "stderr",
     "output_type": "stream",
     "text": [
      "No artists with labels found to put in legend.  Note that artists whose label start with an underscore are ignored when legend() is called with no argument.\n"
     ]
    },
    {
     "data": {
      "image/png": "[encoded data removed]",
      "text/plain": [
       "<Figure size 360x252 with 1 Axes>"
      ]
     },
     "metadata": {
      "needs_background": "light"
     },
     "output_type": "display_data"
    }
   ],
   "source": [
    "plot_tangential_shear(theta_red, xi_red, err_jk_red, \"firebrick\", \"Red\")\n",
    "plot_tangential_shear(theta_blue, xi_blue, err_jk_blue, \"royalblue\", \"Blue\")\n",
    "plot_tangential_shear(theta, xi, err_jk, \"black\", \"Total\")"
   ]
  },
  {
   "cell_type": "markdown",
   "id": "05541889",
   "metadata": {},
   "source": [
    "We calculate the $\\chi^2_\\mathrm{null}$ and the signal-to-noise for the total sample, red LSBG sample, and blue LSBG sample. Note that the blue LSBG sample does not produce a signal."
   ]
  },
  {
   "cell_type": "code",
   "execution_count": 170,
   "id": "b1ef2613",
   "metadata": {},
   "outputs": [
    {
     "name": "stdout",
     "output_type": "stream",
     "text": [
      "50.09624659222689 5.30058926839525\n"
     ]
    }
   ],
   "source": [
    "chi2_total = chi2_null(cov=cov, measurements=xi, n=n, m=m)\n",
    "sn_total = sn(n=n, m=m, dof=dof, cov=cov, measurements=xi)\n",
    "print(chi2_total, sn_total)"
   ]
  },
  {
   "cell_type": "code",
   "execution_count": 171,
   "id": "568a80cd",
   "metadata": {},
   "outputs": [
    {
     "name": "stdout",
     "output_type": "stream",
     "text": [
      "66.42409585545164 6.665140347768503\n"
     ]
    }
   ],
   "source": [
    "chi2_red = chi2_null(cov=cov_red, measurements=xi_red, n=n, m=m)\n",
    "sn_red = sn(n=n, m=m, dof=dof, cov=cov_red, measurements=xi_red)\n",
    "print(chi2_red, sn_red)"
   ]
  },
  {
   "cell_type": "code",
   "execution_count": 172,
   "id": "59d3962e",
   "metadata": {},
   "outputs": [
    {
     "name": "stdout",
     "output_type": "stream",
     "text": [
      "26.69542735014794 2.1668934791881074\n"
     ]
    }
   ],
   "source": [
    "chi2_blue = chi2_null(cov=cov_blue, measurements=xi_blue, n=n, m=m)\n",
    "sn_blue = sn(n=n, m=m, dof=dof, cov=cov_blue, measurements=xi_blue)\n",
    "print(chi2_blue, sn_blue)"
   ]
  },
  {
   "cell_type": "markdown",
   "id": "0ed3a930",
   "metadata": {},
   "source": [
    "## Systematics Evaluations"
   ]
  },
  {
   "cell_type": "markdown",
   "id": "e16bce7a",
   "metadata": {},
   "source": [
    "We call the function to plot the shear of the $\\gamma_{\\times}$ term and calculate the $\\chi^2$. Note that we do not produce a measurable signal for the $\\gamma_{\\times}$ term, confirming our expectations, and we include an offset in $\\theta$ to improve the visibility of the measurements. "
   ]
  },
  {
   "cell_type": "code",
   "execution_count": 173,
   "id": "bb927d6f",
   "metadata": {},
   "outputs": [
    {
     "data": {
      "image/png": "[encoded data removed]",
      "text/plain": [
       "<Figure size 360x252 with 1 Axes>"
      ]
     },
     "metadata": {
      "needs_background": "light"
     },
     "output_type": "display_data"
    }
   ],
   "source": [
    "plot_cross_term(theta=theta, cross_term_arr=cross_term_arr, cross_term_cov_arr=cross_term_cov_arr)"
   ]
  },
  {
   "cell_type": "code",
   "execution_count": 140,
   "id": "a8a49619",
   "metadata": {},
   "outputs": [
    {
     "name": "stdout",
     "output_type": "stream",
     "text": [
      "13.579812600693838 nan\n"
     ]
    },
    {
     "name": "stderr",
     "output_type": "stream",
     "text": [
      "/var/folders/k7/xk17x8f56cs0qfbgc1vnw58r0000gn/T/ipykernel_6865/938614752.py:13: RuntimeWarning: invalid value encountered in sqrt\n",
      "  sn = np.sqrt(chi2-dof)\n"
     ]
    }
   ],
   "source": [
    "chi2_cross_term = chi2_null(cov=cross_term_cov, measurements=cross_term, n=n, m=m)\n",
    "sn_cross_term = sn(n=n, m=m, dof=dof, cov=cross_term_cov, measurements=cross_term)\n",
    "print(chi2_cross_term, sn_cross_term)"
   ]
  },
  {
   "cell_type": "code",
   "execution_count": 141,
   "id": "49ebe879",
   "metadata": {},
   "outputs": [
    {
     "name": "stdout",
     "output_type": "stream",
     "text": [
      "14.842226019461867 nan\n"
     ]
    },
    {
     "name": "stderr",
     "output_type": "stream",
     "text": [
      "/var/folders/k7/xk17x8f56cs0qfbgc1vnw58r0000gn/T/ipykernel_6865/938614752.py:13: RuntimeWarning: invalid value encountered in sqrt\n",
      "  sn = np.sqrt(chi2-dof)\n"
     ]
    }
   ],
   "source": [
    "chi2_cross_term_red = chi2_null(cov=cross_term_cov_red, measurements=cross_term_red, n=n, m=m)\n",
    "sn_cross_term_red = sn(n=n, m=m, dof=dof, cov=cross_term_cov_red, measurements=cross_term_red)\n",
    "print(chi2_cross_term_red, sn_cross_term_red)"
   ]
  },
  {
   "cell_type": "code",
   "execution_count": 142,
   "id": "0928c900",
   "metadata": {},
   "outputs": [
    {
     "name": "stdout",
     "output_type": "stream",
     "text": [
      "15.956030595228226 nan\n"
     ]
    },
    {
     "name": "stderr",
     "output_type": "stream",
     "text": [
      "/var/folders/k7/xk17x8f56cs0qfbgc1vnw58r0000gn/T/ipykernel_6865/938614752.py:13: RuntimeWarning: invalid value encountered in sqrt\n",
      "  sn = np.sqrt(chi2-dof)\n"
     ]
    }
   ],
   "source": [
    "chi2_cross_term_blue = chi2_null(cov=cross_term_cov_blue, measurements=cross_term_blue, n=n, m=m)\n",
    "sn_cross_term_blue = sn(n=n, m=m, dof=dof, cov=cross_term_cov_blue, measurements=cross_term_blue)\n",
    "print(chi2_cross_term_blue, sn_cross_term_blue)"
   ]
  },
  {
   "cell_type": "markdown",
   "id": "32116aa9",
   "metadata": {},
   "source": [
    "We call the function to plot the shear of the randoms sample and calculate the $\\chi^2$. Note that we do not produce a measurable signal for the randoms term, confirming our expectations."
   ]
  },
  {
   "cell_type": "code",
   "execution_count": 143,
   "id": "9bb318da",
   "metadata": {},
   "outputs": [
    {
     "data": {
      "image/png": "[encoded data removed]",
      "text/plain": [
       "<Figure size 360x252 with 1 Axes>"
      ]
     },
     "metadata": {
      "needs_background": "light"
     },
     "output_type": "display_data"
    }
   ],
   "source": [
    "plot_ran_shear(theta_randoms=theta_randoms, xi_randoms=xi_randoms, err_jk_randoms=err_jk_randoms)"
   ]
  },
  {
   "cell_type": "code",
   "execution_count": 144,
   "id": "14a52e54",
   "metadata": {},
   "outputs": [
    {
     "name": "stdout",
     "output_type": "stream",
     "text": [
      "3.2121370063944616 nan\n"
     ]
    },
    {
     "name": "stderr",
     "output_type": "stream",
     "text": [
      "/var/folders/k7/xk17x8f56cs0qfbgc1vnw58r0000gn/T/ipykernel_6865/938614752.py:13: RuntimeWarning: invalid value encountered in sqrt\n",
      "  sn = np.sqrt(chi2-dof)\n"
     ]
    }
   ],
   "source": [
    "chi2_randoms = chi2_null(cov=randoms_cov, measurements=xi_randoms, n=n, m=m)\n",
    "sn_randoms = sn(n=n, m=m, dof=dof, cov=randoms_cov, measurements=xi_randoms)\n",
    "print(chi2_randoms, sn_randoms)"
   ]
  },
  {
   "cell_type": "markdown",
   "id": "a6b380ed",
   "metadata": {},
   "source": [
    "We plot the comparison between the shape noise and jackknife covariance diagonals for the red, blue, and total sample of galaxies over angular scales. The shape noise represents the combined uncertainty associated with the intrinsic ellipticity of the source galaxies and the shot noise from the Poisson statistic. Note that the jackknife covariance dominates at all scales. The color of each line represents the sample, with blue associated with blue LSBGs, red with red LSBGs, and black with the total sample. "
   ]
  },
  {
   "cell_type": "code",
   "execution_count": 145,
   "id": "9df68a8b",
   "metadata": {},
   "outputs": [
    {
     "data": {
      "image/png": "[encoded data removed]",
      "text/plain": [
       "<Figure size 432x324 with 1 Axes>"
      ]
     },
     "metadata": {
      "needs_background": "light"
     },
     "output_type": "display_data"
    }
   ],
   "source": [
    "noise_diag(theta_arr=theta_arr, error_arr=error_arr, err_jk_arr=err_jk_arr, color_arr=color_arr)"
   ]
  },
  {
   "cell_type": "markdown",
   "id": "2bb5caa9",
   "metadata": {},
   "source": [
    "We plot the correlation matrices for the jackknife covariance of the red LSBGs and blue LSBGs. The *x* and *y* axes correspond to the angular bins of the tangential shear measurements. At larger scales (bins>14), the correlation between bins grows stronger."
   ]
  },
  {
   "cell_type": "code",
   "execution_count": 96,
   "id": "8f364d7f",
   "metadata": {},
   "outputs": [
    {
     "data": {
      "image/png": "[encoded data removed]",
      "text/plain": [
       "<Figure size 322.667x264 with 2 Axes>"
      ]
     },
     "metadata": {
      "needs_background": "light"
     },
     "output_type": "display_data"
    }
   ],
   "source": [
    "plot_cov(cov=cov_red, size=6, colormap='Reds')"
   ]
  },
  {
   "cell_type": "code",
   "execution_count": 97,
   "id": "7f5acb48",
   "metadata": {},
   "outputs": [
    {
     "data": {
      "image/png": "[encoded data removed]",
      "text/plain": [
       "<Figure size 322.667x264 with 2 Axes>"
      ]
     },
     "metadata": {
      "needs_background": "light"
     },
     "output_type": "display_data"
    }
   ],
   "source": [
    "plot_cov(cov=cov_blue, size=6, colormap='Blues')"
   ]
  },
  {
   "cell_type": "markdown",
   "id": "518fd982",
   "metadata": {},
   "source": [
    "## Boost Factor Evaluation"
   ]
  },
  {
   "cell_type": "markdown",
   "id": "aa5c74b7",
   "metadata": {},
   "source": [
    "We call the functions to plot the boost factors for the red and blue LSBG samples and calculate the $\\chi^2$. The errorbars come from the jackknife covariance. The boost factor measurements are highly correlated and consistent with 1 for both red and blue galaxies. The increased size of the red galaxy errorbars stems from the higher spatial variation between the red galaxy positions in the DES footprint and the resulting increased covariance measurements. "
   ]
  },
  {
   "cell_type": "code",
   "execution_count": 65,
   "id": "c1167633",
   "metadata": {},
   "outputs": [
    {
     "data": {
      "image/png": "[encoded data removed]",
      "text/plain": [
       "<Figure size 432x288 with 1 Axes>"
      ]
     },
     "metadata": {
      "needs_background": "light"
     },
     "output_type": "display_data"
    }
   ],
   "source": [
    "boost_plot(theta_boost_arr=theta_boost_arr, boost_factor_arr=boost_factor_arr, boost_factor_cov_arr=boost_factor_cov_arr, color_arr_boost=color_arr_boost)\n"
   ]
  },
  {
   "cell_type": "markdown",
   "id": "d2bfdf2a",
   "metadata": {},
   "source": [
    "## Alternative Blue Measurements Cut"
   ]
  },
  {
   "cell_type": "markdown",
   "id": "1828961f",
   "metadata": {},
   "source": [
    "We include tangential shear measurements a \"bluer\" sample of the blue LSBGs, with a cutoff of $g-i<0.4$, for further analysis"
   ]
  },
  {
   "cell_type": "code",
   "execution_count": 72,
   "id": "a02dabcb",
   "metadata": {},
   "outputs": [
    {
     "data": {
      "image/png": "[encoded data removed]",
      "text/plain": [
       "<Figure size 360x252 with 1 Axes>"
      ]
     },
     "metadata": {
      "needs_background": "light"
     },
     "output_type": "display_data"
    }
   ],
   "source": [
    "fig = plt.figure(figsize=(5,3.5))\n",
    "plt.errorbar(theta_blue_alt*1.15, xi_blue_alt, err_jk_blue_alt, fmt=\"x\", color='purple', label='Alternative Blue LSBG Measurement')\n",
    "plt.errorbar(theta_blue, xi_blue, err_jk_blue, fmt=\"o\", color='royalblue', label='Fiducial Blue LSBG Measurement')\n",
    "plt.yscale('log')\n",
    "plt.xscale('log')\n",
    "plt.xlabel(\"$\\\\theta$ [arcmin]\")\n",
    "plt.ylabel(\"$\\gamma_t(\\\\theta)$\")\n",
    "plt.ylim(10**(-6),  3*10**(-2))\n",
    "plt.legend(frameon=False)\n",
    "plt.show()"
   ]
  },
  {
   "cell_type": "markdown",
   "id": "81e5742f",
   "metadata": {},
   "source": [
    "## Summary"
   ]
  },
  {
   "cell_type": "markdown",
   "id": "da32455d",
   "metadata": {},
   "source": [
    "In this notebook you've learned how to: \n",
    "* Plot the tangential shear measurements for the red, blue, and total LSBG sample\n",
    "* Analyze the $\\gamma_\\times$ term and the shear of the randoms sample\n",
    "* Compare the shape noise to the jackknife covariance\n",
    "* Examine the boost factors\n",
    "* Compare the additional color-cut blue LSBG measurements to the fiducial sample"
   ]
  }
 ],
 "metadata": {
  "kernelspec": {
   "display_name": "Python 3 (ipykernel)",
   "language": "python",
   "name": "python3"
  },
  "language_info": {
   "codemirror_mode": {
    "name": "ipython",
    "version": 3
   },
   "file_extension": ".py",
   "mimetype": "text/x-python",
   "name": "python",
   "nbconvert_exporter": "python",
   "pygments_lexer": "ipython3",
   "version": "3.9.12"
  }
 },
 "nbformat": 4,
 "nbformat_minor": 5
}

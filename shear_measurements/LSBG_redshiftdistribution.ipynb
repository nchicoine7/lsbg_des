{
 "cells": [
  {
   "cell_type": "markdown",
   "id": "4ea7cad2",
   "metadata": {},
   "source": [
    "# LSBG Redshift Distribution"
   ]
  },
  {
   "cell_type": "markdown",
   "id": "463873fc",
   "metadata": {},
   "source": [
    "Following the work of [Gatti & Giannini+2020](https://arxiv.org/abs/2012.08569), we use a modified version of the clustering redshift method to derive the redshift distributions of the red and blue LSBG lens samples ([Tangolidis et al. 2020](https://arxiv.org/pdf/2006.04294.pdfLSBGs)). The clustering redshifts method estimates the redshift distribution of an \"unknown\" galaxy sample by exploiting the two-point correlation signal between the unknown sample and a \"reference\" sample of galaxies with trusted redshifts. We cross-correlate the positions of the LSBG catalog with the positions of the all-sky 2MASS Photometric Redshift catalog ([Bilicki+2014](https://arxiv.org/abs/1311.5246)), which contains approximately $10^6$ galaxies. For the red LSBG sample, with $g-i>0.6$, we divide the reference sample redshifts into thin bins with a width of 0.01 over the range $[0.0-0.14]$, finding little cross-correlation signal beyond this range. For the blue sample ($g-i<0.6$), we use bin widths of 0.02 over the range $[0.0-0.20]$. We obtain the necessary cross-correlation measurements using [TreeCorr](https://rmjarvis.github.io/TreeCorr/_build/html/index.html). \n",
    "\n",
    "Note: The randoms footprint ('y3a2_footprint_grizY_any.fits') and the 2MPZ catalog ('2MPZ.fits') are too large to store in github and are available upon request."
   ]
  },
  {
   "cell_type": "markdown",
   "id": "4dc4a015",
   "metadata": {},
   "source": [
    "## Imports"
   ]
  },
  {
   "cell_type": "markdown",
   "id": "39d3f357",
   "metadata": {},
   "source": [
    "* We use numpy for numerical calculation and analysis\n",
    "* We use matplotlib for plotting and visualization\n",
    "* We use fits to open the 2MPZ catalog\n",
    "* We use treecorr for the cross-correlation and autocorrelation measurements\n",
    "* We use pandas to open csv files\n",
    "* We use healpy to open the LSBG footprint file"
   ]
  },
  {
   "cell_type": "code",
   "execution_count": 1,
   "id": "d9f59150",
   "metadata": {},
   "outputs": [],
   "source": [
    "#Loading packages\n",
    "import matplotlib.pyplot as plt\n",
    "import numpy as np\n",
    "plt.rc('text', usetex=True)\n",
    "plt.rc('font', family='serif')\n",
    "import numpy as np\n",
    "import treecorr\n",
    "import pandas as pd\n",
    "from astropy.io import fits\n",
    "import healpy as hp\n"
   ]
  },
  {
   "cell_type": "markdown",
   "id": "4707bd0f",
   "metadata": {},
   "source": [
    "## Theory Walkthrough"
   ]
  },
  {
   "cell_type": "markdown",
   "id": "19c6c618",
   "metadata": {},
   "source": [
    "The clustering redshift signal represents an integral over the product of each population's galaxy-matter bias with the dark matter density two-point correlation function. We follow the procedure used in [Greene+2022](https://ui.adsabs.harvard.edu/abs/2022ApJ...933..150G/abstract) and proposed by [Ménard+2013](https://arxiv.org/abs/1303.4722) and [Schmidt+2013](https://arxiv.org/abs/1303.0292), which describes how we can safely ignore the galaxy bias terms so long as the number density of the unknown sample varies more rapidly than the galaxy bias evolution. With this assumption in hand, the redshift distribution can be estimated at the central redshift of each bin $z_i$ as $$n_u(z_i) \\propto \\frac{\\bar{w}_{ur}(z_i)}{w_{DM}(z_i)},$$ where $\\bar{w}_{ur}(z_i)$ is the cross-correlation measurement averaged over a given set of angular scales via $$\\bar{w}_{ur} = \\int_{\\theta_\\mathrm{min}}^{\\theta_\\mathrm{max}} W(\\theta)w_{ur}d\\theta.$$ We use $W(\\theta)\\propto \\theta^{-1}$ as a weighting function to yield optimal S/N in the presence of shot noise. $w_{DM}(z_i)$ is the dark matter density two-point correlation function, which we estimate analytically using the public version of $\\texttt{CosmoSIS}$ ([Zuntz+2015](https://arxiv.org/abs/1409.3409)) and the revised fitting function $\\texttt{Halofit}$ from [Takahashi+2012](https://arxiv.org/abs/1208.2701). We average these measurements over the following means of the angular scale bins: $\\theta=[32.45, 45.23, 63.25]$ arcmin, which correspond to a physical scale range of 0.20-9.37 Mpc. These angular bins act as middle points between the smallest scales that adhere to the theoretical requirements of the $w_{DM}$ term and larger scales with increased errorbars that may suffer from observational systematic effects. We compute the cross-correlation signal as a function of angular scale by using the [Davis & Peebles+1983](https://ui.adsabs.harvard.edu/abs/1983ApJ...267..465D/abstract) estimator: $$w_{ur}(\\theta) = \\frac{N_{Rr}}{N_{Dr}}\\frac{D_u D_r(\\theta)}{D_u R_r (\\theta)} -1, $$ where $D_u D_r (\\theta)$ and $D_u R_r (\\theta)$ are the data-data and data-random pairs and $N_{Rr}$ and $N_{Dr}$ are the total number of galaxies in the reference sample and the reference random catalog. "
   ]
  },
  {
   "cell_type": "markdown",
   "id": "8851f677",
   "metadata": {},
   "source": [
    "## Loading Data"
   ]
  },
  {
   "cell_type": "markdown",
   "id": "9de0b722",
   "metadata": {},
   "source": [
    "### $W_{DM}$  Measurements "
   ]
  },
  {
   "cell_type": "markdown",
   "id": "97064f67",
   "metadata": {},
   "source": [
    "We load in the dark matter two-point correlation function measurements, extracted using $\\texttt{CosmoSiS}$. "
   ]
  },
  {
   "cell_type": "code",
   "execution_count": 2,
   "id": "1996d282",
   "metadata": {},
   "outputs": [],
   "source": [
    "bin_1_wdm = np.loadtxt('../data/bin_1_1_red.txt')\n",
    "bin_2_wdm = np.loadtxt('../data/bin_2_2_red.txt')\n",
    "bin_3_wdm = np.loadtxt('../data/bin_3_3_red.txt')\n",
    "bin_4_wdm = np.loadtxt('../data/bin_4_4_red.txt')\n",
    "bin_5_wdm = np.loadtxt('../data/bin_5_5_red.txt')\n",
    "bin_6_wdm = np.loadtxt('../data/bin_6_6_red.txt')\n",
    "bin_7_wdm = np.loadtxt('../data/bin_7_7_red.txt')\n",
    "bin_8_wdm = np.loadtxt('../data/bin_8_8_red.txt')\n",
    "bin_9_wdm = np.loadtxt('../data/bin_9_9_red.txt')\n",
    "bin_10_wdm = np.loadtxt('../data/bin_10_10_red.txt')\n",
    "bin_11_wdm = np.loadtxt('../data/bin_11_11_red.txt')\n",
    "bin_12_wdm = np.loadtxt('../data/bin_12_12_red.txt')\n",
    "bin_13_wdm = np.loadtxt('../data/bin_13_13_red.txt')\n",
    "bin_14_wdm = np.loadtxt('../data/bin_14_14_red.txt')"
   ]
  },
  {
   "cell_type": "code",
   "execution_count": 3,
   "id": "9ea79a6a",
   "metadata": {},
   "outputs": [],
   "source": [
    "bin_1_wdm_blue = np.loadtxt('../data/bin_1_1_blue.txt')\n",
    "bin_2_wdm_blue = np.loadtxt('../data/bin_2_2_blue.txt')\n",
    "bin_3_wdm_blue = np.loadtxt('../data/bin_3_3_blue.txt')\n",
    "bin_4_wdm_blue = np.loadtxt('../data/bin_4_4_blue.txt')\n",
    "bin_5_wdm_blue = np.loadtxt('../data/bin_5_5_blue.txt')\n",
    "bin_6_wdm_blue = np.loadtxt('../data/bin_6_6_blue.txt')\n",
    "bin_7_wdm_blue = np.loadtxt('../data/bin_7_7_blue.txt')\n",
    "bin_8_wdm_blue = np.loadtxt('../data/bin_8_8_blue.txt')\n",
    "bin_9_wdm_blue = np.loadtxt('../data/bin_9_9_blue.txt')\n",
    "bin_10_wdm_blue = np.loadtxt('../data/bin_10_10_blue.txt')\n"
   ]
  },
  {
   "cell_type": "markdown",
   "id": "631a6fc6",
   "metadata": {},
   "source": [
    "We collect the $w_{DM}$ terms into arrays for easier access"
   ]
  },
  {
   "cell_type": "code",
   "execution_count": 4,
   "id": "cec2217c",
   "metadata": {},
   "outputs": [],
   "source": [
    "wdm_arr_red = np.array([bin_1_wdm, bin_2_wdm, bin_3_wdm, bin_4_wdm, bin_5_wdm, bin_6_wdm, bin_7_wdm, bin_8_wdm, bin_9_wdm, bin_10_wdm, bin_11_wdm, bin_12_wdm, bin_13_wdm, bin_14_wdm])\n",
    "wdm_arr_blue = np.array([bin_1_wdm_blue, bin_2_wdm_blue, bin_3_wdm_blue, bin_4_wdm_blue, bin_5_wdm_blue, bin_6_wdm_blue, bin_7_wdm_blue, bin_8_wdm_blue, bin_9_wdm_blue, bin_10_wdm_blue])\n"
   ]
  },
  {
   "cell_type": "markdown",
   "id": "68e799b3",
   "metadata": {},
   "source": [
    "## LSBG Catalog"
   ]
  },
  {
   "cell_type": "markdown",
   "id": "a69dd4f5",
   "metadata": {},
   "source": [
    "We load in the LSBG catalog (the unknown sample) and construct the photometric masks for the red and blue LSBG samples."
   ]
  },
  {
   "cell_type": "code",
   "execution_count": 5,
   "id": "ef8f1add",
   "metadata": {},
   "outputs": [],
   "source": [
    "#LSBG catalog (unknown) \n",
    "lens_file=pd.read_csv(r'../data/LSBG_catalog_v2.csv')\n",
    "lens_lsbg=pd.DataFrame(lens_file, columns=['ra_se','dec_se','mag_gfm_g_corr','mag_gfm_i_corr']) #Selecting lens columns\n",
    "g = lens_lsbg['mag_gfm_g_corr']\n",
    "i = lens_lsbg['mag_gfm_i_corr']\n",
    "mask_red = (g-i >=0.60) #Red and blue galaxy masks\n",
    "mask_blue = (g-i<=0.60)"
   ]
  },
  {
   "cell_type": "markdown",
   "id": "6a9fcdcf",
   "metadata": {},
   "source": [
    "## Randoms Sample"
   ]
  },
  {
   "cell_type": "markdown",
   "id": "75a1b5bf",
   "metadata": {},
   "source": [
    "We construct the random catalog based on the LSBG catalog footprint. "
   ]
  },
  {
   "cell_type": "code",
   "execution_count": 6,
   "id": "8348adc1",
   "metadata": {},
   "outputs": [],
   "source": [
    "#Setting up random catalog\n",
    "MAP = hp.read_map('../data/y3a2_footprint_grizY_any.fits')\n",
    "conv = np.pi/180.\n",
    "ra_min = -70.0*conv\n",
    "ra_max = 110.*conv\n",
    "dec_min = -70.*conv\n",
    "dec_max = 10.*conv\n",
    "rand_ra = np.random.uniform(ra_min, ra_max, 10**7)\n",
    "rand_sindec = np.random.uniform(np.sin(dec_min), np.sin(dec_max), 10**7)\n",
    "rand_dec = np.arcsin(rand_sindec)\n",
    "#Get the healpix indices of the randoms\n",
    "HP_ind_rand = hp.ang2pix(4096, rand_ra/conv, rand_dec/conv, lonlat=True)\n",
    "#Get a mask - 1 inside the DES mask, keeping only the randoms within the DES mask\n",
    "DES_mask = np.zeros(len(MAP))\n",
    "DES_mask[MAP>0] = 1\n",
    "#Keeping the local mask\n",
    "LOCAL_mask_rand = DES_mask[HP_ind_rand]\n",
    "#Keeping those with LOCAL_mask=1\n",
    "rand_ra_pos = rand_ra[LOCAL_mask_rand==1]\n",
    "rand_dec_pos = rand_dec[LOCAL_mask_rand==1]\n",
    "\n"
   ]
  },
  {
   "cell_type": "markdown",
   "id": "9ccd5a97",
   "metadata": {},
   "source": [
    "We produce a treecorr catalog for the randoms and for the red and blue LSBGs."
   ]
  },
  {
   "cell_type": "code",
   "execution_count": 7,
   "id": "5bc0ec58",
   "metadata": {},
   "outputs": [],
   "source": [
    "irancat = treecorr.Catalog(ra=rand_ra_pos, dec=rand_dec_pos, ra_units='radians', dec_units='radians', npatch=100) \n",
    "irancat.write_patch_centers('patch_file')\n",
    "\n",
    "icat_red = treecorr.Catalog(ra=lens_lsbg['ra_se'][mask_red], dec=lens_lsbg['dec_se'][mask_red], ra_units='deg', dec_units='deg', patch_centers='patch_file') \n",
    "icat_blue = treecorr.Catalog(ra=lens_lsbg['ra_se'][mask_blue], dec=lens_lsbg['dec_se'][mask_blue], ra_units='deg', dec_units='deg', patch_centers='patch_file') \n"
   ]
  },
  {
   "cell_type": "markdown",
   "id": "402bef8c",
   "metadata": {},
   "source": [
    "## 2MPZ Catalog"
   ]
  },
  {
   "cell_type": "markdown",
   "id": "a33485cc",
   "metadata": {},
   "source": [
    "We load in the 2MPZ catalog, or the reference sample. We apply a mask so the 2MPZ catalog follows the same footprint as the randoms and LSBG sample."
   ]
  },
  {
   "cell_type": "code",
   "execution_count": 8,
   "id": "a0aeceec",
   "metadata": {},
   "outputs": [],
   "source": [
    "mpz_cat = fits.open('../data/2MPZ.fits')\n",
    "rad_to_deg =  180.0/np.pi\n",
    "ra_mpz = rad_to_deg*mpz_cat[1].data['RA']\n",
    "dec_mpz = rad_to_deg*mpz_cat[1].data['DEC']\n",
    "z_mpz = mpz_cat[1].data['ZPHOTO']\n",
    "for i in range(len(ra_mpz)):\n",
    "    if (ra_mpz[i] > 150.):\n",
    "        ra_mpz[i] = ra_mpz[i]-360.\n",
    "box = (ra_mpz>-70.0)&(ra_mpz<110.)&(dec_mpz>-70.0)&(dec_mpz<10.0)\n",
    "ra_mpz = ra_mpz[box]\n",
    "dec_mpz = dec_mpz[box]\n",
    "z_mpz = z_mpz[box]\n",
    "DES_mask = np.zeros(len(MAP))\n",
    "DES_mask[MAP>0] = 1\n"
   ]
  },
  {
   "cell_type": "markdown",
   "id": "c9b5e829",
   "metadata": {},
   "source": [
    "## Cross Correlation Measurements"
   ]
  },
  {
   "cell_type": "markdown",
   "id": "048bea18",
   "metadata": {},
   "source": [
    "We define a function that produces the cross-correlation measurements between the reference and the unknown sample. First, the function splits the reference sample (2MPZ catalog) based on the redshift binning of the dark matter two-point correlation function. Then, the cross-correlation measurements between the reference sample, the unknown sample, and the randoms sample are performed. The function returns the cross-correlation measurements and the angular scales (in arcminutes). "
   ]
  },
  {
   "cell_type": "code",
   "execution_count": 9,
   "id": "dcea4d60",
   "metadata": {},
   "outputs": [],
   "source": [
    "def cross_correlation(wdm_length=None, bin_width=None, ra_ref=None, dec_ref=None, z_ref=None, icat=None, irancat=None):\n",
    "    \"\"\"\n",
    "    Performs the cross-correlation measurements between the unknown and reference sample\n",
    "    \n",
    "    wdm_length = length of the dark matter two-point correlation array\n",
    "    bin_width = width of redshift bins in the reference sample \n",
    "    ra_ref = reference sample RA (deg)\n",
    "    dec_ref = reference sample DEC (deg)\n",
    "    z_ref = redshifts of reference sample\n",
    "    icat = unknown sample treecorr catalog (in this case, LSBG catalog)\n",
    "    irancat = randoms catalog\n",
    "    \n",
    "    Returns: list of cross correlations and angular bins\n",
    "    \"\"\"\n",
    "    nn_list = []\n",
    "    theta_list = []\n",
    "    for i in range(wdm_length):\n",
    "    #We define the limits of the redshift bins\n",
    "        ra_ref_loop = ra_ref[((bin_width*i)<z_ref) & (z_ref<(bin_width*(i+1)))]\n",
    "        dec_ref_loop = dec_ref[((bin_width*i)<z_ref) & (z_ref<(bin_width*(i+1)))]\n",
    "        HP_ind_ref = hp.ang2pix(4096, ra_ref_loop, dec_ref_loop, lonlat=True)\n",
    "        LOCAL_mask_ref = DES_mask[HP_ind_ref]\n",
    "        ra_ref_in = ra_ref_loop[LOCAL_mask_ref==1]\n",
    "        dec_ref_in = dec_ref_loop[LOCAL_mask_ref==1]\n",
    "        jcat = treecorr.Catalog(ra=ra_ref_in, dec=dec_ref_in, ra_units='deg', dec_units='deg', patch_centers='patch_file')\n",
    "    \n",
    "        #We calculate the cross-correlations, random-correlations, and data-random correlations\n",
    "        nn = treecorr.NNCorrelation(nbins=22, min_sep=.25, max_sep=400, sep_units='arcmin')\n",
    "        nn.process(icat, jcat, low_mem=True)\n",
    "        rr = treecorr.NNCorrelation(nbins=22, min_sep=.25, max_sep=400, sep_units='arcmin')\n",
    "        rr.process(irancat, jcat, low_mem=True)\n",
    "            \n",
    "        nn.calculateXi(rr)\n",
    "        xi=np.array(nn.xi) \n",
    "        theta=np.exp(nn.logr)\n",
    "        var=nn.varxi \n",
    "        cov_jk=nn.estimate_cov('jackknife') \n",
    "\n",
    "        nn_list.append(nn)\n",
    "        theta_list.append(theta)\n",
    "    return nn_list, theta_list\n"
   ]
  },
  {
   "cell_type": "code",
   "execution_count": 10,
   "id": "4441d72c",
   "metadata": {},
   "outputs": [
    {
     "name": "stdout",
     "output_type": "stream",
     "text": [
      "WARNING: Some patch numbers do not contain any objects!\n",
      "The following patch numbers have no objects: {0, 2, 9, 19, 20, 23, 24, 25, 26, 28, 30, 31, 32, 33, 41, 42, 43, 46, 52, 54, 58, 61, 64, 66, 70, 74, 76, 81, 82}\n",
      "This may be a problem depending on your use case.\n"
     ]
    },
    {
     "name": "stderr",
     "output_type": "stream",
     "text": [
      "/Users/nathaliechicoine/opt/anaconda3/lib/python3.9/site-packages/treecorr/util.py:665: FutureWarning: Use of keyword-only arguments as positional arguments is deprecated in the function calculateXi. The following parameters now require an explicit keyword name: ['rr']\n",
      "  warnings.warn(\n"
     ]
    }
   ],
   "source": [
    "nn_list_red, theta_list_red = cross_correlation(wdm_length=len(wdm_arr_red), bin_width=0.01, ra_ref=ra_mpz, dec_ref=dec_mpz, z_ref=z_mpz, icat=icat_red, irancat=irancat)\n",
    "\n",
    "nn_list_blue, theta_list_blue = cross_correlation(wdm_length=len(wdm_arr_blue), bin_width=0.02, ra_ref=ra_mpz, dec_ref=dec_mpz, z_ref=z_mpz, icat=icat_blue, irancat=irancat)\n",
    "\n"
   ]
  },
  {
   "cell_type": "markdown",
   "id": "ae51d876",
   "metadata": {},
   "source": [
    "As discussed, we average the cross correlation measurements over the means of the angular scale bins $\\theta=[32.45, 45.23, 63.26]$. We extract the corresponding angular scales from the dark matter two-point correlation arrays."
   ]
  },
  {
   "cell_type": "code",
   "execution_count": 11,
   "id": "9fa324aa",
   "metadata": {},
   "outputs": [],
   "source": [
    "corrs_red = nn_list_red\n",
    "w_dm_index14_red = wdm_arr_red[:,14]\n",
    "w_dm_index15_red = wdm_arr_red[:,15]\n",
    "w_dm_index16_red = wdm_arr_red[:,16]\n"
   ]
  },
  {
   "cell_type": "code",
   "execution_count": 12,
   "id": "233274c0",
   "metadata": {},
   "outputs": [],
   "source": [
    "corrs_blue = nn_list_blue\n",
    "w_dm_index14_blue = wdm_arr_blue[:,14]\n",
    "w_dm_index15_blue = wdm_arr_blue[:,15]\n",
    "w_dm_index16_blue = wdm_arr_blue[:,16]\n"
   ]
  },
  {
   "cell_type": "code",
   "execution_count": 13,
   "id": "9f70e02c",
   "metadata": {},
   "outputs": [],
   "source": [
    "theta_red = np.array(theta_list_red)[0,:]\n",
    "theta_blue = np.array(theta_list_blue)[0,:]"
   ]
  },
  {
   "cell_type": "markdown",
   "id": "a057ceb3",
   "metadata": {},
   "source": [
    "In treecorr, to properly extract the jackknife covariance from a derived function we must use lambda functions. We define lambda functions for the red and blue redshift distributions. As described, the cross-correlation measurements for each redshift bin are averaged over the selected angular scales, divided by the dark matter two-point correlation function, and weighted by $\\theta^{-1}$."
   ]
  },
  {
   "cell_type": "code",
   "execution_count": 14,
   "id": "716f5f37",
   "metadata": {},
   "outputs": [],
   "source": [
    "func_red = lambda corrs_red: (\n",
    "        np.average([\n",
    "            (np.array([corrs_red[0].xi, corrs_red[1].xi, corrs_red[2].xi, corrs_red[3].xi, corrs_red[4].xi, corrs_red[5].xi, corrs_red[6].xi, corrs_red[7].xi, corrs_red[8].xi, corrs_red[9].xi, corrs_red[10].xi, corrs_red[11].xi, corrs_red[12].xi, corrs_red[13].xi])[:,14]) /(w_dm_index14_red)*(1/theta_red[14]),\n",
    "            (np.array([corrs_red[0].xi, corrs_red[1].xi, corrs_red[2].xi, corrs_red[3].xi, corrs_red[4].xi, corrs_red[5].xi, corrs_red[6].xi, corrs_red[7].xi, corrs_red[8].xi, corrs_red[9].xi, corrs_red[10].xi, corrs_red[11].xi, corrs_red[12].xi, corrs_red[13].xi])[:,15]) / (w_dm_index15_red)*(1/theta_red[15]),\n",
    "            (np.array([corrs_red[0].xi, corrs_red[1].xi, corrs_red[2].xi, corrs_red[3].xi, corrs_red[4].xi, corrs_red[5].xi, corrs_red[6].xi, corrs_red[7].xi, corrs_red[8].xi, corrs_red[9].xi, corrs_red[10].xi, corrs_red[11].xi, corrs_red[12].xi, corrs_red[13].xi])[:,16]) / (w_dm_index16_red)*(1/theta_red[16])], axis=0) /\n",
    "        np.trapz(np.average([\n",
    "            (np.array([corrs_red[0].xi, corrs_red[1].xi, corrs_red[2].xi, corrs_red[3].xi, corrs_red[4].xi, corrs_red[5].xi, corrs_red[6].xi, corrs_red[7].xi, corrs_red[8].xi, corrs_red[9].xi, corrs_red[10].xi, corrs_red[11].xi, corrs_red[12].xi, corrs_red[13].xi])[:,14]) /(w_dm_index14_red)*(1/theta_red[14]),\n",
    "            (np.array([corrs_red[0].xi, corrs_red[1].xi, corrs_red[2].xi, corrs_red[3].xi, corrs_red[4].xi, corrs_red[5].xi, corrs_red[6].xi, corrs_red[7].xi, corrs_red[8].xi, corrs_red[9].xi, corrs_red[10].xi, corrs_red[11].xi, corrs_red[12].xi, corrs_red[13].xi])[:,15]) / (w_dm_index15_red)*(1/theta_red[15]),\n",
    "            (np.array([corrs_red[0].xi, corrs_red[1].xi, corrs_red[2].xi, corrs_red[3].xi, corrs_red[4].xi, corrs_red[5].xi, corrs_red[6].xi, corrs_red[7].xi, corrs_red[8].xi, corrs_red[9].xi, corrs_red[10].xi, corrs_red[11].xi, corrs_red[12].xi, corrs_red[13].xi])[:,16]) /(w_dm_index16_red)*(1/theta_red[16])], axis=0), axis=0))\n",
    "\n"
   ]
  },
  {
   "cell_type": "code",
   "execution_count": 15,
   "id": "ce1e898c",
   "metadata": {},
   "outputs": [
    {
     "name": "stderr",
     "output_type": "stream",
     "text": [
      "/Users/nathaliechicoine/opt/anaconda3/lib/python3.9/site-packages/treecorr/util.py:665: FutureWarning: Use of keyword-only arguments as positional arguments is deprecated in the function estimate_multi_cov. The following parameters now require an explicit keyword name: ['func']\n",
      "  warnings.warn(\n"
     ]
    }
   ],
   "source": [
    "zldist_red = func_red(corrs_red)\n",
    "zl_covariance_red = treecorr.estimate_multi_cov(corrs_red, 'jackknife', func_red)\n"
   ]
  },
  {
   "cell_type": "code",
   "execution_count": 16,
   "id": "20b7a039",
   "metadata": {},
   "outputs": [],
   "source": [
    "func_blue = lambda corrs_blue: (\n",
    "        np.average([\n",
    "            (np.array([corrs_blue[0].xi, corrs_blue[1].xi, corrs_blue[2].xi, corrs_blue[3].xi, corrs_blue[4].xi, corrs_blue[5].xi, corrs_blue[6].xi, corrs_blue[7].xi, corrs_blue[8].xi, corrs_blue[9].xi])[:,14]) /(w_dm_index14_blue)*(1/theta_blue[14]),\n",
    "            (np.array([corrs_blue[0].xi, corrs_blue[1].xi, corrs_blue[2].xi, corrs_blue[3].xi, corrs_blue[4].xi, corrs_blue[5].xi, corrs_blue[6].xi, corrs_blue[7].xi, corrs_blue[8].xi, corrs_blue[9].xi])[:,15]) /(w_dm_index15_blue)*(1/theta_blue[15]),\n",
    "            (np.array([corrs_blue[0].xi, corrs_blue[1].xi, corrs_blue[2].xi, corrs_blue[3].xi, corrs_blue[4].xi, corrs_blue[5].xi, corrs_blue[6].xi, corrs_blue[7].xi, corrs_blue[8].xi, corrs_blue[9].xi])[:,16]) /(w_dm_index16_blue)*(1/theta_blue[16])], axis=0) /\n",
    "        np.trapz(np.average([\n",
    "            (np.array([corrs_blue[0].xi, corrs_blue[1].xi, corrs_blue[2].xi, corrs_blue[3].xi, corrs_blue[4].xi, corrs_blue[5].xi, corrs_blue[6].xi, corrs_blue[7].xi, corrs_blue[8].xi, corrs_blue[9].xi])[:,14]) /(w_dm_index14_blue)*(1/theta_blue[14]),\n",
    "            (np.array([corrs_blue[0].xi, corrs_blue[1].xi, corrs_blue[2].xi, corrs_blue[3].xi, corrs_blue[4].xi, corrs_blue[5].xi, corrs_blue[6].xi, corrs_blue[7].xi, corrs_blue[8].xi, corrs_blue[9].xi])[:,15]) /(w_dm_index15_blue)*(1/theta_blue[15]),\n",
    "            (np.array([corrs_blue[0].xi, corrs_blue[1].xi, corrs_blue[2].xi, corrs_blue[3].xi, corrs_blue[4].xi, corrs_blue[5].xi, corrs_blue[6].xi, corrs_blue[7].xi, corrs_blue[8].xi, corrs_blue[9].xi])[:,16]) /(w_dm_index16_blue)*(1/theta_blue[16])], axis=0), axis=0))\n"
   ]
  },
  {
   "cell_type": "code",
   "execution_count": 17,
   "id": "11ab670f",
   "metadata": {},
   "outputs": [],
   "source": [
    "zldist_blue = func_blue(corrs_blue)\n",
    "\n",
    "\n",
    "zl_covariance_blue = treecorr.estimate_multi_cov(corrs_blue, 'jackknife', func_blue)\n"
   ]
  },
  {
   "cell_type": "markdown",
   "id": "b9174550",
   "metadata": {},
   "source": [
    "We plot the resulting redshift distributions, with the diagonals of the square roots of the jackknife covariance matrix included as errorbars. "
   ]
  },
  {
   "cell_type": "code",
   "execution_count": 18,
   "id": "0ae856e7",
   "metadata": {},
   "outputs": [],
   "source": [
    "redshift_range_red = np.linspace(0.005, 0.135, 14)\n",
    "redshift_range_blue = np.linspace(0.01, 0.19, 10)\n"
   ]
  },
  {
   "cell_type": "code",
   "execution_count": 19,
   "id": "2946106b",
   "metadata": {},
   "outputs": [
    {
     "name": "stderr",
     "output_type": "stream",
     "text": [
      "/var/folders/k7/xk17x8f56cs0qfbgc1vnw58r0000gn/T/ipykernel_91454/3773136309.py:2: RuntimeWarning: invalid value encountered in sqrt\n",
      "  plt.errorbar(redshift_range_red, zldist_red, np.diag(np.sqrt(zl_covariance_red)), marker='o', color='firebrick', label='$\\\\mathrm{Red~LSBGs}$')\n",
      "/var/folders/k7/xk17x8f56cs0qfbgc1vnw58r0000gn/T/ipykernel_91454/3773136309.py:3: RuntimeWarning: invalid value encountered in sqrt\n",
      "  plt.errorbar(redshift_range_blue, zldist_blue, np.diag(np.sqrt(zl_covariance_blue)), marker='o', color='royalblue', label='$\\\\mathrm{Blue~LSBGs}$')\n"
     ]
    },
    {
     "data": {
      "image/png": "[encoded data removed]",
      "text/plain": [
       "<Figure size 432x324 with 1 Axes>"
      ]
     },
     "metadata": {
      "needs_background": "light"
     },
     "output_type": "display_data"
    }
   ],
   "source": [
    "fig = plt.figure(figsize=(6, 4.5))\n",
    "plt.errorbar(redshift_range_red, zldist_red, np.diag(np.sqrt(zl_covariance_red)), marker='o', color='firebrick', label='$\\\\mathrm{Red~LSBGs}$')\n",
    "plt.errorbar(redshift_range_blue, zldist_blue, np.diag(np.sqrt(zl_covariance_blue)), marker='o', color='royalblue', label='$\\\\mathrm{Blue~LSBGs}$')\n",
    "plt.xlabel('$z$', fontsize=16)\n",
    "plt.ylabel('$n(z)$', fontsize=16)\n",
    "plt.xlim(0.00, 0.195)\n",
    "plt.ylim(0.0,0.25)\n",
    "plt.tick_params(axis='both', labelsize=14)\n",
    "plt.legend(frameon=False, fontsize=14)\n",
    "plt.show()"
   ]
  },
  {
   "cell_type": "code",
   "execution_count": null,
   "id": "49717448",
   "metadata": {},
   "outputs": [],
   "source": []
  }
 ],
 "metadata": {
  "kernelspec": {
   "display_name": "Python 3 (ipykernel)",
   "language": "python",
   "name": "python3"
  },
  "language_info": {
   "codemirror_mode": {
    "name": "ipython",
    "version": 3
   },
   "file_extension": ".py",
   "mimetype": "text/x-python",
   "name": "python",
   "nbconvert_exporter": "python",
   "pygments_lexer": "ipython3",
   "version": "3.9.12"
  }
 },
 "nbformat": 4,
 "nbformat_minor": 5
}
